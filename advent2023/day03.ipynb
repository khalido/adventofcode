{
 "cells": [
  {
   "cell_type": "code",
   "execution_count": 660,
   "metadata": {},
   "outputs": [],
   "source": [
    "import math\n",
    "import re\n",
    "import string\n",
    "from dataclasses import dataclass, field\n",
    "from itertools import product\n",
    "\n",
    "import matplotlib.pyplot as plt\n",
    "import numpy as np\n",
    "\n",
    "import utils"
   ]
  },
  {
   "cell_type": "markdown",
   "metadata": {},
   "source": [
    "## Day 3: Gear Ratios\n",
    "\n",
    "[#](https://adventofcode.com/2023/day/3) - We have an engine schematic where any number adjacent to a symbol is a part number. Add up all the part numbers to find the missing part.\n",
    "\n",
    "A symbol is any character which is not a number or a period."
   ]
  },
  {
   "cell_type": "code",
   "execution_count": 328,
   "metadata": {},
   "outputs": [],
   "source": [
    "test: str = \"\"\"467..114..\n",
    "...*......\n",
    "..35..633.\n",
    "......#...\n",
    "617*......\n",
    ".....+.58.\n",
    "..592.....\n",
    "......755.\n",
    "...$.*....\n",
    ".664.598..\"\"\"\n",
    "\n",
    "inp = utils.get_input(3)"
   ]
  },
  {
   "cell_type": "markdown",
   "metadata": {},
   "source": [
    "This is a simple 2d grid, the twist here is that we're not just looking at adjacent cells, as the number can have multiple digits, e.g 633 would count as a part num, not just 63 (the bits adjacent to a cell).\n",
    "\n",
    "I'm going to deal with this by making a grid class which does basic grid operations - gets a number, finds adjacent cells etc. I've coded this before in past AOC's, but as an exercise doing it again here.\n",
    "\n",
    "To get a list of all symbols, assuming everything not a digit or a `.` is a symbol:"
   ]
  },
  {
   "cell_type": "code",
   "execution_count": 347,
   "metadata": {},
   "outputs": [
    {
     "data": {
      "text/plain": [
       "['+', '\\n', '$', '/', '&', '%', '*', '-', '@', '=', '#']"
      ]
     },
     "execution_count": 347,
     "metadata": {},
     "output_type": "execute_result"
    }
   ],
   "source": [
    "[char for char in set(inp) if char != \".\" and not char.isdigit()]"
   ]
  },
  {
   "cell_type": "markdown",
   "metadata": {},
   "source": [
    "This is a bit tricky... I was thinking of iterating through each char, checking if its a digit next to a symbol and and adding it to a list, but the twist in this problem is that continious numbers count as one number, e.g the first number is 467."
   ]
  },
  {
   "cell_type": "code",
   "execution_count": 662,
   "metadata": {},
   "outputs": [
    {
     "data": {
      "text/plain": [
       "527446"
      ]
     },
     "execution_count": 662,
     "metadata": {},
     "output_type": "execute_result"
    }
   ],
   "source": [
    "@dataclass\n",
    "class Grid:\n",
    "    inp: str\n",
    "    symbols: list = field(init=False)\n",
    "    grid: list = field(init=False)\n",
    "    symbol_positions: list = field(init=False)\n",
    "    parts: list = field(init=False)\n",
    "    rows: int = field(init=False)\n",
    "    cols: int = field(init=False)\n",
    "    num_positions: set = field(default_factory=set)\n",
    "\n",
    "    def __post_init__(self):\n",
    "        self.grid = self.make_grid(self.inp)\n",
    "        self.rows = len(self.grid)\n",
    "        self.cols = len(self.grid[0])\n",
    "        self.symbols = [\n",
    "            char for char in set(self.inp) if char != \".\" and not char.isdigit()\n",
    "        ]\n",
    "        self.symbol_positions = self.find_symbols(self.grid)\n",
    "        self.part_numbers = self.get_parts(self.grid)\n",
    "\n",
    "    def make_grid(self, inp: str = test):\n",
    "        \"\"\"transforms inp str into a list of lists\"\"\"\n",
    "        grid = []\n",
    "        for row in inp.strip().splitlines():\n",
    "            grid.append([char for char in row])\n",
    "        return grid\n",
    "\n",
    "    def find_symbols(self, grid):\n",
    "        \"\"\"returns a list of positions where symbols are present\"\"\"\n",
    "        symbol_positions = []\n",
    "        for y, row in enumerate(grid):\n",
    "            for x, char in enumerate(row):\n",
    "                if char in self.symbols:\n",
    "                    symbol_positions.append((x, y))\n",
    "        return symbol_positions\n",
    "\n",
    "    def get_adjacent(self, pos, diagnols=True):\n",
    "        \"\"\"returns a list of adjacent positions for one position\"\"\"\n",
    "        x, y = pos\n",
    "        xx = [n for n in range(x - 1, x + 2) if n >= 0 and n < self.rows]\n",
    "        yy = [n for n in range(y - 1, y + 2) if n >= 0 and n < self.cols]\n",
    "\n",
    "        return list([p for p in product(xx, yy) if p != pos])\n",
    "\n",
    "    def get_parts(self, grid):\n",
    "        \"\"\"returns a list of all valid part numbers\"\"\"\n",
    "        part_nums = []\n",
    "\n",
    "        for y, row in enumerate(grid):\n",
    "            for match in re.finditer(r\"\\d+\", \"\".join(row)):\n",
    "                if match:\n",
    "                    adjacents = set()\n",
    "                    for x in range(match.start(), match.end()):\n",
    "                        pos = (x, y)\n",
    "                        adjacents.update(self.get_adjacent(pos))\n",
    "                    syms = [\n",
    "                        self.get_char(pos)\n",
    "                        for pos in adjacents\n",
    "                        if self.get_char(pos) in self.symbols\n",
    "                    ]\n",
    "                    if syms:\n",
    "                        part_nums.append(int(match.group()))\n",
    "\n",
    "        return part_nums\n",
    "\n",
    "    def get_gears(self, grid, N=2):\n",
    "        \"\"\"returns list of gears, defined as two numbers adjacent to one symbol\"\"\"\n",
    "        gear_ratios = []\n",
    "        pass\n",
    "\n",
    "    def get_char(self, pos):\n",
    "        \"\"\"returns char at a pos defined as (x, y)\"\"\"\n",
    "        x, y = pos\n",
    "        assert x < self.rows and y < self.cols, f\"Out of range {x=} {y=}\"\n",
    "        try:\n",
    "            return self.grid[y][x]\n",
    "        except:\n",
    "            raise ValueError(f\"{pos=} out of range\")\n",
    "\n",
    "    def get_full_number(self, pos):\n",
    "        \"\"\"returns the full number at a pos along with list of coordinates\"\"\"\n",
    "        if not (num := self.get_char(pos)).isdigit():\n",
    "            return False, False\n",
    "        x, y = pos\n",
    "        seen = set()\n",
    "        seen.add(pos)\n",
    "\n",
    "        # check to left of pos\n",
    "        for xi in range(x - 1, -1, -1):\n",
    "            pos = (xi, y)\n",
    "            if not (char := self.get_char(pos)).isdigit():\n",
    "                break\n",
    "            else:\n",
    "                num = char + num\n",
    "                seen.add(pos)\n",
    "\n",
    "        # check to right of pos\n",
    "        for xi in range(x + 1, g.cols):\n",
    "            pos = (xi, y)\n",
    "            if not (char := self.get_char(pos)).isdigit():\n",
    "                break\n",
    "            else:\n",
    "                num += char\n",
    "                seen.add(pos)\n",
    "\n",
    "        return int(num), seen\n",
    "\n",
    "\n",
    "g = Grid(test)\n",
    "assert sum(Grid(test).part_numbers) == 4361\n",
    "sum(Grid(inp).part_numbers)"
   ]
  },
  {
   "cell_type": "markdown",
   "metadata": {},
   "source": [
    "## Part 2\n",
    "\n",
    "A gear is a `*` symbol which is adjacent to exactly two part numbers.\n",
    "\n",
    "A gear ratio is those two part numbers multiplied together. Find all the gears, calculate the gear ratio and sum them up.\n",
    "\n",
    "The test input has 3 stars, 2 of which are next to exactly two numbers, forming a gear. So the algo is:\n",
    "\n",
    "* find all stars\n",
    "* check which ones have exactly two numbers adjacent, multiply those numbers and save to a list\n",
    "* sum up the list of gears\n",
    "\n",
    "This solution is a bit ugly, some improvement ideas below:"
   ]
  },
  {
   "cell_type": "code",
   "execution_count": 657,
   "metadata": {},
   "outputs": [
    {
     "data": {
      "text/plain": [
       "73201705"
      ]
     },
     "execution_count": 657,
     "metadata": {},
     "output_type": "execute_result"
    }
   ],
   "source": [
    "def day_2(inp=test):\n",
    "    g = Grid(inp)\n",
    "    gears = []\n",
    "\n",
    "    for y, row in enumerate(g.grid):\n",
    "        for match in re.finditer(r\"\\*\", \"\".join(row)):\n",
    "            numbers = []\n",
    "            number_positions = set()\n",
    "            pos = (match.start(), y)\n",
    "            adj = g.get_adjacent(pos)\n",
    "            # print(pos, g.get_char(pos), adj)\n",
    "            for p in adj:\n",
    "                if g.get_char(p).isdigit():\n",
    "                    n, positions = g.get_full_number(p)\n",
    "                    if number_positions.isdisjoint(positions):\n",
    "                        numbers.append(n)\n",
    "                        number_positions.update(positions)\n",
    "\n",
    "            if len(numbers) == 2:\n",
    "                gears.append(math.prod(numbers))\n",
    "\n",
    "    return sum(gears)\n",
    "\n",
    "\n",
    "assert day_2(test) == 467835  # example answer\n",
    "day_2(inp)"
   ]
  },
  {
   "cell_type": "markdown",
   "metadata": {},
   "source": [
    "Some improvements:\n",
    "\n",
    "* use re to get all numbers in a string along with their start/stop positions, instead of looking to the left and right of a number to grab the full number and its positions."
   ]
  }
 ],
 "metadata": {
  "kernelspec": {
   "display_name": "Python 3 (ipykernel)",
   "language": "python",
   "name": "python3"
  },
  "language_info": {
   "codemirror_mode": {
    "name": "ipython",
    "version": 3
   },
   "file_extension": ".py",
   "mimetype": "text/x-python",
   "name": "python",
   "nbconvert_exporter": "python",
   "pygments_lexer": "ipython3",
   "version": "3.12.0"
  },
  "vscode": {
   "interpreter": {
    "hash": "e02ad82cbb0c499a6a6b0623287fd448fc47250c30ba427c02d2932eb77e7b7d"
   }
  }
 },
 "nbformat": 4,
 "nbformat_minor": 4
}
