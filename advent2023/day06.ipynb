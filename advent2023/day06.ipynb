{
 "cells": [
  {
   "cell_type": "code",
   "execution_count": 24,
   "metadata": {},
   "outputs": [],
   "source": [
    "from typing import NamedTuple\n",
    "import re\n",
    "\n",
    "import utils\n",
    "from math import prod"
   ]
  },
  {
   "cell_type": "markdown",
   "metadata": {},
   "source": [
    "## Day 6: Wait for it\n",
    "\n",
    "[#](https://adventofcode.com/2023/day/6) We have a list of toy boat races, with the time allowed and the best distance for each race. \n",
    "\n",
    "The boats start with zero speed, each ms they wait at the start they gain 1 mm/ms in speed.\n",
    "\n",
    "We want to get the number of ways we can beat each race by, and return the total combinations."
   ]
  },
  {
   "cell_type": "code",
   "execution_count": 14,
   "metadata": {},
   "outputs": [
    {
     "data": {
      "text/plain": [
       "[Race(time=7, distance=9),\n",
       " Race(time=15, distance=40),\n",
       " Race(time=30, distance=200)]"
      ]
     },
     "execution_count": 14,
     "metadata": {},
     "output_type": "execute_result"
    }
   ],
   "source": [
    "test: str = \"\"\"Time:      7  15   30\n",
    "Distance:  9  40  200\"\"\"\n",
    "\n",
    "inp = utils.get_input(6, splitlines=False)\n",
    "\n",
    "\n",
    "class Race(NamedTuple):\n",
    "    time: int\n",
    "    distance: int\n",
    "\n",
    "\n",
    "def parse(inp=test, verbose=False):\n",
    "    \"\"\"assumes only two lines, time and distance\"\"\"\n",
    "    races = []\n",
    "    time, distance = inp.strip().splitlines()\n",
    "    for t, d in zip(\n",
    "        [int(i) for i in re.findall(r\"\\d+\", time)],\n",
    "        [int(i) for i in re.findall(r\"\\d+\", distance)],\n",
    "    ):\n",
    "        races.append(Race(t, d))\n",
    "    return races\n",
    "\n",
    "\n",
    "races = parse()\n",
    "races"
   ]
  },
  {
   "cell_type": "code",
   "execution_count": 23,
   "metadata": {},
   "outputs": [
    {
     "name": "stdout",
     "output_type": "stream",
     "text": [
      "Race(time=7, distance=9) 4\n",
      "Race(time=15, distance=40) 8\n",
      "Race(time=30, distance=200) 9\n"
     ]
    }
   ],
   "source": [
    "def ways_to_win(race):\n",
    "    \"\"\"return the num of ways you can win a race, skips 1st and last second.\"\"\"\n",
    "    wins = []\n",
    "    for t in range(1, race.time): \n",
    "        travelled = t * (race.time - t)\n",
    "        if travelled > race.distance:\n",
    "            wins.append(travelled)\n",
    "    return len(wins)\n",
    "\n",
    "\n",
    "for race in races:\n",
    "    print(race, ways_to_win(race))"
   ]
  },
  {
   "cell_type": "code",
   "execution_count": 26,
   "metadata": {},
   "outputs": [
    {
     "data": {
      "text/plain": [
       "316800"
      ]
     },
     "execution_count": 26,
     "metadata": {},
     "output_type": "execute_result"
    }
   ],
   "source": [
    "def solve(inp=test, verbose: bool = False):\n",
    "    races = parse(inp)\n",
    "\n",
    "    return prod([ways_to_win(race) for race in races])\n",
    "\n",
    "\n",
    "assert solve(test) == 288  # example answer\n",
    "solve(inp)"
   ]
  },
  {
   "cell_type": "markdown",
   "metadata": {},
   "source": [
    "## Part 2\n",
    "\n"
   ]
  },
  {
   "cell_type": "code",
   "execution_count": 11,
   "metadata": {},
   "outputs": [],
   "source": [
    "def solve_2(inp=test, verbose: bool = False):\n",
    "    data = parse(inp)\n",
    "\n",
    "    return None\n",
    "\n",
    "\n",
    "# assert solve_2(test) ==  # example answer\n",
    "solve_2(inp)"
   ]
  },
  {
   "cell_type": "code",
   "execution_count": null,
   "metadata": {},
   "outputs": [],
   "source": []
  }
 ],
 "metadata": {
  "kernelspec": {
   "display_name": "py312",
   "language": "python",
   "name": "python3"
  },
  "language_info": {
   "codemirror_mode": {
    "name": "ipython",
    "version": 3
   },
   "file_extension": ".py",
   "mimetype": "text/x-python",
   "name": "python",
   "nbconvert_exporter": "python",
   "pygments_lexer": "ipython3",
   "version": "3.12.7"
  }
 },
 "nbformat": 4,
 "nbformat_minor": 4
}
