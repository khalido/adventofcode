{
 "cells": [
  {
   "cell_type": "code",
   "execution_count": 22,
   "metadata": {},
   "outputs": [],
   "source": [
    "from typing import NamedTuple\n",
    "import re\n",
    "from functools import cache\n",
    "\n",
    "import utils"
   ]
  },
  {
   "cell_type": "markdown",
   "metadata": {},
   "source": [
    "## Day 4: Scratchcards\n",
    "\n",
    "[#](https://adventofcode.com/2023/day/4) - We have a pile of scratch cards - we know the numbers we have scratched, and the winning numbers for each card, so we calculate the score for each card.\n",
    "\n",
    "The score is 1 for the first matching number, and then multiplied by 2 for each extra number."
   ]
  },
  {
   "cell_type": "code",
   "execution_count": 2,
   "metadata": {},
   "outputs": [],
   "source": [
    "test: str = \"\"\"Card 1: 41 48 83 86 17 | 83 86  6 31 17  9 48 53\n",
    "Card 2: 13 32 20 16 61 | 61 30 68 82 17 32 24 19\n",
    "Card 3:  1 21 53 59 44 | 69 82 63 72 16 21 14  1\n",
    "Card 4: 41 92 73 84 69 | 59 84 76 51 58  5 54 83\n",
    "Card 5: 87 83 26 28 32 | 88 30 70 12 93 22 82 36\n",
    "Card 6: 31 18 13 56 72 | 74 77 10 23 35 67 36 11\"\"\"\n",
    "\n",
    "inp = utils.get_input(4, splitlines=False)"
   ]
  },
  {
   "cell_type": "markdown",
   "metadata": {},
   "source": [
    "We don't need no fancy named tuples, but to keep it easier up ahead, here goes one:"
   ]
  },
  {
   "cell_type": "code",
   "execution_count": 3,
   "metadata": {},
   "outputs": [],
   "source": [
    "class Game(NamedTuple):\n",
    "    card: int\n",
    "    winning: list[int]\n",
    "    scratched: list[int]\n",
    "    matches: int"
   ]
  },
  {
   "cell_type": "code",
   "execution_count": 4,
   "metadata": {},
   "outputs": [
    {
     "data": {
      "text/plain": [
       "[Game(card=1, winning=frozenset({41, 48, 17, 83, 86}), scratched=frozenset({6, 9, 48, 17, 83, 53, 86, 31}), matches=4),\n",
       " Game(card=2, winning=frozenset({32, 13, 16, 20, 61}), scratched=frozenset({32, 68, 17, 82, 19, 24, 61, 30}), matches=2),\n",
       " Game(card=3, winning=frozenset({1, 44, 53, 21, 59}), scratched=frozenset({1, 69, 72, 14, 16, 82, 21, 63}), matches=2),\n",
       " Game(card=4, winning=frozenset({69, 73, 41, 84, 92}), scratched=frozenset({5, 76, 51, 84, 83, 54, 58, 59}), matches=1),\n",
       " Game(card=5, winning=frozenset({32, 83, 87, 26, 28}), scratched=frozenset({36, 70, 12, 82, 22, 88, 93, 30}), matches=0),\n",
       " Game(card=6, winning=frozenset({72, 13, 18, 56, 31}), scratched=frozenset({35, 67, 36, 74, 10, 11, 77, 23}), matches=0)]"
      ]
     },
     "execution_count": 4,
     "metadata": {},
     "output_type": "execute_result"
    }
   ],
   "source": [
    "def parse(inp=test, verbose=False):\n",
    "    games = []\n",
    "    for line in inp.strip().splitlines():\n",
    "        a, b = line.split(\":\")\n",
    "\n",
    "        left, right = b.split(\"|\")\n",
    "\n",
    "        num = int(re.findall(r\"\\d+\", a)[0])\n",
    "        winning_nums = frozenset(int(i) for i in re.findall(r\"\\d+\", left))\n",
    "        scratched_nums = frozenset(int(i) for i in re.findall(r\"\\d+\", right))\n",
    "        matches = len(winning_nums & scratched_nums)\n",
    "\n",
    "        games.append(Game(num, winning_nums, scratched_nums, matches))\n",
    "    return games\n",
    "\n",
    "\n",
    "data = parse()\n",
    "data"
   ]
  },
  {
   "cell_type": "code",
   "execution_count": 5,
   "metadata": {},
   "outputs": [
    {
     "data": {
      "text/plain": [
       "8"
      ]
     },
     "execution_count": 5,
     "metadata": {},
     "output_type": "execute_result"
    }
   ],
   "source": [
    "@cache\n",
    "def score(game: list[int]):\n",
    "    \"\"\"returns game score\"\"\"\n",
    "    # wins = len([i for i in game.scratched if i in game.winning])\n",
    "\n",
    "    if game.matches <= 1:\n",
    "        return game.matches\n",
    "    else:\n",
    "        return 2 ** (game.matches - 1)\n",
    "\n",
    "\n",
    "score(data[0])"
   ]
  },
  {
   "cell_type": "code",
   "execution_count": 6,
   "metadata": {},
   "outputs": [
    {
     "data": {
      "text/plain": [
       "21568"
      ]
     },
     "execution_count": 6,
     "metadata": {},
     "output_type": "execute_result"
    }
   ],
   "source": [
    "def solve(inp=test, verbose: bool = False):\n",
    "    data = parse(inp)\n",
    "\n",
    "    scores = [score(game) for game in data]\n",
    "\n",
    "    return sum(scores)\n",
    "\n",
    "\n",
    "assert solve(test) == 13  # example answer\n",
    "solve(inp)"
   ]
  },
  {
   "cell_type": "markdown",
   "metadata": {},
   "source": [
    "## Part 2\n",
    "\n",
    "The rules change - each game score gives us a copy of the scratch cards below. E.g card 10 has a scroe of 5, so we get copies of cards 11-15. The copies have the same card number.\n",
    "\n",
    "This can be done using recursion, but trying a simple way first, where I store a list of the number of copies per game, and go through each game and increase the number of copies."
   ]
  },
  {
   "cell_type": "code",
   "execution_count": 13,
   "metadata": {},
   "outputs": [
    {
     "data": {
      "text/plain": [
       "11827296"
      ]
     },
     "execution_count": 13,
     "metadata": {},
     "output_type": "execute_result"
    }
   ],
   "source": [
    "def solve_2(inp=test, verbose: bool = False):\n",
    "    data = parse(inp)\n",
    "    total_games = len(data)\n",
    "\n",
    "    # we have 1 copy for each game starting out\n",
    "    copies = [1 for _ in range(0, len(data))]\n",
    "\n",
    "    for i, game in enumerate(data):\n",
    "        for _ in range(0, copies[i]):\n",
    "            # print(list(range(0, copies[i])))\n",
    "            for i in range(game.card, min(total_games, game.card + game.matches)):\n",
    "                copies[i] += 1\n",
    "\n",
    "    if verbose:\n",
    "        print(sum(copies), copies)\n",
    "    return sum(copies)\n",
    "\n",
    "\n",
    "assert solve_2(test) == 30  # example answer\n",
    "solve_2(inp)"
   ]
  },
  {
   "cell_type": "markdown",
   "metadata": {},
   "source": [
    "Above isn't the most ideal solution, as I have some un-necessary loops, but it gets the job done. To get the total score of this game is now fast, as I can use part 1 to get the list of game scores, and multiply it by the number of copies. Numpy makes this easy, or can just some zip inside a list: `[a * b for a, b in zip(scores, copies)]`.\n",
    "\n",
    "If the cards could also create copies of themselves, the above solution fails."
   ]
  }
 ],
 "metadata": {
  "kernelspec": {
   "display_name": "py312",
   "language": "python",
   "name": "python3"
  },
  "language_info": {
   "codemirror_mode": {
    "name": "ipython",
    "version": 3
   },
   "file_extension": ".py",
   "mimetype": "text/x-python",
   "name": "python",
   "nbconvert_exporter": "python",
   "pygments_lexer": "ipython3",
   "version": "3.12.7"
  }
 },
 "nbformat": 4,
 "nbformat_minor": 4
}
