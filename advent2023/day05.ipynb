{
 "cells": [
  {
   "cell_type": "code",
   "execution_count": 32,
   "metadata": {},
   "outputs": [],
   "source": [
    "from typing import NamedTuple\n",
    "import re\n",
    "from collections import defaultdict\n",
    "import utils"
   ]
  },
  {
   "cell_type": "markdown",
   "metadata": {},
   "source": [
    "## Day 5: If You Give A Seed A Fertilizer\n",
    "\n",
    "[#](https://adventofcode.com/2023/day/5) - We have an almanac listing seeds which need to be planted, along with its details.\n",
    "\n",
    "This problem looks very simple, and was for the test solution - but the actual input is very long, so the aim here is to represent the mapping of source to destination in a efficent way (like the text does, but in a machine usable way)"
   ]
  },
  {
   "cell_type": "code",
   "execution_count": 33,
   "metadata": {},
   "outputs": [],
   "source": [
    "test: str = \"\"\"seeds: 79 14 55 13\n",
    "\n",
    "seed-to-soil map:\n",
    "50 98 2\n",
    "52 50 48\n",
    "\n",
    "soil-to-fertilizer map:\n",
    "0 15 37\n",
    "37 52 2\n",
    "39 0 15\n",
    "\n",
    "fertilizer-to-water map:\n",
    "49 53 8\n",
    "0 11 42\n",
    "42 0 7\n",
    "57 7 4\n",
    "\n",
    "water-to-light map:\n",
    "88 18 7\n",
    "18 25 70\n",
    "\n",
    "light-to-temperature map:\n",
    "45 77 23\n",
    "81 45 19\n",
    "68 64 13\n",
    "\n",
    "temperature-to-humidity map:\n",
    "0 69 1\n",
    "1 0 69\n",
    "\n",
    "humidity-to-location map:\n",
    "60 56 37\n",
    "56 93 4\"\"\"\n",
    "\n",
    "inp = utils.get_input(5, splitlines=False)"
   ]
  },
  {
   "cell_type": "markdown",
   "metadata": {},
   "source": [
    "Using a named tuple to make it clearer what the src/dest is. One minor trick in the input is that it lists the dest first instead of the src."
   ]
  },
  {
   "cell_type": "code",
   "execution_count": 113,
   "metadata": {},
   "outputs": [
    {
     "name": "stdout",
     "output_type": "stream",
     "text": [
      "[79, 14, 55, 13]\n"
     ]
    },
    {
     "data": {
      "text/plain": [
       "[Range(src=98, dest=50, range=2), Range(src=50, dest=52, range=48)]"
      ]
     },
     "execution_count": 113,
     "metadata": {},
     "output_type": "execute_result"
    }
   ],
   "source": [
    "class Range(NamedTuple):\n",
    "    src: int\n",
    "    dest: int\n",
    "    range: int\n",
    "\n",
    "\n",
    "def parse(inp=test):\n",
    "    \"\"\"parses input into a list of seeds and map containing list of ranges\"\"\"\n",
    "    maps = dict()\n",
    "    for i, line in enumerate(inp.strip().split(\"\\n\\n\")):\n",
    "        nums = [int(i) for i in re.findall(r\"\\d+\", line)]\n",
    "        if i == 0:\n",
    "            seeds = nums\n",
    "        else:\n",
    "            map_type, _ = line.split(\" map\")\n",
    "            maps[map_type] = []  # assumes each mapping only appears once\n",
    "            for ix in range(0, len(nums), 3):\n",
    "                dest, source, length = nums[ix : ix + 3]\n",
    "                r = Range(source, dest, length)\n",
    "                maps[map_type].append(r)\n",
    "    return seeds, maps\n",
    "\n",
    "\n",
    "seeds, maps = parse()\n",
    "print(seeds)\n",
    "maps[\"seed-to-soil\"]"
   ]
  },
  {
   "cell_type": "code",
   "execution_count": 106,
   "metadata": {},
   "outputs": [
    {
     "data": {
      "text/plain": [
       "70"
      ]
     },
     "execution_count": 106,
     "metadata": {},
     "output_type": "execute_result"
    }
   ],
   "source": [
    "def do_the_map(n: int, map_type: str = \"seed-to-soil\", maps=maps, debug=False):\n",
    "    \"\"\"maps the src number to destination for a map type\"\"\"\n",
    "    for r in maps[map_type]:\n",
    "        if r.src <= n <= r.src + r.range:\n",
    "            if debug:\n",
    "                print(\n",
    "                    f\"{n=} diff={(r.dest - r.src)} ans={n+(r.dest - r.src)} {map_type=} {r=}\"\n",
    "                )\n",
    "            return n + (r.dest - r.src)\n",
    "\n",
    "    return n  # return n if n not found in range\n",
    "\n",
    "\n",
    "do_the_map(68)  # should be 70"
   ]
  },
  {
   "cell_type": "code",
   "execution_count": 111,
   "metadata": {},
   "outputs": [
    {
     "name": "stdout",
     "output_type": "stream",
     "text": [
      "returning 4 mapped locations\n"
     ]
    },
    {
     "data": {
      "text/plain": [
       "[82, 43, 86, 35]"
      ]
     },
     "execution_count": 111,
     "metadata": {},
     "output_type": "execute_result"
    }
   ],
   "source": [
    "def get_locations(inp=test, debug=False):\n",
    "    \"\"\"returns the location of a seed\"\"\"\n",
    "    seeds, maps = parse(inp)\n",
    "\n",
    "    locations = []\n",
    "\n",
    "    # assumes the ranges in the input are passed in the right order\n",
    "    for seed in seeds:\n",
    "        num = seed\n",
    "        for map_type in maps.keys():\n",
    "            num = do_the_map(num, map_type, maps, debug)\n",
    "        locations.append(num)\n",
    "\n",
    "    if debug:\n",
    "        print(locations)\n",
    "    print(f\"returning {len(locations)} mapped locations\")\n",
    "    return locations\n",
    "\n",
    "\n",
    "get_locations(test)"
   ]
  },
  {
   "cell_type": "markdown",
   "metadata": {},
   "source": [
    "This got a bit convuluted for a relatively simple problem, but here goes:"
   ]
  },
  {
   "cell_type": "code",
   "execution_count": 112,
   "metadata": {},
   "outputs": [
    {
     "name": "stdout",
     "output_type": "stream",
     "text": [
      "returning 4 mapped locations\n",
      "returning 20 mapped locations\n"
     ]
    },
    {
     "data": {
      "text/plain": [
       "173706076"
      ]
     },
     "execution_count": 112,
     "metadata": {},
     "output_type": "execute_result"
    }
   ],
   "source": [
    "def solve(inp=test, debug: bool = False):\n",
    "    locations = get_locations(inp, debug)\n",
    "\n",
    "    return min(locations)\n",
    "\n",
    "\n",
    "assert solve(test) == 35  # example answer\n",
    "solve(inp)"
   ]
  },
  {
   "cell_type": "markdown",
   "metadata": {},
   "source": [
    "## Part 2\n",
    "\n"
   ]
  },
  {
   "cell_type": "code",
   "execution_count": 11,
   "metadata": {},
   "outputs": [],
   "source": [
    "def solve_2(inp=test, verbose: bool = False):\n",
    "    data = parse(inp)\n",
    "\n",
    "    return None\n",
    "\n",
    "\n",
    "# assert solve_2(test) ==  # example answer\n",
    "solve_2(inp)"
   ]
  },
  {
   "cell_type": "code",
   "execution_count": null,
   "metadata": {},
   "outputs": [],
   "source": []
  }
 ],
 "metadata": {
  "kernelspec": {
   "display_name": "py312",
   "language": "python",
   "name": "python3"
  },
  "language_info": {
   "codemirror_mode": {
    "name": "ipython",
    "version": 3
   },
   "file_extension": ".py",
   "mimetype": "text/x-python",
   "name": "python",
   "nbconvert_exporter": "python",
   "pygments_lexer": "ipython3",
   "version": "3.12.7"
  }
 },
 "nbformat": 4,
 "nbformat_minor": 4
}
