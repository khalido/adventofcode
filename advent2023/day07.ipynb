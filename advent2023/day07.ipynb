{
 "cells": [
  {
   "cell_type": "code",
   "execution_count": 2,
   "metadata": {},
   "outputs": [],
   "source": [
    "from typing import NamedTuple\n",
    "import re\n",
    "\n",
    "import utils"
   ]
  },
  {
   "cell_type": "markdown",
   "metadata": {},
   "source": [
    "## Day 7: Camel Cards\n",
    "\n",
    "[#](https://adventofcode.com/2023/day/7) Camel cards is a game similar to poker, but a bit simpler. We get dealt multiple hands of 5 cards, and need to rank them in order of strength.\n",
    "\n",
    "First up, dealing with how to rank cards by making a dict transforming each card to its rank:"
   ]
  },
  {
   "cell_type": "code",
   "execution_count": 37,
   "metadata": {},
   "outputs": [
    {
     "data": {
      "text/plain": [
       "{'2': 2,\n",
       " '3': 3,\n",
       " '4': 4,\n",
       " '5': 5,\n",
       " '6': 6,\n",
       " '7': 7,\n",
       " '8': 8,\n",
       " '9': 9,\n",
       " 'T': 10,\n",
       " 'J': 11,\n",
       " 'Q': 12,\n",
       " 'K': 13,\n",
       " 'A': 14}"
      ]
     },
     "execution_count": 37,
     "metadata": {},
     "output_type": "execute_result"
    }
   ],
   "source": [
    "cards = \"A, K, Q, J, T, 9, 8, 7, 6, 5, 4, 3, 2\".split(\", \")[::-1]\n",
    "card_rank = {card: cards.index(card) + 2 for card in cards}\n",
    "card_rank"
   ]
  },
  {
   "cell_type": "markdown",
   "metadata": {},
   "source": [
    "Listing hand types in order of strength:"
   ]
  },
  {
   "cell_type": "code",
   "execution_count": 113,
   "metadata": {},
   "outputs": [],
   "source": [
    "hand_orders = [\n",
    "    \"high card\",\n",
    "    \"one pair\",\n",
    "    \"two pair\",\n",
    "    \"three of a kind\",\n",
    "    \"full house\",\n",
    "    \"four of a kind\",\n",
    "    \"five of a kind\",\n",
    "]"
   ]
  },
  {
   "cell_type": "markdown",
   "metadata": {},
   "source": [
    "Now to figure out what kind of hand type a hand is. I'm using sets here, but should be plenty of other ways to do this, e.g by counting characters. In actual poker, we would also check for flushes and straights, which is a bit harder."
   ]
  },
  {
   "cell_type": "code",
   "execution_count": 125,
   "metadata": {},
   "outputs": [
    {
     "data": {
      "text/plain": [
       "('one pair', 'three of a kind', 'two pair')"
      ]
     },
     "execution_count": 125,
     "metadata": {},
     "output_type": "execute_result"
    }
   ],
   "source": [
    "def get_hand_type(hand):\n",
    "    \"\"\"get the type of a hand, i.e full house etc\"\"\"\n",
    "\n",
    "    chars = set(hand)\n",
    "    num_cards = len(chars)\n",
    "\n",
    "    match num_cards:\n",
    "        case 1:\n",
    "            hand_type = \"five of a kind\"\n",
    "        case 2:\n",
    "            if min([hand.count(char) for char in chars]) >= 2:\n",
    "                hand_type = \"full house\"\n",
    "            else:\n",
    "                hand_type = \"four of a kind\"\n",
    "        case 3:\n",
    "            # check for two pair\n",
    "            if max([hand.count(char) for char in chars]) <3:\n",
    "                hand_type = \"two pair\"\n",
    "            else:\n",
    "                hand_type = \"three of a kind\"\n",
    "        case 4: \n",
    "            hand_type = \"one pair\"\n",
    "        case 5:\n",
    "            hand_type = \"high card\"\n",
    "    return hand_type\n",
    "\n",
    "get_hand_type(\"32T3K\"), get_hand_type(\"T55J5\"), get_hand_type(\"KTJJT\")"
   ]
  },
  {
   "cell_type": "markdown",
   "metadata": {},
   "source": [
    "I'm only parsing the input here, becuase for each hand type I want to store the order. This will make it easier later on to put all the cards in order, as we only have to compare the cards with the same order to each other, which makes the hand ranking problem much easier/faster than comparing each hand to every other hand."
   ]
  },
  {
   "cell_type": "code",
   "execution_count": 146,
   "metadata": {},
   "outputs": [
    {
     "name": "stdout",
     "output_type": "stream",
     "text": [
      "32T3K one pair\n",
      "T55J5 three of a kind\n",
      "KK677 two pair\n",
      "KTJJT two pair\n",
      "QQQJA three of a kind\n"
     ]
    },
    {
     "data": {
      "text/plain": [
       "[Hand(hand='32T3K', bid=765, order=1),\n",
       " Hand(hand='KK677', bid=28, order=2),\n",
       " Hand(hand='KTJJT', bid=220, order=2),\n",
       " Hand(hand='T55J5', bid=684, order=3),\n",
       " Hand(hand='QQQJA', bid=483, order=3)]"
      ]
     },
     "execution_count": 146,
     "metadata": {},
     "output_type": "execute_result"
    }
   ],
   "source": [
    "test: str = \"\"\"32T3K 765\n",
    "T55J5 684\n",
    "KK677 28\n",
    "KTJJT 220\n",
    "QQQJA 483\"\"\"\n",
    "\n",
    "inp = utils.get_input(7, splitlines=False)\n",
    "\n",
    "\n",
    "class Hand(NamedTuple):\n",
    "    hand: str\n",
    "    bid: int\n",
    "    order: int\n",
    "\n",
    "\n",
    "def parse(inp=test, verbose=False):\n",
    "    rounds = []\n",
    "    for line in inp.strip().splitlines():\n",
    "        hand, bid = line.split(\" \")\n",
    "        if verbose:\n",
    "            print(hand, get_hand_type(hand))\n",
    "        rounds.append(Hand(hand, int(bid), hand_orders.index(get_hand_type(hand))))\n",
    "\n",
    "    return sorted(rounds, key=lambda hand: hand.order)\n",
    "\n",
    "\n",
    "hands = parse(verbose=True)\n",
    "hands"
   ]
  },
  {
   "cell_type": "markdown",
   "metadata": {},
   "source": [
    "So now we have a a list of hands, sorted in order. So we now need to sort all the hands in each order. First up, a simple function to compare two hands:"
   ]
  },
  {
   "cell_type": "code",
   "execution_count": 197,
   "metadata": {},
   "outputs": [
    {
     "data": {
      "text/plain": [
       "(Hand(hand='T55J5', bid=684, order=3), Hand(hand='QQQJA', bid=483, order=3))"
      ]
     },
     "execution_count": 197,
     "metadata": {},
     "output_type": "execute_result"
    }
   ],
   "source": [
    "def break_tie(hand, hand2):\n",
    "    \"\"\"returns the stronger hand, assuming two hands of same rank are passed\"\"\"\n",
    "    for c1, c2 in zip(hand.hand, hand2.hand):\n",
    "        if card_rank[c1] != card_rank[c2]:\n",
    "            if card_rank[c1] > card_rank[c2]:\n",
    "                return hand2, hand\n",
    "            else:\n",
    "                return hand, hand2\n",
    "    return [hand, hand2]  # in case the two hands are identical\n",
    "\n",
    "\n",
    "break_tie(hands[1], hands[2])\n",
    "break_tie(hands[3], hands[4])"
   ]
  },
  {
   "cell_type": "markdown",
   "metadata": {},
   "source": [
    "To solve this, we need to compare each hand to every other hand and rank them. This is almost a search problem..."
   ]
  },
  {
   "cell_type": "code",
   "execution_count": 213,
   "metadata": {},
   "outputs": [
    {
     "name": "stdout",
     "output_type": "stream",
     "text": [
      "Processing 1 one pair cards\n",
      "Processing 2 two pair cards\n",
      "Processing 2 three of a kind cards\n"
     ]
    },
    {
     "data": {
      "text/plain": [
       "[Hand(hand='32T3K', bid=765, order=1),\n",
       " Hand(hand='KTJJT', bid=220, order=2),\n",
       " Hand(hand='KK677', bid=28, order=2),\n",
       " Hand(hand='T55J5', bid=684, order=3),\n",
       " Hand(hand='QQQJA', bid=483, order=3)]"
      ]
     },
     "execution_count": 213,
     "metadata": {},
     "output_type": "execute_result"
    }
   ],
   "source": [
    "def sort_hands(hands):\n",
    "    hands_sorted = []\n",
    "    for order in range(len(hand_orders)):\n",
    "        hands_in_order = [hand for hand in hands if hand.order == order]\n",
    "        num_hands = len(hands_in_order)\n",
    "        if num_hands > 0:\n",
    "            print(f\"Processing {num_hands} {hand_orders[order]} cards\")\n",
    "        if num_hands < 1:\n",
    "            pass\n",
    "        elif num_hands == 1:\n",
    "            hands_sorted += hands_in_order\n",
    "        else:\n",
    "            for i in range(len(hands_in_order) - 1):\n",
    "                hands_in_order[i : i + 2] = break_tie(\n",
    "                    hands_in_order[i], hands_in_order[i + 1]\n",
    "                )\n",
    "            hands_sorted += hands_in_order\n",
    "\n",
    "    return hands_sorted\n",
    "\n",
    "\n",
    "sort_hands(hands)"
   ]
  },
  {
   "cell_type": "code",
   "execution_count": 220,
   "metadata": {},
   "outputs": [
    {
     "name": "stdout",
     "output_type": "stream",
     "text": [
      "-----Sorting 5 into order and returning total winnings-----\n",
      "Processing 1 one pair cards\n",
      "Processing 2 two pair cards\n",
      "Processing 2 three of a kind cards\n",
      "-----Sorting 1000 into order and returning total winnings-----\n",
      "Processing 186 high card cards\n",
      "Processing 279 one pair cards\n",
      "Processing 174 two pair cards\n",
      "Processing 164 three of a kind cards\n",
      "Processing 104 full house cards\n",
      "Processing 92 four of a kind cards\n",
      "Processing 1 five of a kind cards\n"
     ]
    },
    {
     "data": {
      "text/plain": [
       "248857361"
      ]
     },
     "execution_count": 220,
     "metadata": {},
     "output_type": "execute_result"
    }
   ],
   "source": [
    "def solve(inp=test, verbose: bool = False):\n",
    "    hands = parse(inp)\n",
    "    print(f\"-----Sorting {len(hands)} into order and returning total winnings-----\")\n",
    "    winnings = []\n",
    "    for i, hand in enumerate(sort_hands(hands)):\n",
    "        winnings.append((i + 1) * hand.bid)\n",
    "\n",
    "    return sum(winnings)\n",
    "\n",
    "\n",
    "# assert solve(test) ==  # example answer\n",
    "assert solve() == 6440\n",
    "solve(inp)"
   ]
  },
  {
   "cell_type": "markdown",
   "metadata": {},
   "source": [
    "## Part 2\n",
    "\n"
   ]
  },
  {
   "cell_type": "code",
   "execution_count": 11,
   "metadata": {},
   "outputs": [],
   "source": [
    "def solve_2(inp=test, verbose: bool = False):\n",
    "    data = parse(inp)\n",
    "\n",
    "    return None\n",
    "\n",
    "\n",
    "# assert solve_2(test) ==  # example answer\n",
    "solve_2(inp)"
   ]
  },
  {
   "cell_type": "code",
   "execution_count": null,
   "metadata": {},
   "outputs": [],
   "source": []
  }
 ],
 "metadata": {
  "kernelspec": {
   "display_name": "py312",
   "language": "python",
   "name": "python3"
  },
  "language_info": {
   "codemirror_mode": {
    "name": "ipython",
    "version": 3
   },
   "file_extension": ".py",
   "mimetype": "text/x-python",
   "name": "python",
   "nbconvert_exporter": "python",
   "pygments_lexer": "ipython3",
   "version": "3.12.7"
  }
 },
 "nbformat": 4,
 "nbformat_minor": 4
}
