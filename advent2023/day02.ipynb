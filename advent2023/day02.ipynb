{
 "cells": [
  {
   "cell_type": "code",
   "execution_count": 100,
   "metadata": {},
   "outputs": [],
   "source": [
    "import re\n",
    "from dataclasses import dataclass, field\n",
    "from typing import NamedTuple\n",
    "\n",
    "import matplotlib.pyplot as plt\n",
    "\n",
    "import utils"
   ]
  },
  {
   "cell_type": "markdown",
   "metadata": {},
   "source": [
    "## Day 2: Cube Conundrum\n",
    "\n",
    "[#](https://adventofcode.com/2021/day/2) - we draw Red, Green, Blue cubes out of a bag, note down the numbers, put them back and draw again.\n",
    "\n",
    "Which games are possible if the bag contains 12 red cubes, 13 green cubes, and 14 blue cubes?\n"
   ]
  },
  {
   "cell_type": "code",
   "execution_count": 101,
   "metadata": {},
   "outputs": [],
   "source": [
    "test: str = \"\"\"Game 1: 3 blue, 4 red; 1 red, 2 green, 6 blue; 2 green\n",
    "    Game 2: 1 blue, 2 green; 3 green, 4 blue, 1 red; 1 green, 1 blue\n",
    "    Game 3: 8 green, 6 blue, 20 red; 5 blue, 4 red, 13 green; 5 green, 1 red\n",
    "    Game 4: 1 green, 3 red, 6 blue; 3 green, 6 red; 3 green, 15 blue, 14 red\n",
    "    Game 5: 6 red, 1 blue, 3 green; 2 blue, 1 red, 2 green\"\"\"\n",
    "\n",
    "inp = utils.get_input(2)"
   ]
  },
  {
   "cell_type": "markdown",
   "metadata": {},
   "source": [
    "I could just record the max r,g,b number of cubes drawn in a game, but for the sake of completion, I'll record all the cubes drawn out for each color. \n",
    "\n",
    "I'm making a class for each game. Ideally I would include each draw as a different draw, but its easier just to have a list for each colour. You only need the max number of cubes drawn for each color, but I'm pretty sure part two will need the full list.\n",
    "\n",
    "Something new I learnt: to declare a list, use field with a [default_factory function](https://docs.python.org/3/library/dataclasses.html#default-factory-functions). This makes sure a new blank list is initiated for each class object."
   ]
  },
  {
   "cell_type": "code",
   "execution_count": 125,
   "metadata": {},
   "outputs": [],
   "source": [
    "@dataclass\n",
    "class Game:\n",
    "    num: int\n",
    "    reds: list = field(default_factory=list)\n",
    "    greens: list = field(default_factory=list)\n",
    "    blues: list = field(default_factory=list)\n",
    "\n",
    "    def __repr__(self):\n",
    "        return f\"Game {self.num}: {self.reds=} {self.greens=} {self.blues=}\""
   ]
  },
  {
   "cell_type": "code",
   "execution_count": 126,
   "metadata": {},
   "outputs": [
    {
     "name": "stdout",
     "output_type": "stream",
     "text": [
      "Game 1: self.reds=[4, 1] self.greens=[2, 2] self.blues=[3, 6]\n",
      "Game 2: self.reds=[1] self.greens=[2, 3, 1] self.blues=[1, 4, 1]\n",
      "Game 3: self.reds=[20, 4, 1] self.greens=[8, 13, 5] self.blues=[6, 5]\n",
      "Game 4: self.reds=[3, 6, 14] self.greens=[1, 3, 3] self.blues=[6, 15]\n",
      "Game 5: self.reds=[6, 1] self.greens=[3, 2] self.blues=[1, 2]\n"
     ]
    }
   ],
   "source": [
    "def parse_game(line):\n",
    "    \"\"\"takes in a game as str, returns Game repr\"\"\"\n",
    "\n",
    "    game, draws = line.split(\":\")\n",
    "    num = int(re.findall(r\"\\d+\", game)[0])\n",
    "    game = Game(num=num)\n",
    "\n",
    "    words_pattern = \"[a-zA-Z]+\"\n",
    "    for draw in draws.split(\";\"):\n",
    "        nums = [int(i) for i in re.findall(r\"\\d+\", draw)]\n",
    "        words = re.findall(words_pattern, draw)\n",
    "\n",
    "        for num, cube in zip(nums, words):\n",
    "            match cube:\n",
    "                case \"red\":\n",
    "                    game.reds.append(num)\n",
    "                case \"green\":\n",
    "                    game.greens.append(num)\n",
    "                case \"blue\":\n",
    "                    game.blues.append(num)\n",
    "                case _:\n",
    "                    raise Exception(\"Unknown colour found\")\n",
    "    return game\n",
    "\n",
    "\n",
    "for line in test.strip().splitlines():\n",
    "    g = parse_game(line)\n",
    "    print(g)"
   ]
  },
  {
   "cell_type": "code",
   "execution_count": 127,
   "metadata": {},
   "outputs": [
    {
     "data": {
      "text/plain": [
       "2505"
      ]
     },
     "execution_count": 127,
     "metadata": {},
     "output_type": "execute_result"
    }
   ],
   "source": [
    "def solve(inp=test, red=12, green=13, blue=14):\n",
    "    possible_games = []\n",
    "    for line in inp.strip().splitlines():\n",
    "        game = parse_game(line)\n",
    "        if (\n",
    "            max(game.reds) <= red\n",
    "            and max(game.greens) <= green\n",
    "            and max(game.blues) <= blue\n",
    "        ):\n",
    "            possible_games.append(game.num)\n",
    "\n",
    "    return sum(possible_games)\n",
    "\n",
    "\n",
    "assert solve(test) == 8  # example answer\n",
    "solve(inp)"
   ]
  },
  {
   "cell_type": "markdown",
   "metadata": {},
   "source": [
    "## Part 2\n",
    "\n",
    "What is the fewest number of cubes of each color that could have been in the bag to make the game possible? The answer is `sum(max(red) * max(green) * max(blues))`, where `max(color)` is finding the max number of cubes pulled out for each game.\n",
    "\n",
    "This is easy, as I recorded the cubes drawn for each game in the parse game function, so its just a one liner:"
   ]
  },
  {
   "cell_type": "code",
   "execution_count": 128,
   "metadata": {},
   "outputs": [
    {
     "data": {
      "text/plain": [
       "70265"
      ]
     },
     "execution_count": 128,
     "metadata": {},
     "output_type": "execute_result"
    }
   ],
   "source": [
    "def solve_2(inp=test, red=12, green=13, blue=14):\n",
    "    cube_game_scores = []\n",
    "    for line in inp.strip().splitlines():\n",
    "        game = parse_game(line)\n",
    "\n",
    "        cube_game_scores.append(max(game.reds) * max(game.greens) * max(game.blues))\n",
    "\n",
    "    return sum(cube_game_scores)\n",
    "\n",
    "\n",
    "assert solve_2(test) == 2286  # example answer\n",
    "solve_2(inp)"
   ]
  }
 ],
 "metadata": {
  "kernelspec": {
   "display_name": "Python 3 (ipykernel)",
   "language": "python",
   "name": "python3"
  },
  "language_info": {
   "codemirror_mode": {
    "name": "ipython",
    "version": 3
   },
   "file_extension": ".py",
   "mimetype": "text/x-python",
   "name": "python",
   "nbconvert_exporter": "python",
   "pygments_lexer": "ipython3",
   "version": "3.12.0"
  },
  "vscode": {
   "interpreter": {
    "hash": "e02ad82cbb0c499a6a6b0623287fd448fc47250c30ba427c02d2932eb77e7b7d"
   }
  }
 },
 "nbformat": 4,
 "nbformat_minor": 4
}
