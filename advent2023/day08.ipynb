{
 "cells": [
  {
   "cell_type": "code",
   "execution_count": 1,
   "metadata": {},
   "outputs": [],
   "source": [
    "from typing import NamedTuple\n",
    "import re\n",
    "\n",
    "import utils"
   ]
  },
  {
   "cell_type": "markdown",
   "metadata": {},
   "source": [
    "## Day 8: Haunted Wasteland \n",
    "\n",
    "[#](https://adventofcode.com/2023/day/8) - We have a map and a list of nodes, each one of which is linked to two other nodes, a left and a right one - the first line tells us how to move, 'RL' meaning Right than Left, and keep repeating this movement until we have reached the node defined on the last line.\n",
    "\n",
    "For first up, we parse a list of nodes and their linked nodes, than we travese them as per the movement pattern in the first line."
   ]
  },
  {
   "cell_type": "code",
   "execution_count": 95,
   "metadata": {},
   "outputs": [],
   "source": [
    "test: str = \"\"\"RL\n",
    "\n",
    "AAA = (BBB, CCC)\n",
    "BBB = (DDD, EEE)\n",
    "CCC = (ZZZ, GGG)\n",
    "DDD = (DDD, DDD)\n",
    "EEE = (EEE, EEE)\n",
    "GGG = (GGG, GGG)\n",
    "ZZZ = (ZZZ, ZZZ)\"\"\"\n",
    "\n",
    "test2: str = \"\"\"LLR\n",
    "\n",
    "AAA = (BBB, BBB)\n",
    "BBB = (AAA, ZZZ)\n",
    "ZZZ = (ZZZ, ZZZ)\"\"\"\n",
    "\n",
    "inp = utils.get_input(8, splitlines=False)"
   ]
  },
  {
   "cell_type": "markdown",
   "metadata": {},
   "source": [
    "Now, this is basically a linked list or a tree, sticking to exactly the problem definition:"
   ]
  },
  {
   "cell_type": "code",
   "execution_count": 91,
   "metadata": {},
   "outputs": [
    {
     "name": "stdout",
     "output_type": "stream",
     "text": [
      "RL\n"
     ]
    },
    {
     "data": {
      "text/plain": [
       "{'AAA': ('BBB', 'CCC'),\n",
       " 'BBB': ('DDD', 'EEE'),\n",
       " 'CCC': ('ZZZ', 'GGG'),\n",
       " 'DDD': ('DDD', 'DDD'),\n",
       " 'EEE': ('EEE', 'EEE'),\n",
       " 'GGG': ('GGG', 'GGG'),\n",
       " 'ZZZ': ('ZZZ', 'ZZZ')}"
      ]
     },
     "execution_count": 91,
     "metadata": {},
     "output_type": "execute_result"
    }
   ],
   "source": [
    "def parse(inp=test, verbose=False):\n",
    "    nodes = dict()\n",
    "    moves, nodes_str = inp.strip().split(\"\\n\\n\")\n",
    "    assert set(moves) == {\"L\", \"R\"}\n",
    "\n",
    "    for line in nodes_str.splitlines():\n",
    "        name, left, right = re.findall(r\"[A-Za-z]+\", line)\n",
    "        nodes[name] = (left, right)\n",
    "    return moves, nodes\n",
    "\n",
    "\n",
    "moves, nodes = parse()\n",
    "print(moves)\n",
    "nodes"
   ]
  },
  {
   "cell_type": "code",
   "execution_count": 110,
   "metadata": {},
   "outputs": [
    {
     "data": {
      "text/plain": [
       "'R'"
      ]
     },
     "execution_count": 110,
     "metadata": {},
     "output_type": "execute_result"
    }
   ],
   "source": [
    "moves, noves = parse(inp)\n",
    "n = 271 % len(moves)\n",
    "n\n",
    "moves[270]"
   ]
  },
  {
   "cell_type": "code",
   "execution_count": 104,
   "metadata": {},
   "outputs": [
    {
     "ename": "IndexError",
     "evalue": "string index out of range",
     "output_type": "error",
     "traceback": [
      "\u001b[0;31m---------------------------------------------------------------------------\u001b[0m",
      "\u001b[0;31mIndexError\u001b[0m                                Traceback (most recent call last)",
      "\u001b[1;32m/Users/ko/code/adventofcode/advent2023/day08.ipynb Cell 7\u001b[0m line \u001b[0;36m2\n\u001b[1;32m      <a href='vscode-notebook-cell:/Users/ko/code/adventofcode/advent2023/day08.ipynb#X26sZmlsZQ%3D%3D?line=0'>1</a>\u001b[0m num \u001b[39m=\u001b[39m \u001b[39mlen\u001b[39m(moves)\n\u001b[0;32m----> <a href='vscode-notebook-cell:/Users/ko/code/adventofcode/advent2023/day08.ipynb#X26sZmlsZQ%3D%3D?line=1'>2</a>\u001b[0m moves[\u001b[39m271\u001b[39;49m]\n",
      "\u001b[0;31mIndexError\u001b[0m: string index out of range"
     ]
    }
   ],
   "source": [
    "num = len(moves)\n",
    "moves[271]"
   ]
  },
  {
   "cell_type": "code",
   "execution_count": 114,
   "metadata": {},
   "outputs": [
    {
     "name": "stdout",
     "output_type": "stream",
     "text": [
      "Start: AAA, Target: ZZZ, moves: 2 nodes: 7\n",
      "    Reached ZZZ in 2 moves.\n",
      "Start: AAA, Target: ZZZ, moves: 3 nodes: 3\n",
      "    Reached ZZZ in 6 moves.\n",
      "Start: AAA, Target: ZZZ, moves: 271 nodes: 750\n",
      "    Reached ZZZ in 18,157 moves.\n"
     ]
    },
    {
     "data": {
      "text/plain": [
       "18157"
      ]
     },
     "execution_count": 114,
     "metadata": {},
     "output_type": "execute_result"
    }
   ],
   "source": [
    "def solve(inp=test, current=\"AAA\", target=\"ZZZ\", debug: bool = False):\n",
    "    moves, nodes = parse(inp)\n",
    "    total_moves = len(moves)\n",
    "\n",
    "    print(f\"Start: {current}, Target: {target}, total moves: {total_moves} nodes: {len(nodes)}\")\n",
    "    \n",
    "    move, n = 0, 0\n",
    "    while current != target:\n",
    "        match moves[n]:\n",
    "            case \"L\":\n",
    "                current = nodes[current][0]\n",
    "            case \"R\":\n",
    "                current = nodes[current][1] \n",
    "            case _:\n",
    "                print(f\"check {moves[n]}\")\n",
    "\n",
    "        move += 1\n",
    "        n = move % total_moves\n",
    "        \n",
    "        if debug:\n",
    "            print(f\"{move:6}, {n=:3} {moves[n]} {current}\")\n",
    "\n",
    "    print(f\"    Reached {target} in {move:,} moves.\")\n",
    "    return move\n",
    "\n",
    "\n",
    "assert solve(test) ==  2 # example answer\n",
    "assert solve(test2) ==  6 # example answer\n",
    "solve(inp)"
   ]
  },
  {
   "cell_type": "markdown",
   "metadata": {},
   "source": [
    "## Part 2\n",
    "\n"
   ]
  },
  {
   "cell_type": "code",
   "execution_count": 11,
   "metadata": {},
   "outputs": [],
   "source": [
    "def solve_2(inp=test, verbose: bool = False):\n",
    "    data = parse(inp)\n",
    "\n",
    "    return None\n",
    "\n",
    "\n",
    "assert solve_2(test) ==  # example answer\n",
    "solve_2(inp)"
   ]
  },
  {
   "cell_type": "code",
   "execution_count": null,
   "metadata": {},
   "outputs": [],
   "source": []
  }
 ],
 "metadata": {
  "kernelspec": {
   "display_name": "py312",
   "language": "python",
   "name": "python3"
  },
  "language_info": {
   "codemirror_mode": {
    "name": "ipython",
    "version": 3
   },
   "file_extension": ".py",
   "mimetype": "text/x-python",
   "name": "python",
   "nbconvert_exporter": "python",
   "pygments_lexer": "ipython3",
   "version": "3.12.7"
  }
 },
 "nbformat": 4,
 "nbformat_minor": 4
}
