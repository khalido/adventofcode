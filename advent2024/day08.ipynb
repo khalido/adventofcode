{
 "cells": [
  {
   "cell_type": "code",
   "execution_count": 230,
   "metadata": {},
   "outputs": [],
   "source": [
    "import utils\n",
    "\n",
    "import re\n",
    "from collections import Counter\n",
    "import numpy as np\n",
    "from collections import defaultdict\n",
    "from itertools import combinations\n",
    "from math import gcd"
   ]
  },
  {
   "cell_type": "markdown",
   "metadata": {},
   "source": [
    "## Day 8: Resonant Collinearity\n",
    "\n",
    "[#](https://adventofcode.com/2024/day/8) We have a map of antennas on a 2d grid. Each antenna is tuned to a specific frequency - represented as a letter or digit.\n",
    "\n",
    "Antennas apply effects (antinodes) when:\n",
    "* two antennas are aligned\n",
    "* at points where one antenna is 2x and another is 1x away.\n",
    "* antinodes can occur at points where an antenna already is\n",
    "\n",
    "So if you have three aligned antennas, you get more antinodes. Ignore ones off the grid. How many unique locations on the grid contain an antinode?"
   ]
  },
  {
   "cell_type": "code",
   "execution_count": 371,
   "metadata": {},
   "outputs": [],
   "source": [
    "sample_input: str = \"\"\"\n",
    "............\n",
    "........0...\n",
    ".....0......\n",
    ".......0....\n",
    "....0.......\n",
    "......A.....\n",
    "............\n",
    "............\n",
    "........A...\n",
    ".........A..\n",
    "............\n",
    "............\n",
    "\"\"\"\n",
    "\n",
    "puzzle_input = utils.get_input(8, splitlines=False)"
   ]
  },
  {
   "cell_type": "code",
   "execution_count": 372,
   "metadata": {},
   "outputs": [
    {
     "data": {
      "text/plain": [
       "[['.', '.', '.', '.', '.', '.', '.', '.', '.', '.', '.', '.'],\n",
       " ['.', '.', '.', '.', '.', '.', '.', '.', '0', '.', '.', '.'],\n",
       " ['.', '.', '.', '.', '.', '0', '.', '.', '.', '.', '.', '.'],\n",
       " ['.', '.', '.', '.', '.', '.', '.', '0', '.', '.', '.', '.'],\n",
       " ['.', '.', '.', '.', '0', '.', '.', '.', '.', '.', '.', '.'],\n",
       " ['.', '.', '.', '.', '.', '.', 'A', '.', '.', '.', '.', '.'],\n",
       " ['.', '.', '.', '.', '.', '.', '.', '.', '.', '.', '.', '.'],\n",
       " ['.', '.', '.', '.', '.', '.', '.', '.', '.', '.', '.', '.'],\n",
       " ['.', '.', '.', '.', '.', '.', '.', '.', 'A', '.', '.', '.'],\n",
       " ['.', '.', '.', '.', '.', '.', '.', '.', '.', 'A', '.', '.'],\n",
       " ['.', '.', '.', '.', '.', '.', '.', '.', '.', '.', '.', '.'],\n",
       " ['.', '.', '.', '.', '.', '.', '.', '.', '.', '.', '.', '.']]"
      ]
     },
     "execution_count": 372,
     "metadata": {},
     "output_type": "execute_result"
    }
   ],
   "source": [
    "def parse_input(input_str=sample_input, debug=False):\n",
    "    \"\"\"returns 2d grid\"\"\"\n",
    "    # return [\n",
    "    #     [0 if char == \".\" else char for char in row]\n",
    "    #     for row in input_str.strip().splitlines()\n",
    "    # ]\n",
    "    return [[char for char in row] for row in input_str.strip().splitlines()]\n",
    "\n",
    "\n",
    "grid = parse_input(sample_input, True)\n",
    "grid"
   ]
  },
  {
   "cell_type": "markdown",
   "metadata": {},
   "source": [
    "This seems like a job for numpy... trying regular python first:\n",
    "\n",
    "1. Calculate each line where antennas of the same frequency are aligned.\n",
    "2. Calculate antinodes, store their position in a list"
   ]
  },
  {
   "cell_type": "code",
   "execution_count": 373,
   "metadata": {},
   "outputs": [
    {
     "data": {
      "text/plain": [
       "defaultdict(list,\n",
       "            {'0': [(8, 1), (5, 2), (7, 3), (4, 4)],\n",
       "             'A': [(6, 5), (8, 8), (9, 9)]})"
      ]
     },
     "execution_count": 373,
     "metadata": {},
     "output_type": "execute_result"
    }
   ],
   "source": [
    "def get_antennas(grid=grid):\n",
    "    \"\"\"returns a dict of antenna freq: position\"\"\"\n",
    "    antennas = defaultdict(list)\n",
    "    for y, row in enumerate(grid):\n",
    "        for x, char in enumerate(row):\n",
    "            if char != \".\":\n",
    "                antennas[char].append((x, y))\n",
    "    return antennas\n",
    "\n",
    "\n",
    "antennas = get_antennas()\n",
    "antennas"
   ]
  },
  {
   "cell_type": "markdown",
   "metadata": {},
   "source": [
    "For each list of antennas, figure out which ones are aligned. Since we only care about pairs of antennas we can use [itertools.combinations](https://docs.python.org/3/library/itertools.html#itertools.combinations) to generate all possible antenna pairs:"
   ]
  },
  {
   "cell_type": "code",
   "execution_count": 374,
   "metadata": {},
   "outputs": [
    {
     "name": "stdout",
     "output_type": "stream",
     "text": [
      "p1=(4, 3) p2=(8, 4)\n",
      "    antinodes={(12, 5), (0, 2)} for p1=(4, 3) p2=(8, 4)\n",
      "p1=(4, 3) p2=(5, 5)\n",
      "    antinodes={(3, 1), (6, 7)} for p1=(4, 3) p2=(5, 5)\n",
      "p1=(8, 4) p2=(5, 5)\n",
      "    antinodes={(11, 3), (2, 6)} for p1=(8, 4) p2=(5, 5)\n"
     ]
    }
   ],
   "source": [
    "def get_antinodes(\n",
    "    p1: tuple[int, int], p2: tuple[int, int], grid=grid, repeats=False, debug=False\n",
    "):\n",
    "    \"\"\"takes two points, returns False or antinodes\"\"\"\n",
    "    forms_line = False\n",
    "    X, Y = len(grid[0]), len(grid)  # grid size\n",
    "    (x1, y1), (x2, y2) = p1, p2\n",
    "    dx, dy = x2 - x1, y2 - y1\n",
    "\n",
    "    if (y1 == y2) or (x1 == x2):  # up or down line\n",
    "        forms_line = True\n",
    "    else:\n",
    "        forms_line = gcd(abs(dx), abs(dy)) > 0\n",
    "\n",
    "    if forms_line:\n",
    "        antinodes = {\n",
    "            (x1 + dx, y1 + dy),\n",
    "            (x1 - dx, y1 - dy),\n",
    "            (x2 + dx, y2 + dy),\n",
    "            (x2 - dx, y2 - dy),\n",
    "        } - {p1, p2}\n",
    "        if debug:\n",
    "            print(f\"    {antinodes=} for {p1=} {p2=}\")\n",
    "\n",
    "        # only return antinodes on grid\n",
    "        return [pos for pos in antinodes if ((0 <= pos[0] < X) and (0 <= pos[1] < Y))]\n",
    "    else:\n",
    "        return False\n",
    "\n",
    "\n",
    "antenna_pairs = (((4, 3), (8, 4)), ((4, 3), (5, 5)), ((8, 4), (5, 5)))\n",
    "for p1, p2 in antenna_pairs:\n",
    "    print(f\"{p1=} {p2=}\")\n",
    "    ants = get_antinodes(p1, p2, grid, debug=True)"
   ]
  },
  {
   "cell_type": "code",
   "execution_count": 375,
   "metadata": {},
   "outputs": [
    {
     "name": "stdout",
     "output_type": "stream",
     "text": [
      "Part 1: 252\n"
     ]
    }
   ],
   "source": [
    "def solve(inp: str = sample_input, repeats=False, debug: bool = False):\n",
    "    grid = parse_input(inp)\n",
    "    antennas = get_antennas(grid)\n",
    "\n",
    "    antinodes = []\n",
    "    for freq, ants in antennas.items():\n",
    "        antenna_pairs = tuple(combinations(ants, 2))\n",
    "\n",
    "        for p1, p2 in antenna_pairs:\n",
    "            if ant_list := get_antinodes(p1, p2, grid, repeats=repeats):\n",
    "                if debug:\n",
    "                    print(f\"   {p1} {p2} forms line with {ant_list=}\")\n",
    "                antinodes += ant_list\n",
    "\n",
    "    return {\"ans\": len(set(antinodes)), \"antinodes\": antinodes}\n",
    "\n",
    "\n",
    "assert solve()[\"ans\"] == 14\n",
    "results = solve(puzzle_input, False)\n",
    "print(f\"Part 1: {results[\"ans\"]}\")"
   ]
  },
  {
   "cell_type": "markdown",
   "metadata": {},
   "source": [
    "## Part 2\n",
    "\n",
    "is just saying anitnodes can repeat. So updating the `get_antinodes` function to handle repeats. Everything else should be the same. \n",
    "\n",
    "This is another case where numpy would make this easier, but sticking with python... \n",
    "\n",
    "Checking if two points formed a line stumped me for quite a while, so some googling said use gcd\n",
    "\n",
    "```py\n",
    "forms_line = gcd(abs(dx), abs(dy)) > 0\n",
    "```\n",
    "\n",
    "This is a trivial part of the problem, but where I got stuck. [gcd] returns the largest positive integer which divides two numbers, if its > 0 than the line passes  points with integer coordinates. Earlier I was only checking for perfectly diagnol lines, which was not giving me enough lines.\n",
    "\n"
   ]
  },
  {
   "cell_type": "code",
   "execution_count": 376,
   "metadata": {},
   "outputs": [
    {
     "data": {
      "text/plain": [
       "839"
      ]
     },
     "execution_count": 376,
     "metadata": {},
     "output_type": "execute_result"
    }
   ],
   "source": [
    "def get_antinodes(\n",
    "    p1: tuple[int, int], p2: tuple[int, int], grid=grid, repeats=False, debug=False\n",
    "):\n",
    "    \"\"\"takes two points, returns False or antinodes\"\"\"\n",
    "    forms_line = False\n",
    "    X, Y = len(grid[0]), len(grid)  # grid size\n",
    "    (x1, y1), (x2, y2) = p1, p2\n",
    "    dx, dy = x2 - x1, y2 - y1\n",
    "\n",
    "    if (y1 == y2) or (x1 == x2):  # up or down line\n",
    "        forms_line = True\n",
    "    else:\n",
    "        forms_line = gcd(abs(dx), abs(dy)) > 0\n",
    "\n",
    "    if forms_line:\n",
    "        antinodes = set()\n",
    "\n",
    "        if repeats:\n",
    "\n",
    "            # Extend the line in both directions (positive and negative)\n",
    "            for i in range(1, max(X, Y)):\n",
    "                new_positions = [\n",
    "                    (x1 + i * dx, y1 + i * dy),\n",
    "                    (x1 - i * dx, y1 - i * dy),\n",
    "                    (x2 + i * dx, y2 + i * dy),\n",
    "                    (x2 - i * dx, y2 - i * dy),\n",
    "                ]\n",
    "                for pos in new_positions:\n",
    "                    if 0 <= pos[0] < X and 0 <= pos[1] < Y:\n",
    "                        antinodes.add(pos)\n",
    "\n",
    "        else:\n",
    "            # Single-step antinodes\n",
    "            antinodes.update(\n",
    "                {\n",
    "                    (x1 + dx, y1 + dy),\n",
    "                    (x1 - dx, y1 - dy),\n",
    "                    (x2 + dx, y2 + dy),\n",
    "                    (x2 - dx, y2 - dy),\n",
    "                }\n",
    "            )\n",
    "        if not repeats:\n",
    "            antinodes = antinodes - {p1, p2}\n",
    "        if debug:\n",
    "            print(f\"    {antinodes=} for {p1=} {p2=}\")\n",
    "\n",
    "        # only return antinodes on grid\n",
    "        return [pos for pos in antinodes if ((0 <= pos[0] < X) and (0 <= pos[1] < Y))]\n",
    "    else:\n",
    "        return False\n",
    "\n",
    "\n",
    "assert solve(sample_input, debug=False, repeats=True)[\"ans\"] == 34\n",
    "solve(puzzle_input, debug=False, repeats=True)[\"ans\"]"
   ]
  }
 ],
 "metadata": {
  "kernelspec": {
   "display_name": "py312",
   "language": "python",
   "name": "python3"
  },
  "language_info": {
   "codemirror_mode": {
    "name": "ipython",
    "version": 3
   },
   "file_extension": ".py",
   "mimetype": "text/x-python",
   "name": "python",
   "nbconvert_exporter": "python",
   "pygments_lexer": "ipython3",
   "version": "3.12.7"
  }
 },
 "nbformat": 4,
 "nbformat_minor": 4
}
