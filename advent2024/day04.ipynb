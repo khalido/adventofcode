{
 "cells": [
  {
   "cell_type": "code",
   "execution_count": 218,
   "metadata": {},
   "outputs": [],
   "source": [
    "import utils\n",
    "\n",
    "import re\n",
    "from itertools import product"
   ]
  },
  {
   "cell_type": "markdown",
   "metadata": {},
   "source": [
    "## Day 4: Ceres Search\n",
    "\n",
    "[#](https://adventofcode.com/2024/day/4) We have a grid of letters, on which we need to find how many times the word **XMAS** appears. Looking at the sample, it looks like letters can be reused."
   ]
  },
  {
   "cell_type": "code",
   "execution_count": 11,
   "metadata": {},
   "outputs": [],
   "source": [
    "sample_input: str = \"\"\"MMMSXXMASM\n",
    "MSAMXMSMSA\n",
    "AMXSXMAAMM\n",
    "MSAMASMSMX\n",
    "XMASAMXAMM\n",
    "XXAMMXXAMA\n",
    "SMSMSASXSS\n",
    "SAXAMASAAA\n",
    "MAMMMXMMMM\n",
    "MXMXAXMASX\"\"\"\n",
    "\n",
    "puzzle_input = utils.get_input(4, splitlines=False)"
   ]
  },
  {
   "cell_type": "code",
   "execution_count": 192,
   "metadata": {},
   "outputs": [
    {
     "name": "stdout",
     "output_type": "stream",
     "text": [
      "Line 0: 'MMMSXXMASM' | : ['M', 'M', 'M', 'S', 'X', 'X', 'M', 'A', 'S', 'M']\n",
      "Line 1: 'MSAMXMSMSA' | : ['M', 'S', 'A', 'M', 'X', 'M', 'S', 'M', 'S', 'A']\n",
      "Line 2: 'AMXSXMAAMM' | : ['A', 'M', 'X', 'S', 'X', 'M', 'A', 'A', 'M', 'M']\n",
      "Line 3: 'MSAMASMSMX' | : ['M', 'S', 'A', 'M', 'A', 'S', 'M', 'S', 'M', 'X']\n",
      "Line 4: 'XMASAMXAMM' | : ['X', 'M', 'A', 'S', 'A', 'M', 'X', 'A', 'M', 'M']\n",
      "Line 5: 'XXAMMXXAMA' | : ['X', 'X', 'A', 'M', 'M', 'X', 'X', 'A', 'M', 'A']\n",
      "Line 6: 'SMSMSASXSS' | : ['S', 'M', 'S', 'M', 'S', 'A', 'S', 'X', 'S', 'S']\n",
      "Line 7: 'SAXAMASAAA' | : ['S', 'A', 'X', 'A', 'M', 'A', 'S', 'A', 'A', 'A']\n",
      "Line 8: 'MAMMMXMMMM' | : ['M', 'A', 'M', 'M', 'M', 'X', 'M', 'M', 'M', 'M']\n",
      "Line 9: 'MXMXAXMASX' | : ['M', 'X', 'M', 'X', 'A', 'X', 'M', 'A', 'S', 'X']\n"
     ]
    }
   ],
   "source": [
    "def make_grid(input_str=sample_input):\n",
    "    \"\"\"returns 2d grid\"\"\"\n",
    "    return [[char for char in row] for row in input_str.strip().splitlines()]\n",
    "\n",
    "\n",
    "def parse_input(input_str=sample_input, debug: bool = False):\n",
    "    \"\"\"returns grid, assumed here had to get rid of non XMAS chars\"\"\"\n",
    "    data = []\n",
    "    for i, line in enumerate(input_str.splitlines()):\n",
    "        l = [c if c in \"XMAS\" else \".\" for c in line]\n",
    "        if debug:\n",
    "            print(f\"Line {i}: '{line}' | : {l}\")\n",
    "        data.append(l)\n",
    "    return data\n",
    "\n",
    "\n",
    "grid = parse_input(sample_input, True)"
   ]
  },
  {
   "cell_type": "markdown",
   "metadata": {},
   "source": [
    "First up, getting a list of points where X appears. This is not really needed, but lowers the checks for Xmas later on. This uses re, though I could have enumerated through each row instead."
   ]
  },
  {
   "cell_type": "code",
   "execution_count": 112,
   "metadata": {},
   "outputs": [
    {
     "data": {
      "text/plain": [
       "'first few positions of X: [(4, 0), (5, 0), (4, 1), (2, 2), (4, 2), (9, 3)]'"
      ]
     },
     "execution_count": 112,
     "metadata": {},
     "output_type": "execute_result"
    }
   ],
   "source": [
    "def get_char_positions(input_str=sample_input, char=\"X\"):\n",
    "    Xs = []\n",
    "    for y, row in enumerate(input_str.splitlines()):\n",
    "        for x in (match.start() for match in re.finditer(char, row)):\n",
    "            Xs.append((x, y))\n",
    "    return Xs\n",
    "\n",
    "\n",
    "Xs = get_char_positions()\n",
    "f\"first few positions of X: {Xs[:6]}\""
   ]
  },
  {
   "cell_type": "code",
   "execution_count": null,
   "metadata": {},
   "outputs": [
    {
     "name": "stdout",
     "output_type": "stream",
     "text": [
      "pos=(9, 9) count=2\n"
     ]
    },
    {
     "data": {
      "text/plain": [
       "2"
      ]
     },
     "execution_count": 207,
     "metadata": {},
     "output_type": "execute_result"
    }
   ],
   "source": [
    "def check_x(pos: tuple[int, int], grid=grid, debug=False):\n",
    "    \"\"\"returns count of XMAS for a position\"\"\"\n",
    "    X, Y = len(grid[0]), len(grid)\n",
    "    x, y = pos\n",
    "    count = 0\n",
    "\n",
    "    if not grid[y][x] == \"X\":\n",
    "        return 0\n",
    "\n",
    "    directions = [\n",
    "        (0, 1),  # Right →\n",
    "        (0, -1),  # Left ←\n",
    "        (1, 0),  # Down ↓\n",
    "        (-1, 0),  # Up ↑\n",
    "        (1, 1),  # Diagonal Down-Right ↘\n",
    "        (-1, -1),  # Diagonal Up-Left ↖\n",
    "        (1, -1),  # Diagonal Down-Left ↙\n",
    "        (-1, 1),  # Diagonal Up-Right ↗\n",
    "    ]\n",
    "\n",
    "    for dx, dy in directions:\n",
    "        if 0 <= (x + dx * 3) < X and 0 <= (y + dy * 3) < Y:  # check on grid\n",
    "            if (\n",
    "                (grid[y + dy][x + dx] == \"M\")\n",
    "                and (grid[y + dy * 2][x + dx * 2] == \"A\")\n",
    "                and (grid[y + dy * 3][x + dx * 3] == \"S\")\n",
    "            ):\n",
    "                count += 1\n",
    "\n",
    "    if debug:\n",
    "        print(f\"{pos=} {count=}\")\n",
    "    return count\n",
    "\n",
    "\n",
    "check_x((9, 9), debug=True)"
   ]
  },
  {
   "cell_type": "code",
   "execution_count": 208,
   "metadata": {},
   "outputs": [
    {
     "name": "stdout",
     "output_type": "stream",
     "text": [
      "Number of Xs: 19\n",
      "ans=18 count=[1, 1, 1, 0, 0, 2, 1, 2, 1, 0, 0, 1, 0, 0, 0, 1, 2, 3, 2]\n",
      "\n",
      "Part 1: 2434\n"
     ]
    }
   ],
   "source": [
    "def solve(inp: str = sample_input, debug: bool = False):\n",
    "    Xs = get_char_positions(inp)\n",
    "    grid = parse_input(inp)\n",
    "\n",
    "    count = [check_x(pos, grid) for pos in Xs]\n",
    "    ans = sum(count)\n",
    "\n",
    "    if debug:\n",
    "        print(f\"Number of Xs: {len(Xs)}\")\n",
    "        print(f\"{ans=} {count=}\")\n",
    "\n",
    "    return {\"result\": ans, \"count\": count}\n",
    "\n",
    "\n",
    "assert solve(sample_input, True)[\"result\"] == 18  # sample ans check\n",
    "results = solve(puzzle_input, debug=False)\n",
    "print(f\"\\nPart 1: {results[\"result\"]}\")"
   ]
  },
  {
   "cell_type": "markdown",
   "metadata": {},
   "source": [
    "## Part 2 \n",
    "\n",
    "Trickier! Check that two MAS form an X:\n",
    "\n",
    "```\n",
    "M.S\n",
    ".A.\n",
    "M.S\n",
    "```\n",
    "\n",
    "So now we look for every A and see if it forms the center of an X-MAS. My code assumes letters can be reused, e.g an M could be forming a MAS for two different As.. otherwise this solution would have to track all positions used.\n",
    "\n",
    "Since the words can be MAS, SAM or any combination therof, lets get all possible combinations using [itertools.product](https://docs.python.org/3/library/itertools.html#itertools.product)."
   ]
  },
  {
   "cell_type": "code",
   "execution_count": 219,
   "metadata": {},
   "outputs": [
    {
     "data": {
      "text/plain": [
       "(('MAS', 'MAS'), ('MAS', 'SAM'), ('SAM', 'MAS'), ('SAM', 'SAM'))"
      ]
     },
     "execution_count": 219,
     "metadata": {},
     "output_type": "execute_result"
    }
   ],
   "source": [
    "combinations = tuple(product((\"MAS\", \"SAM\"), repeat=2))\n",
    "combinations"
   ]
  },
  {
   "cell_type": "markdown",
   "metadata": {},
   "source": [
    "That was only 4 combinations! I could have typed that out, but even getting to "
   ]
  },
  {
   "cell_type": "code",
   "execution_count": 220,
   "metadata": {},
   "outputs": [],
   "source": [
    "def check_mas(pos: tuple[int, int], grid=grid, debug=False) -> int:\n",
    "    \"\"\"returns 1 if an A forms a MAS, 0 otherwise\"\"\"\n",
    "    X, Y = len(grid[0]), len(grid)\n",
    "    x, y = pos\n",
    "    char = grid[y][x]\n",
    "\n",
    "    assert char == \"A\"\n",
    "\n",
    "    for mas1, mas2 in combinations:\n",
    "        if 0 <= x - 1 < X and 0 <= x + 1 < X and 0 <= y - 1 < Y and 0 <= y + 1 < Y:\n",
    "            if (\n",
    "                (grid[y - 1][x - 1] == mas1[0])  # top left\n",
    "                and (grid[y + 1][x + 1] == mas1[2])  # bottom right\n",
    "                and (grid[y - 1][x + 1] == mas2[0])  # top right\n",
    "                and (grid[y + 1][x - 1] == mas2[2])  # bottom left\n",
    "            ):\n",
    "                if debug:\n",
    "                    print(f\"{pos=} forms an X-MAS\")\n",
    "                return True\n",
    "    return False\n",
    "\n",
    "\n",
    "As = get_char_positions(sample_input, char=\"A\")\n",
    "grid = parse_input(sample_input)\n",
    "assert sum([check_mas(pos, debug=False) for pos in As]) == 9"
   ]
  },
  {
   "cell_type": "code",
   "execution_count": 221,
   "metadata": {},
   "outputs": [
    {
     "name": "stdout",
     "output_type": "stream",
     "text": [
      "Part 2: 1835\n"
     ]
    }
   ],
   "source": [
    "def solve_2(inp: str = sample_input, debug: bool = False):\n",
    "    grid = parse_input(inp)\n",
    "    As = get_char_positions(inp, char=\"A\")\n",
    "\n",
    "    ans = sum([check_mas(pos, grid, debug) for pos in As])\n",
    "\n",
    "    return {\"result\": ans}\n",
    "\n",
    "\n",
    "results = solve_2(puzzle_input, debug=False)\n",
    "print(f\"Part 2: {results[\"result\"]}\")"
   ]
  }
 ],
 "metadata": {
  "kernelspec": {
   "display_name": "py312",
   "language": "python",
   "name": "python3"
  },
  "language_info": {
   "codemirror_mode": {
    "name": "ipython",
    "version": 3
   },
   "file_extension": ".py",
   "mimetype": "text/x-python",
   "name": "python",
   "nbconvert_exporter": "python",
   "pygments_lexer": "ipython3",
   "version": "3.12.7"
  }
 },
 "nbformat": 4,
 "nbformat_minor": 4
}
