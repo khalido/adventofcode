{
 "cells": [
  {
   "cell_type": "code",
   "execution_count": 1,
   "metadata": {},
   "outputs": [],
   "source": [
    "import utils\n",
    "\n",
    "import re\n",
    "from collections import Counter\n",
    "from typing import NamedTuple\n",
    "from itertools import product, permutations, pairwise"
   ]
  },
  {
   "cell_type": "markdown",
   "metadata": {},
   "source": [
    "## Day 7: Bridge Repair\n",
    "\n",
    "[#](https://adventofcode.com/2024/day/7) We have a series of calibration equations and the value they should but have lost all the operators.\n",
    "\n",
    "We need to find out how many of those equations are possibly viable by trying out all possible combinations of `+` and `-` operators."
   ]
  },
  {
   "cell_type": "code",
   "execution_count": 2,
   "metadata": {},
   "outputs": [],
   "source": [
    "sample_input: str = \"\"\"190: 10 19\n",
    "3267: 81 40 27\n",
    "83: 17 5\n",
    "156: 15 6\n",
    "7290: 6 8 6 15\n",
    "161011: 16 10 13\n",
    "192: 17 8 14\n",
    "21037: 9 7 18 13\n",
    "292: 11 6 16 20\"\"\"\n",
    "\n",
    "puzzle_input = utils.get_input(7, splitlines=False)"
   ]
  },
  {
   "cell_type": "code",
   "execution_count": 3,
   "metadata": {},
   "outputs": [
    {
     "name": "stdout",
     "output_type": "stream",
     "text": [
      "Line 0: '190: 10 19' | Extracted: [190, 10, 19]\n",
      "Line 1: '3267: 81 40 27' | Extracted: [3267, 81, 40, 27]\n",
      "Line 2: '83: 17 5' | Extracted: [83, 17, 5]\n",
      "Line 3: '156: 15 6' | Extracted: [156, 15, 6]\n",
      "Line 4: '7290: 6 8 6 15' | Extracted: [7290, 6, 8, 6, 15]\n",
      "Line 5: '161011: 16 10 13' | Extracted: [161011, 16, 10, 13]\n",
      "Line 6: '192: 17 8 14' | Extracted: [192, 17, 8, 14]\n",
      "Line 7: '21037: 9 7 18 13' | Extracted: [21037, 9, 7, 18, 13]\n",
      "Line 8: '292: 11 6 16 20' | Extracted: [292, 11, 6, 16, 20]\n"
     ]
    }
   ],
   "source": [
    "def parse_input(input_str=sample_input, debug: bool = False):\n",
    "    data = []\n",
    "    for i, line in enumerate(input_str.splitlines()):\n",
    "        numbers = [int(x) for x in re.findall(r\"\\d+\", line)]\n",
    "        if debug:\n",
    "            print(f\"Line {i}: '{line}' | Extracted: {numbers}\")\n",
    "        data.append(numbers)\n",
    "    return data\n",
    "\n",
    "\n",
    "data = parse_input(sample_input, True)"
   ]
  },
  {
   "cell_type": "markdown",
   "metadata": {},
   "source": [
    "This is a lot easier than day 6! The challange here is realizing the number of operators is n-1."
   ]
  },
  {
   "cell_type": "code",
   "execution_count": 22,
   "metadata": {},
   "outputs": [
    {
     "name": "stdout",
     "output_type": "stream",
     "text": [
      "Part 1: 1985268524462\n"
     ]
    }
   ],
   "source": [
    "def solve(inp: str = sample_input, all_operators=[\"+\", \"*\"], debug: bool = False):\n",
    "    data = parse_input(inp)\n",
    "\n",
    "    calibration_results = []\n",
    "\n",
    "    for line in data:\n",
    "        test_value = line[0]\n",
    "        values = line[2:]\n",
    "\n",
    "        operator_product = tuple(product(all_operators, repeat=len(values)))\n",
    "        if debug:\n",
    "            print(operator_product)\n",
    "\n",
    "        for operators in operator_product:\n",
    "            ans = line[1]\n",
    "\n",
    "            for num, op in zip(values, operators):\n",
    "                match op:\n",
    "                    case \"+\":\n",
    "                        ans += num\n",
    "                    case \"*\":\n",
    "                        ans *= num\n",
    "                    case \"||\":\n",
    "                        ans = int(str(ans) + str(num))\n",
    "            if debug:\n",
    "                print(f\"{line}: {ans=}\")\n",
    "\n",
    "            if ans > test_value:\n",
    "                continue\n",
    "            elif ans == test_value:\n",
    "                calibration_results.append(ans)\n",
    "                break\n",
    "\n",
    "    return {\"result\": sum(calibration_results)}\n",
    "\n",
    "\n",
    "assert solve(sample_input)[\"result\"] == 3749  # sample ans check\n",
    "\n",
    "results = solve(puzzle_input, debug=False)\n",
    "print(f\"Part 1: {results[\"result\"]}\")"
   ]
  },
  {
   "cell_type": "markdown",
   "metadata": {},
   "source": [
    "## Part 2\n",
    "\n",
    "We have a third operator `||` which combines digits from left and right. Since part 1 takes in a list of operators, this is just passing in the new list of acceptable operators and adding a line to handle this.\n",
    "\n"
   ]
  },
  {
   "cell_type": "code",
   "execution_count": 21,
   "metadata": {},
   "outputs": [
    {
     "name": "stdout",
     "output_type": "stream",
     "text": [
      "Part 2: 150077710195188\n"
     ]
    }
   ],
   "source": [
    "assert solve(all_operators=[\"+\", \"*\", \"||\"])\n",
    "\n",
    "results = solve(puzzle_input, [\"+\", \"*\", \"||\"], debug=False)\n",
    "print(f\"Part 2: {results[\"result\"]}\")"
   ]
  },
  {
   "cell_type": "markdown",
   "metadata": {},
   "source": [
    "This is slow, at about 12 seconds... worth looking at later on how to optimize this. I am doing a simple `if ans > test_value:` which cuts of some computation, but there must be some smarter ways."
   ]
  }
 ],
 "metadata": {
  "kernelspec": {
   "display_name": "py312",
   "language": "python",
   "name": "python3"
  },
  "language_info": {
   "codemirror_mode": {
    "name": "ipython",
    "version": 3
   },
   "file_extension": ".py",
   "mimetype": "text/x-python",
   "name": "python",
   "nbconvert_exporter": "python",
   "pygments_lexer": "ipython3",
   "version": "3.12.7"
  }
 },
 "nbformat": 4,
 "nbformat_minor": 4
}
