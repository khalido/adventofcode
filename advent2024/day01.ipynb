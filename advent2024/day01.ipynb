{
 "cells": [
  {
   "cell_type": "code",
   "execution_count": 72,
   "metadata": {},
   "outputs": [],
   "source": [
    "import utils\n",
    "\n",
    "import re\n",
    "from collections import Counter"
   ]
  },
  {
   "cell_type": "markdown",
   "metadata": {},
   "source": [
    "## Day 1: Historian Hysteria\n",
    "\n",
    "[#](https://adventofcode.com/2024/day/1) We have a bunch of notes listing locations listed by **location ID**. Two groups made their own seperate lists, and we need to reconcile them."
   ]
  },
  {
   "cell_type": "code",
   "execution_count": 44,
   "metadata": {},
   "outputs": [],
   "source": [
    "sample_input: str = \"\"\"3   4\n",
    "4   3\n",
    "2   5\n",
    "1   3\n",
    "3   9\n",
    "3   3\n",
    "\"\"\"\n",
    "\n",
    "puzzle_input = utils.get_input(1, splitlines=False)"
   ]
  },
  {
   "cell_type": "code",
   "execution_count": 83,
   "metadata": {},
   "outputs": [
    {
     "name": "stdout",
     "output_type": "stream",
     "text": [
      "Line 0: '3   4' | Extracted: [3, 4]\n",
      "Line 1: '4   3' | Extracted: [4, 3]\n",
      "Line 2: '2   5' | Extracted: [2, 5]\n",
      "Line 3: '1   3' | Extracted: [1, 3]\n",
      "Line 4: '3   9' | Extracted: [3, 9]\n",
      "Line 5: '3   3' | Extracted: [3, 3]\n"
     ]
    },
    {
     "data": {
      "text/plain": [
       "[[3, 4], [4, 3], [2, 5], [1, 3], [3, 9], [3, 3]]"
      ]
     },
     "execution_count": 83,
     "metadata": {},
     "output_type": "execute_result"
    }
   ],
   "source": [
    "def parse_input(input_str=sample_input, debug: bool = False):\n",
    "    data = []\n",
    "    for i, line in enumerate(input_str.splitlines()):\n",
    "        numbers = [int(x) for x in re.findall(r\"\\d+\", line)]\n",
    "        if debug:\n",
    "            print(f\"Line {i}: '{line}' | Extracted: {numbers}\")\n",
    "        data.append(numbers)\n",
    "    return data\n",
    "\n",
    "\n",
    "data = parse_input(sample_input, True)\n",
    "data"
   ]
  },
  {
   "cell_type": "markdown",
   "metadata": {},
   "source": [
    "For this years AOC, I've updated the `solve` function to return a dict. Sometimes I want to have the intermediate lists etc to plot or troubleshoot the solve function, the dict makes it possible to do so without having to break up the function or duplicate code it in the plotting func.\n",
    "\n",
    "Part 1 is trivial, sort the two lists of numbers and add up the differences. "
   ]
  },
  {
   "cell_type": "code",
   "execution_count": 84,
   "metadata": {},
   "outputs": [
    {
     "name": "stdout",
     "output_type": "stream",
     "text": [
      "Part 1: 936063\n"
     ]
    }
   ],
   "source": [
    "def solve(inp: str = sample_input, debug: bool = False):\n",
    "    data = parse_input(inp)\n",
    "\n",
    "    # seperate and sort lists\n",
    "    first, second = (sorted(x) for x in zip(*data))\n",
    "\n",
    "    if debug:\n",
    "        print(f\"{first=}, {second=}\")\n",
    "\n",
    "    # get distance b/w nums\n",
    "    ans = [abs(x - y) for x, y in zip(first, second)]\n",
    "    if debug:\n",
    "        print(f\"{ans=}\")\n",
    "\n",
    "    return {\"result\": sum(ans)}\n",
    "\n",
    "\n",
    "assert solve(sample_input)[\"result\"] == 11\n",
    "\n",
    "results = solve(puzzle_input, debug=False)\n",
    "print(f\"Part 1: {results[\"result\"]}\")"
   ]
  },
  {
   "cell_type": "markdown",
   "metadata": {},
   "source": [
    "## Part 2\n",
    "\n",
    "Calculate a total similarity score by adding up each number in the left list after multiplying it by the number of times that number appears in the right list.\n",
    "\n",
    "**Sorting:** \t\n",
    "* ⁠`sorted()` creates a new list\n",
    "* `⁠.sort()` modifies in-place, so is a bit more memory efficent\n",
    "\n",
    "**Counting:** I used [collections.Counter](https://docs.python.org/3/library/collections.html#collections.Counter), which does all the heavy lifting in O(n) time. I did have to verify it returns `0` for numbers not in the counter, which made things even easier.\n"
   ]
  },
  {
   "cell_type": "code",
   "execution_count": 66,
   "metadata": {},
   "outputs": [
    {
     "name": "stdout",
     "output_type": "stream",
     "text": [
      "first=[1, 2, 3, 3, 3, 4], second=[3, 3, 3, 4, 5, 9]\n",
      "ans=[0, 0, 9, 9, 9, 4]\n",
      "\n",
      "Part 2: 23150395\n"
     ]
    }
   ],
   "source": [
    "def solve_2(inp: str = sample_input, debug: bool = False):\n",
    "    data = parse_input(inp)\n",
    "\n",
    "    # seperate and sort lists\n",
    "    first, second = (sorted(x) for x in zip(*data))\n",
    "\n",
    "    if debug:\n",
    "        print(f\"{first=}, {second=}\")\n",
    "\n",
    "    count = Counter(second)\n",
    "    ans = [num * count[num] for num in first]\n",
    "    if debug:\n",
    "        print(f\"{ans=}\")\n",
    "\n",
    "    return {\"result\": sum(ans), \"first\": first, \"second\": second, \"ans_list\": ans}\n",
    "\n",
    "\n",
    "solve_2(sample_input, debug=True)\n",
    "assert solve_2(sample_input)[\"result\"] == 31  # example answer\n",
    "\n",
    "results = solve_2(puzzle_input, debug=False)\n",
    "print(f\"\\nPart 2: {results[\"result\"]}\")"
   ]
  }
 ],
 "metadata": {
  "kernelspec": {
   "display_name": "py312",
   "language": "python",
   "name": "python3"
  },
  "language_info": {
   "codemirror_mode": {
    "name": "ipython",
    "version": 3
   },
   "file_extension": ".py",
   "mimetype": "text/x-python",
   "name": "python",
   "nbconvert_exporter": "python",
   "pygments_lexer": "ipython3",
   "version": "3.12.7"
  }
 },
 "nbformat": 4,
 "nbformat_minor": 4
}
