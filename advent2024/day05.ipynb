{
 "cells": [
  {
   "cell_type": "code",
   "execution_count": 2,
   "metadata": {},
   "outputs": [],
   "source": [
    "import utils\n",
    "\n",
    "import re\n",
    "from collections import Counter"
   ]
  },
  {
   "cell_type": "markdown",
   "metadata": {},
   "source": [
    "## Day 5: Print Queue\n",
    "\n",
    "[#](https://adventofcode.com/2024/day/5) We have a list of page ordering rules and the pages to produce in each update.\n",
    "\n",
    "Page order rules: `47|53` means that if an update includes both these numbers, 47 has to be printed first.\n",
    "Page numbers in an update: `75,47,61,53,29` defines the order of pages printed.\n",
    "\n",
    "So we need a function:\n",
    "\n",
    "1. Check if an update passes all rules\n",
    "2. Return middle page number of that update"
   ]
  },
  {
   "cell_type": "code",
   "execution_count": 112,
   "metadata": {},
   "outputs": [],
   "source": [
    "sample_input: str = \"\"\"47|53\n",
    "97|13\n",
    "97|61\n",
    "97|47\n",
    "75|29\n",
    "61|13\n",
    "75|53\n",
    "29|13\n",
    "97|29\n",
    "53|29\n",
    "61|53\n",
    "97|53\n",
    "61|29\n",
    "47|13\n",
    "75|47\n",
    "97|75\n",
    "47|61\n",
    "75|61\n",
    "47|29\n",
    "75|13\n",
    "53|13\n",
    "\n",
    "75,47,61,53,29\n",
    "97,61,53,29,13\n",
    "75,29,13\n",
    "75,97,47,61,53\n",
    "61,13,29\n",
    "97,13,75,29,47\"\"\"\n",
    "\n",
    "puzzle_input = utils.get_input(5, splitlines=False)"
   ]
  },
  {
   "cell_type": "code",
   "execution_count": 137,
   "metadata": {},
   "outputs": [],
   "source": [
    "def get_nums(line: str) -> list:\n",
    "    \"\"\"takes a string, returns a list of numbers found\n",
    "    '47|53' -> (47, 53)\"\"\"\n",
    "    return [int(x) for x in re.findall(r\"\\d+\", line)]"
   ]
  },
  {
   "cell_type": "code",
   "execution_count": 138,
   "metadata": {},
   "outputs": [
    {
     "name": "stdout",
     "output_type": "stream",
     "text": [
      "Line 0: '47|53' | Extracted: [47, 53]\n",
      "Line 1: '97|13' | Extracted: [97, 13]\n",
      "Line 2: '97|61' | Extracted: [97, 61]\n",
      "Line 0: '75,47,61,53,29 ' | Extracted: [75, 47, 61, 53, 29]\n",
      "Line 1: '97,61,53,29,13 ' | Extracted: [97, 61, 53, 29, 13]\n",
      "Line 2: '75,29,13       ' | Extracted: [75, 29, 13]\n"
     ]
    }
   ],
   "source": [
    "def parse_input(input_str=sample_input, debug: bool = False):\n",
    "\n",
    "    rules_str, update_str = input_str.strip().split(\"\\n\\n\")\n",
    "\n",
    "    rules, updates = [], []\n",
    "\n",
    "    for i, line in enumerate(rules_str.splitlines()):\n",
    "        numbers = get_nums(line)\n",
    "        if debug and i < 3:\n",
    "            print(f\"Line {i}: '{line}' | Extracted: {numbers}\")\n",
    "        rules.append(numbers)\n",
    "\n",
    "    for i, line in enumerate(update_str.splitlines()):\n",
    "        numbers = get_nums(line)\n",
    "        if debug and i < 3:\n",
    "            print(f\"Line {i}: '{line:15}' | Extracted: {numbers}\")\n",
    "        updates.append(numbers)\n",
    "\n",
    "    return rules, updates\n",
    "\n",
    "\n",
    "rules, updates = parse_input(sample_input, True)"
   ]
  },
  {
   "cell_type": "markdown",
   "metadata": {},
   "source": []
  },
  {
   "cell_type": "code",
   "execution_count": 139,
   "metadata": {},
   "outputs": [
    {
     "name": "stdout",
     "output_type": "stream",
     "text": [
      "[29, 13] violated in update=[61, 13, 29]\n"
     ]
    },
    {
     "data": {
      "text/plain": [
       "False"
      ]
     },
     "execution_count": 139,
     "metadata": {},
     "output_type": "execute_result"
    }
   ],
   "source": [
    "def check_update(update=updates[0], rules=rules, debug=False) -> bool:\n",
    "    \"\"\"returns true if an update meets all the rules\"\"\"\n",
    "    for rule in rules:\n",
    "        first, second = rule\n",
    "        if (first in update) and (second in update):\n",
    "            if not update.index(second) > update.index(first):\n",
    "                if debug:\n",
    "                    print(f\"{rule} violated in {update=}\")\n",
    "                return False\n",
    "    return True\n",
    "\n",
    "\n",
    "check_update(updates[4], debug=True)"
   ]
  },
  {
   "cell_type": "code",
   "execution_count": 140,
   "metadata": {},
   "outputs": [],
   "source": [
    "def get_middle_num(lst) -> int:\n",
    "    \"\"\"returns the middle number in a odd list, middle+1 in a even list\"\"\"\n",
    "    assert len(lst) % 2 != 0  # whats middle num of a even len lst?\n",
    "    return lst[len(lst) // 2]"
   ]
  },
  {
   "cell_type": "code",
   "execution_count": 141,
   "metadata": {},
   "outputs": [
    {
     "name": "stdout",
     "output_type": "stream",
     "text": [
      "[97, 75] violated in update=[75, 97, 47, 61, 53]\n",
      "[29, 13] violated in update=[61, 13, 29]\n",
      "[29, 13] violated in update=[97, 13, 75, 29, 47]\n",
      "143, nums=[61, 53, 29]\n",
      "\n",
      "Part 1: 4872\n"
     ]
    }
   ],
   "source": [
    "def solve(inp: str = sample_input, debug: bool = False):\n",
    "    rules, updates = parse_input(inp)\n",
    "\n",
    "    nums = []\n",
    "    for update in updates:\n",
    "        if check_update(update, rules, debug):\n",
    "            nums.append(get_middle_num(update))\n",
    "\n",
    "    ans = sum(nums)\n",
    "    if debug:\n",
    "        print(f\"{ans}, {nums=}\")\n",
    "\n",
    "    return {\"result\": ans}\n",
    "\n",
    "\n",
    "assert solve(sample_input, True)[\"result\"] == 143  # sample ans check\n",
    "\n",
    "results = solve(puzzle_input, debug=False)\n",
    "print(f\"\\nPart 1: {results[\"result\"]}\")  # 5643 is too high"
   ]
  },
  {
   "cell_type": "markdown",
   "metadata": {},
   "source": [
    "## Part 2\n",
    "\n",
    "Get all the incorrectly ordered updates and use the rules to put them in the right order.\n",
    "\n",
    "This one was tricky - as part two is recursive. Every time you apply a rule to fix an update, you effectively have a new update, to which you need to apply all the rules again.\n",
    "\n",
    "I was thinking of how to do this... until after some minutes I remembered recursion. We have a default case - once the last rule is appled, we can just return the update as it was passed in, which makes the recursive function easy to think about:"
   ]
  },
  {
   "cell_type": "code",
   "execution_count": 163,
   "metadata": {},
   "outputs": [
    {
     "data": {
      "text/plain": [
       "[97, 75, 47, 29, 13]"
      ]
     },
     "execution_count": 163,
     "metadata": {},
     "output_type": "execute_result"
    }
   ],
   "source": [
    "def fix_update(update, rules, debug=False):\n",
    "    \"\"\"recursively fixes updates\"\"\"\n",
    "    for rule in rules:\n",
    "        first, second = rule\n",
    "        if (first in update) and (second in update):\n",
    "            i = update.index(first)\n",
    "            j = update.index(second)\n",
    "\n",
    "            if i > j:  # need to swap\n",
    "                update[i], update[j] = (\n",
    "                    update[j],\n",
    "                    update[i],\n",
    "                )\n",
    "                # we have a new update, need to check it for all the rules\n",
    "                return fix_update(update, rules, debug)\n",
    "\n",
    "    return update\n",
    "\n",
    "\n",
    "fix_update(update, rules)"
   ]
  },
  {
   "cell_type": "code",
   "execution_count": 164,
   "metadata": {},
   "outputs": [
    {
     "name": "stdout",
     "output_type": "stream",
     "text": [
      "[97, 75] violated in update=[75, 97, 47, 61, 53]\n",
      "[75, 97, 47, 61, 53]\n",
      "lst=[97, 75, 47, 61, 53]\n",
      "[29, 13] violated in update=[61, 13, 29]\n",
      "[61, 13, 29]\n",
      "lst=[61, 29, 13]\n",
      "[29, 13] violated in update=[97, 13, 75, 29, 47]\n",
      "[97, 13, 75, 29, 47]\n",
      "lst=[97, 75, 47, 29, 13]\n",
      "123, nums=[47, 29, 47]\n",
      "\n",
      "Part 2: 5564\n"
     ]
    }
   ],
   "source": [
    "def solve_2(inp: str = sample_input, debug: bool = False):\n",
    "    rules, updates = parse_input(inp)\n",
    "\n",
    "    nums = []\n",
    "\n",
    "    for update in (\n",
    "        update for update in updates if not check_update(update, rules, debug)\n",
    "    ):\n",
    "        if debug:\n",
    "            print(f\"{update}\")\n",
    "        lst = fix_update(update, rules)\n",
    "        if debug:\n",
    "            print(f\"{lst=}\")\n",
    "        nums.append(get_middle_num(lst))\n",
    "\n",
    "    ans = sum(nums)\n",
    "    if debug:\n",
    "        print(f\"{ans}, {nums=}\")\n",
    "    return {\"result\": ans}\n",
    "\n",
    "\n",
    "solve_2(sample_input, debug=True)\n",
    "assert solve_2(sample_input)[\"result\"] == 123  # p2 sample input answer\n",
    "\n",
    "results = solve_2(puzzle_input, debug=False)\n",
    "print(f\"\\nPart 2: {results[\"result\"]}\")"
   ]
  }
 ],
 "metadata": {
  "kernelspec": {
   "display_name": "py312",
   "language": "python",
   "name": "python3"
  },
  "language_info": {
   "codemirror_mode": {
    "name": "ipython",
    "version": 3
   },
   "file_extension": ".py",
   "mimetype": "text/x-python",
   "name": "python",
   "nbconvert_exporter": "python",
   "pygments_lexer": "ipython3",
   "version": "3.12.7"
  }
 },
 "nbformat": 4,
 "nbformat_minor": 4
}
