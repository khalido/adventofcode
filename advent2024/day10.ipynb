{
 "cells": [
  {
   "cell_type": "code",
   "execution_count": 39,
   "metadata": {},
   "outputs": [],
   "source": [
    "import utils\n",
    "\n",
    "import re\n",
    "from collections import Counter\n",
    "from dataclasses import dataclass\n",
    "import numpy as np\n",
    "from collections import deque"
   ]
  },
  {
   "cell_type": "markdown",
   "metadata": {},
   "source": [
    "## Day 10: Hoof It\n",
    "\n",
    "[#](https://adventofcode.com/2024/day/10) Another map problem! This time with a 3d map!\n",
    "\n",
    "Make a 2d grid from the puzzle input, where the numbers `0-9` represent the height at each position.\n",
    "\n",
    "Find all the good hiking trails on the map. Good trails are defined by being as long as possible and having an even uphill slope. Trails should:\n",
    "1. Start from 0, end at 9\n",
    "2. Increase by 1 at each step\n",
    "3. Only move up, down, left or right\n",
    "\n",
    "Every trailhead is scocred by the number of height 9 positions you can reach from there on a hiking trail."
   ]
  },
  {
   "cell_type": "code",
   "execution_count": 58,
   "metadata": {},
   "outputs": [],
   "source": [
    "sample_input: str = \"\"\"\n",
    "89010123\n",
    "78121874\n",
    "87430965\n",
    "96549874\n",
    "45678903\n",
    "32019012\n",
    "01329801\n",
    "10456732\n",
    "\"\"\"\n",
    "\n",
    "puzzle_input = utils.get_input(10, splitlines=False)"
   ]
  },
  {
   "cell_type": "code",
   "execution_count": 59,
   "metadata": {},
   "outputs": [
    {
     "name": "stdout",
     "output_type": "stream",
     "text": [
      "[[8, 9, 0, 1, 0, 1, 2, 3], [7, 8, 1, 2, 1, 8, 7, 4], [8, 7, 4, 3, 0, 9, 6, 5], [9, 6, 5, 4, 9, 8, 7, 4], [4, 5, 6, 7, 8, 9, 0, 3], [3, 2, 0, 1, 9, 0, 1, 2], [0, 1, 3, 2, 9, 8, 0, 1], [1, 0, 4, 5, 6, 7, 3, 2]]\n"
     ]
    }
   ],
   "source": [
    "def parse_input(input_str=sample_input, debug=False):\n",
    "    \"\"\"returns 2d grid\"\"\"\n",
    "    return [[int(char) for char in row] for row in input_str.strip().splitlines()]\n",
    "\n",
    "\n",
    "grid = parse_input(sample_input, True)\n",
    "print(grid)"
   ]
  },
  {
   "cell_type": "code",
   "execution_count": 60,
   "metadata": {},
   "outputs": [
    {
     "data": {
      "text/plain": [
       "[(2, 0), (4, 0), (4, 2), (6, 4), (2, 5), (5, 5), (0, 6), (6, 6), (1, 7)]"
      ]
     },
     "execution_count": 60,
     "metadata": {},
     "output_type": "execute_result"
    }
   ],
   "source": [
    "def find_trailheads(grid=grid):\n",
    "    \"\"\"returns trailhead positions\"\"\"\n",
    "    trailheads = []\n",
    "    for y, row in enumerate(grid):\n",
    "        for x, height in enumerate(row):\n",
    "            if height == 0:\n",
    "                trailheads.append((x, y))\n",
    "    return trailheads\n",
    "\n",
    "\n",
    "trailheads = find_trailheads(grid)\n",
    "trailheads"
   ]
  },
  {
   "cell_type": "markdown",
   "metadata": {},
   "source": [
    "Bread first search: from a given starting node:\n",
    "1. check unvisited neighbours, add to queue if valid , and mark as visitied\n",
    "2. now keep doing this for all nodes in the queue, and keep adding valid nodes\n",
    "3. Stop when target found, or increment a counter if finding multiple targets.\n",
    "\n",
    "BFS key point: track visited nodes, so you don't re-visit them, else can cause infinite loops and return longer than optimal paths\n",
    "\n"
   ]
  },
  {
   "cell_type": "code",
   "execution_count": null,
   "metadata": {},
   "outputs": [
    {
     "data": {
      "text/plain": [
       "5"
      ]
     },
     "execution_count": 63,
     "metadata": {},
     "output_type": "execute_result"
    }
   ],
   "source": [
    "def bfs(pos, grid=grid):\n",
    "    \"\"\"bread first search, returns the number of 9 positions reachable from a given pos\"\"\"\n",
    "    x, y = pos\n",
    "    X = len(grid[0])\n",
    "    Y = len(grid)\n",
    "\n",
    "    visited = set() # can't reuse positions in a path\n",
    "    count_9 = 0\n",
    "    queue = deque([pos])\n",
    "\n",
    "    while queue:\n",
    "        (x, y) = queue.popleft()\n",
    "        if (x, y) in visited:\n",
    "            continue\n",
    "        visited.add((x, y))\n",
    "\n",
    "        if grid[y][x] == 9:\n",
    "            count_9 += 1\n",
    "\n",
    "        # check in 4 directions only\n",
    "        for dx, dy in [(0, -1), (0, 1), (1, 0), (-1, 0)]:\n",
    "            nx, ny = x + dx, y + dy\n",
    "\n",
    "            if 0 <= nx < X and 0 <= ny < Y and grid[ny][nx] == grid[y][x] + 1:\n",
    "                queue.append((nx, ny))\n",
    "\n",
    "    return count_9\n",
    "\n",
    "\n",
    "bfs((2, 0))"
   ]
  },
  {
   "cell_type": "code",
   "execution_count": 88,
   "metadata": {},
   "outputs": [
    {
     "data": {
      "text/plain": [
       "5"
      ]
     },
     "execution_count": 88,
     "metadata": {},
     "output_type": "execute_result"
    }
   ],
   "source": [
    "def search(pos, grid=grid, bfs=True, track_visited=True, debug=False):\n",
    "    \"\"\"bread first search, returns the number of 9 positions reachable from a given pos\"\"\"\n",
    "    x, y = pos\n",
    "    X = len(grid[0])\n",
    "    Y = len(grid)\n",
    "\n",
    "    visited = set()  # can't reuse positions in a path\n",
    "    count_9 = 0\n",
    "    queue = deque([pos])\n",
    "\n",
    "    while queue:\n",
    "\n",
    "        if bfs:\n",
    "            (x, y) = queue.popleft()  # bfs\n",
    "        else:\n",
    "            (x, y) = queue.pop()  # dfs\n",
    "\n",
    "        if track_visited:\n",
    "            if (x, y) in visited:\n",
    "                continue\n",
    "            visited.add((x, y))\n",
    "\n",
    "        if grid[y][x] == 9:\n",
    "            count_9 += 1\n",
    "\n",
    "        # check in 4 directions only\n",
    "        for dx, dy in [(0, -1), (0, 1), (1, 0), (-1, 0)]:\n",
    "            nx, ny = x + dx, y + dy\n",
    "\n",
    "            if 0 <= nx < X and 0 <= ny < Y and grid[ny][nx] == grid[y][x] + 1:\n",
    "                queue.append((nx, ny))\n",
    "\n",
    "    return count_9\n",
    "\n",
    "\n",
    "search((2, 0))"
   ]
  },
  {
   "cell_type": "code",
   "execution_count": 89,
   "metadata": {},
   "outputs": [
    {
     "name": "stdout",
     "output_type": "stream",
     "text": [
      "5 [5, 6, 5, 3, 1, 3, 5, 3, 5]\n",
      "Part 1: 517\n"
     ]
    }
   ],
   "source": [
    "def solve(inp: str = sample_input, bfs=True, track_visited=True, debug: bool = False):\n",
    "    grid = parse_input(inp)\n",
    "    trailheads = find_trailheads(grid)\n",
    "    trail_scores = []\n",
    "    for head in trailheads:\n",
    "        score = search(head, grid, bfs, track_visited, debug)\n",
    "        trail_scores.append(score)\n",
    "\n",
    "    if debug:\n",
    "        print(f\"{score} {trail_scores}\")\n",
    "\n",
    "    return {\"result\": sum(trail_scores), \"trail_scores\": trail_scores}\n",
    "\n",
    "\n",
    "assert solve(sample_input, bfs=True, debug=True)[\"result\"] == 36  # sample ans check\n",
    "\n",
    "results = solve(puzzle_input, debug=False)\n",
    "print(f\"Part 1: {results[\"result\"]}\")"
   ]
  },
  {
   "cell_type": "markdown",
   "metadata": {},
   "source": [
    "## Part 2\n",
    "\n",
    "Each trailhead now gets a rating - which is the number of distinct hiking trails which begin at that trailhead.\n",
    "\n",
    "This is really a english problem - part 1 you can't revisit points, while in part 2 you can. This was the fastest part 2 of all the days so far!\n",
    "\n",
    "Thanks to using BFS or DFS above - the only change I had to do was remove tracking visited positions.\n",
    "\n"
   ]
  },
  {
   "cell_type": "code",
   "execution_count": 93,
   "metadata": {},
   "outputs": [
    {
     "data": {
      "text/plain": [
       "1116"
      ]
     },
     "execution_count": 93,
     "metadata": {},
     "output_type": "execute_result"
    }
   ],
   "source": [
    "assert solve(track_visited=False)[\"result\"] == 81\n",
    "solve(puzzle_input, track_visited=False)[\"result\"]"
   ]
  },
  {
   "cell_type": "code",
   "execution_count": 95,
   "metadata": {},
   "outputs": [
    {
     "data": {
      "text/plain": [
       "1116"
      ]
     },
     "execution_count": 95,
     "metadata": {},
     "output_type": "execute_result"
    }
   ],
   "source": [
    "assert solve(bfs=False, track_visited=False)[\"result\"] == 81\n",
    "solve(puzzle_input, bfs=False, track_visited=False)[\"result\"]"
   ]
  }
 ],
 "metadata": {
  "kernelspec": {
   "display_name": "py312",
   "language": "python",
   "name": "python3"
  },
  "language_info": {
   "codemirror_mode": {
    "name": "ipython",
    "version": 3
   },
   "file_extension": ".py",
   "mimetype": "text/x-python",
   "name": "python",
   "nbconvert_exporter": "python",
   "pygments_lexer": "ipython3",
   "version": "3.12.7"
  }
 },
 "nbformat": 4,
 "nbformat_minor": 4
}
