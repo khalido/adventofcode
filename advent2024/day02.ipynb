{
 "cells": [
  {
   "cell_type": "code",
   "execution_count": 2,
   "metadata": {},
   "outputs": [],
   "source": [
    "import utils\n",
    "\n",
    "import re\n",
    "from collections import Counter"
   ]
  },
  {
   "cell_type": "markdown",
   "metadata": {},
   "source": [
    "## Day 2: Red-Nosed Reports\n",
    "\n",
    "[#](https://adventofcode.com/2024/day/2) We have a report per line, and need to figure out which reports are safe. \n",
    "\n",
    "A report is safe all numbers in it are increasing or decreasing by min 1 to max 3."
   ]
  },
  {
   "cell_type": "code",
   "execution_count": 12,
   "metadata": {},
   "outputs": [],
   "source": [
    "sample_input: str = \"\"\"7 6 4 2 1\n",
    "1 2 7 8 9\n",
    "9 7 6 2 1\n",
    "1 3 2 4 5\n",
    "8 6 4 4 1\n",
    "1 3 6 7 9\n",
    "\"\"\"\n",
    "\n",
    "puzzle_input = utils.get_input(2, splitlines=False)"
   ]
  },
  {
   "cell_type": "code",
   "execution_count": 11,
   "metadata": {},
   "outputs": [
    {
     "name": "stdout",
     "output_type": "stream",
     "text": [
      "Line 0: '7 6 4 2 1' | Extracted: [7, 6, 4, 2, 1]\n",
      "Line 1: '1 2 7 8 9' | Extracted: [1, 2, 7, 8, 9]\n",
      "Line 2: '9 7 6 2 1' | Extracted: [9, 7, 6, 2, 1]\n",
      "Line 3: '1 3 2 4 5' | Extracted: [1, 3, 2, 4, 5]\n",
      "Line 4: '8 6 4 4 1' | Extracted: [8, 6, 4, 4, 1]\n",
      "Line 5: '1 3 6 7 9' | Extracted: [1, 3, 6, 7, 9]\n"
     ]
    }
   ],
   "source": [
    "def parse_input(input_str=sample_input, debug: bool = False):\n",
    "    data = []\n",
    "    for i, line in enumerate(input_str.splitlines()):\n",
    "        numbers = [int(x) for x in re.findall(r\"\\d+\", line)]\n",
    "        if debug:\n",
    "            print(f\"Line {i}: '{line}' | Extracted: {numbers}\")\n",
    "        data.append(numbers)\n",
    "    return data\n",
    "\n",
    "\n",
    "data = parse_input(sample_input, True)"
   ]
  },
  {
   "cell_type": "markdown",
   "metadata": {},
   "source": [
    "This is a bit ugly, but it works! There isn't much here... there is a builtin [itertools.pairwise](https://docs.python.org/3/library/itertools.html#itertools.pairwise) which was new to me, and would have done the job here, but to be safe I manually grabbed the number pairs."
   ]
  },
  {
   "cell_type": "code",
   "execution_count": 91,
   "metadata": {},
   "outputs": [
    {
     "data": {
      "text/plain": [
       "(True, False)"
      ]
     },
     "execution_count": 91,
     "metadata": {},
     "output_type": "execute_result"
    }
   ],
   "source": [
    "def check_report(nums: list[int]):\n",
    "    \"\"\"returns True for valid reports, False for invalid\"\"\"\n",
    "\n",
    "    # check list is sorted\n",
    "    if not (nums == sorted(nums) or nums == sorted(nums, reverse=True)):\n",
    "        return False\n",
    "\n",
    "    for i in range(len(nums) - 1):\n",
    "        x, y = nums[i : i + 2]\n",
    "\n",
    "        diff = x - y\n",
    "\n",
    "        match diff:\n",
    "            case _ if diff < 0:\n",
    "                if not (-3 <= x - y <= -1):\n",
    "                    return False\n",
    "            case _ if diff == 0:\n",
    "                return False\n",
    "            case _ if diff > 0:\n",
    "                if not (1 <= x - y <= 3):\n",
    "                    return False\n",
    "\n",
    "    return True\n",
    "\n",
    "\n",
    "check_report(data[0]), check_report(data[1])"
   ]
  },
  {
   "cell_type": "code",
   "execution_count": 70,
   "metadata": {},
   "outputs": [
    {
     "name": "stdout",
     "output_type": "stream",
     "text": [
      "Part 1: 421\n"
     ]
    }
   ],
   "source": [
    "def solve(inp: str = sample_input, debug: bool = False):\n",
    "    data = parse_input(inp)\n",
    "\n",
    "    ans = sum([check_report(report) for report in data])\n",
    "\n",
    "    return {\"result\": ans}\n",
    "\n",
    "\n",
    "assert solve(sample_input)[\"result\"] == 2  # sample ans check\n",
    "\n",
    "results = solve(puzzle_input, debug=False)\n",
    "print(f\"Part 1: {results[\"result\"]}\")"
   ]
  },
  {
   "cell_type": "markdown",
   "metadata": {},
   "source": [
    "## Part 2\n",
    "\n",
    "We have a additional safety system which can render resports with only one bad level safe.\n"
   ]
  },
  {
   "cell_type": "code",
   "execution_count": 82,
   "metadata": {},
   "outputs": [
    {
     "name": "stdout",
     "output_type": "stream",
     "text": [
      "report=[1, 3, 2, 4, 5], i=1, nums=[1, 2, 4, 5]\n"
     ]
    },
    {
     "data": {
      "text/plain": [
       "[1, 2, 4, 5]"
      ]
     },
     "execution_count": 82,
     "metadata": {},
     "output_type": "execute_result"
    }
   ],
   "source": [
    "def remove_bad_level(report, i, debug: bool = False):\n",
    "\n",
    "    nums = report[:i] + report[i + 1 :]\n",
    "    if debug:\n",
    "        print(f\"{report=}, {i=}, {nums=}\")\n",
    "    return nums\n",
    "\n",
    "\n",
    "remove_bad_level(data[3], 1, True)"
   ]
  },
  {
   "cell_type": "code",
   "execution_count": 92,
   "metadata": {},
   "outputs": [
    {
     "name": "stdout",
     "output_type": "stream",
     "text": [
      "nums=[1, 3, 2, 4, 5]\n",
      "report=[1, 3, 2, 4, 5], i=0, nums=[3, 2, 4, 5]\n",
      "Trying with level removed at index 0: [3, 2, 4, 5]\n",
      "report=[1, 3, 2, 4, 5], i=1, nums=[1, 2, 4, 5]\n",
      "Trying with level removed at index 1: [1, 2, 4, 5]\n"
     ]
    },
    {
     "data": {
      "text/plain": [
       "(True, True)"
      ]
     },
     "execution_count": 92,
     "metadata": {},
     "output_type": "execute_result"
    }
   ],
   "source": [
    "def check_report_2(nums: list[int], debug: bool = False):\n",
    "    \"\"\"returns True for valid reports, False for invalid\"\"\"\n",
    "    if debug:\n",
    "        print(f\"{nums=}\")\n",
    "\n",
    "    if check_report(nums):\n",
    "        return True\n",
    "\n",
    "    for i in range(len(nums)):\n",
    "        nums_2 = remove_bad_level(nums, i, debug=debug)\n",
    "\n",
    "        if debug:\n",
    "            print(f\"Trying with level removed at index {i}: {nums_2}\")\n",
    "\n",
    "        if check_report(nums_2):\n",
    "            return True\n",
    "    return False\n",
    "\n",
    "\n",
    "check_report_2(data[0]), check_report_2(data[3], True)"
   ]
  },
  {
   "cell_type": "code",
   "execution_count": 93,
   "metadata": {},
   "outputs": [
    {
     "name": "stdout",
     "output_type": "stream",
     "text": [
      "report=[7, 6, 4, 2, 1]\n",
      "report=[1, 3, 2, 4, 5]\n",
      "report=[8, 6, 4, 4, 1]\n",
      "report=[1, 3, 6, 7, 9]\n",
      "ans=4\n",
      "\n",
      "Part 2: 476\n"
     ]
    }
   ],
   "source": [
    "def solve_2(inp: str = sample_input, debug: bool = False):\n",
    "    data = parse_input(inp)\n",
    "    ans = 0\n",
    "    for report in data:\n",
    "        if check_report_2(report):\n",
    "            ans += 1\n",
    "            if debug:\n",
    "                print(f\"{report=}\")\n",
    "\n",
    "    if debug:\n",
    "        print(f\"{ans=}\")\n",
    "\n",
    "    return {\"result\": ans}\n",
    "\n",
    "\n",
    "solve_2(sample_input, debug=True)\n",
    "assert solve_2(sample_input)[\"result\"] == 4  # p2 sample input answer\n",
    "\n",
    "results = solve_2(puzzle_input, debug=False)\n",
    "print(f\"\\nPart 2: {results[\"result\"]}\")"
   ]
  }
 ],
 "metadata": {
  "kernelspec": {
   "display_name": "py312",
   "language": "python",
   "name": "python3"
  },
  "language_info": {
   "codemirror_mode": {
    "name": "ipython",
    "version": 3
   },
   "file_extension": ".py",
   "mimetype": "text/x-python",
   "name": "python",
   "nbconvert_exporter": "python",
   "pygments_lexer": "ipython3",
   "version": "3.12.7"
  }
 },
 "nbformat": 4,
 "nbformat_minor": 4
}
