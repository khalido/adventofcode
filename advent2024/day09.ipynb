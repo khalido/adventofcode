{
 "cells": [
  {
   "cell_type": "code",
   "execution_count": 160,
   "metadata": {},
   "outputs": [
    {
     "name": "stdout",
     "output_type": "stream",
     "text": [
      "The line_profiler extension is already loaded. To reload it, use:\n",
      "  %reload_ext line_profiler\n"
     ]
    }
   ],
   "source": [
    "import utils\n",
    "\n",
    "import re\n",
    "from collections import Counter\n",
    "from itertools import pairwise\n",
    "from dataclasses import dataclass, field\n",
    "from collections import defaultdict, deque\n",
    "from line_profiler import profile\n",
    "%load_ext line_profiler"
   ]
  },
  {
   "cell_type": "markdown",
   "metadata": {},
   "source": [
    "## Day 9: Disk Fragmenter\n",
    "\n",
    "[#](https://adventofcode.com/2024/day/9) A disk map represents the layout of files and free space. The digits alternate between the num of blocks in a file and the length of free space.\n",
    "\n",
    "1. Defrag the hd\n",
    "2. calcuate a disk checksum by adding: file_id * file_position for each block (ignoring empty blocks).\n",
    "\n",
    "This problem is interesting as its a classic CS problem which can be solved multiple ways. I vaguely remember linked lists and pointers from C++, but over here in python I'm going to represent a disk as a list of blocks or something."
   ]
  },
  {
   "cell_type": "code",
   "execution_count": 137,
   "metadata": {},
   "outputs": [],
   "source": [
    "sample_input: str = \"\"\"2333133121414131402\"\"\"\n",
    "\n",
    "puzzle_input = utils.get_input(9, splitlines=False)"
   ]
  },
  {
   "cell_type": "markdown",
   "metadata": {},
   "source": [
    "And on day 9, I finally got around to using OO programming - a disk is a list of blocks."
   ]
  },
  {
   "cell_type": "code",
   "execution_count": 159,
   "metadata": {},
   "outputs": [
    {
     "name": "stdout",
     "output_type": "stream",
     "text": [
      "00...111...2...333.44.5555.6666.777.888899\n"
     ]
    }
   ],
   "source": [
    "@dataclass\n",
    "class Block:\n",
    "    pos: int\n",
    "    file_id: int  # file_id the block contains, -1 is empty\n",
    "\n",
    "    def checksum(self):\n",
    "        return self.pos * self.file_id\n",
    "\n",
    "\n",
    "@dataclass\n",
    "class Disk:\n",
    "    blocks: list = field(default_factory=list)\n",
    "\n",
    "    def checksum(self):\n",
    "        return sum((b.pos * b.file_id for b in self.blocks if b.file_id > -1))\n",
    "\n",
    "    def swap_blocks(self, pos1: int, pos2: int):\n",
    "        self.blocks[pos1].file_id, self.blocks[pos2].file_id = (\n",
    "            self.blocks[pos2].file_id,\n",
    "            self.blocks[pos1].file_id,\n",
    "        )\n",
    "\n",
    "    def get_first_empty_pos(self):\n",
    "        for block in self.blocks:\n",
    "            if block.file_id == -1:\n",
    "                return block.pos\n",
    "        return False\n",
    "\n",
    "    def get_last_full(self):\n",
    "        for block in self.blocks[::-1]:\n",
    "            if block.file_id != -1:\n",
    "                return block.pos\n",
    "\n",
    "    @profile\n",
    "    def defrag_blocks(self, debug=False):\n",
    "        if debug:\n",
    "            print(self)\n",
    "        empty_pos = self.get_first_empty_pos()\n",
    "        right_pos = self.get_last_full()\n",
    "\n",
    "        while right_pos > empty_pos:\n",
    "            self.swap_blocks(empty_pos, right_pos)\n",
    "\n",
    "            empty_pos = self.get_first_empty_pos()\n",
    "            right_pos = self.get_last_full()\n",
    "            if debug:\n",
    "                print(self)\n",
    "\n",
    "    def __str__(self):\n",
    "        return \"\".join(\n",
    "            [str(b.file_id) if b.file_id != -1 else \".\" for b in self.blocks]\n",
    "        )\n",
    "\n",
    "\n",
    "def parse_input(input_str=sample_input, debug: bool = False):\n",
    "    blocks = []\n",
    "    nums = [int(n) for n in input_str.strip()]\n",
    "\n",
    "    position = 0\n",
    "\n",
    "    for id, length in enumerate(nums):\n",
    "        is_file = id % 2 == 0\n",
    "        file_id = id // 2 if is_file else -1\n",
    "        for _ in range(position, position + length):\n",
    "            # the input alternates b/w file and free space\n",
    "            blocks.append(Block(position, file_id))\n",
    "            position += 1\n",
    "\n",
    "    return Disk(blocks)\n",
    "\n",
    "\n",
    "disk = parse_input(sample_input, True)\n",
    "print(disk)"
   ]
  },
  {
   "cell_type": "code",
   "execution_count": 165,
   "metadata": {},
   "outputs": [
    {
     "name": "stdout",
     "output_type": "stream",
     "text": [
      "00...111...2...333.44.5555.6666.777.888899\n",
      "009..111...2...333.44.5555.6666.777.88889.\n",
      "0099.111...2...333.44.5555.6666.777.8888..\n",
      "00998111...2...333.44.5555.6666.777.888...\n",
      "009981118..2...333.44.5555.6666.777.88....\n",
      "0099811188.2...333.44.5555.6666.777.8.....\n",
      "009981118882...333.44.5555.6666.777.......\n",
      "0099811188827..333.44.5555.6666.77........\n",
      "00998111888277.333.44.5555.6666.7.........\n",
      "009981118882777333.44.5555.6666...........\n",
      "009981118882777333644.5555.666............\n",
      "00998111888277733364465555.66.............\n",
      "0099811188827773336446555566..............\n",
      "Part 1: 6471961544878\n",
      "CPU times: user 16.6 s, sys: 189 ms, total: 16.7 s\n",
      "Wall time: 16.8 s\n"
     ]
    }
   ],
   "source": [
    "%%time\n",
    "def solve(inp: str = sample_input, debug: bool = False):\n",
    "    disk = parse_input(inp)\n",
    "\n",
    "    disk.defrag_blocks(debug)\n",
    "\n",
    "    return {\"result\": disk.checksum()}\n",
    "\n",
    "\n",
    "assert solve(sample_input, True)[\"result\"] == 1928  # sample ans check\n",
    "\n",
    "results = solve(puzzle_input, debug=False)\n",
    "print(f\"Part 1: {results[\"result\"]}\")"
   ]
  },
  {
   "cell_type": "markdown",
   "metadata": {},
   "source": [
    "This was quite slow - I would guess the main culprit here is the many many iterations in the defrag func looking for blocks. Testing that theory:"
   ]
  },
  {
   "cell_type": "code",
   "execution_count": 168,
   "metadata": {},
   "outputs": [
    {
     "name": "stdout",
     "output_type": "stream",
     "text": [
      "Timer unit: 1e-09 s\n",
      "\n",
      "Total time: 82.4217 s\n",
      "File: /var/folders/8k/lqs5dh5j5ln8f85vhjz20ctr0000gn/T/ipykernel_13454/2316221461.py\n",
      "Function: defrag_blocks at line 34\n",
      "\n",
      "Line #      Hits         Time  Per Hit   % Time  Line Contents\n",
      "==============================================================\n",
      "    34                                               @profile\n",
      "    35                                               def defrag_blocks(self, debug=False):\n",
      "    36         1       1000.0   1000.0      0.0          if debug:\n",
      "    37                                                       print(self)\n",
      "    38         1       2000.0   2000.0      0.0          empty_pos = self.get_first_empty_pos()\n",
      "    39         1     911000.0 911000.0      0.0          right_pos = self.get_last_full()\n",
      "    40                                           \n",
      "    41     23695   11980000.0    505.6      0.0          while right_pos > empty_pos:\n",
      "    42     23694   14313000.0    604.1      0.0              self.swap_blocks(empty_pos, right_pos)\n",
      "    43                                           \n",
      "    44     23694        4e+10    2e+06     49.5              empty_pos = self.get_first_empty_pos()\n",
      "    45     23694        4e+10    2e+06     50.5              right_pos = self.get_last_full()\n",
      "    46     23694    3761000.0    158.7      0.0              if debug:\n",
      "    47                                                           print(self)"
     ]
    }
   ],
   "source": [
    "%lprun -f disk.defrag_blocks solve(puzzle_input, debug=False)"
   ]
  },
  {
   "cell_type": "markdown",
   "metadata": {},
   "source": [
    "I was right, it's the iterations which take up 99.5% the time - this is a easy problem to solve but leaving it for future learnings. "
   ]
  },
  {
   "cell_type": "markdown",
   "metadata": {},
   "source": [
    "## Part 2\n",
    "\n",
    "Instead of moving individual blocks, starting from the right, move the whole file to the first block of free space which will fit the file.\n",
    "\n",
    "My solution above is a bit shit, so I had to redo it for part 2. My unit is now a Chunk (of blocks) instead of 1 block at a time.\n",
    "\n",
    "The trick part which got me stuck for a while was: I was looping over a list, but inserting into the list along the loop - which was messing up the idx position I was looking at. Moral of the story: don't insert into a list while looping over it!\n",
    "\n",
    "There are a lot of ways to speed up the below, e,g maintaining a seperate file index instead of going through the files list every time to find a file, and I'm sure many others.\n"
   ]
  },
  {
   "cell_type": "code",
   "execution_count": 174,
   "metadata": {},
   "outputs": [
    {
     "name": "stdout",
     "output_type": "stream",
     "text": [
      "00...111...2...333.44.5555.6666.777.888899\n",
      "0099.111...2...333.44.5555.6666.777.8888..\n",
      "0099.1117772...333.44.5555.6666.....8888..\n",
      "0099.111777244.333....5555.6666.....8888..\n",
      "00992111777.44.333....5555.6666.....8888..\n"
     ]
    }
   ],
   "source": [
    "@dataclass\n",
    "class Chunk:\n",
    "    \"\"\"Chunk of Blocks, size defines how many blocks a chunk has\"\"\"\n",
    "\n",
    "    pos: int\n",
    "    size: int\n",
    "    file_id: int  # file_id the chunk has a file, -1 is empty\n",
    "\n",
    "    def checksum(self):\n",
    "        return self.pos * self.id\n",
    "\n",
    "\n",
    "@dataclass\n",
    "class Disk:\n",
    "    chunks: list = field(default_factory=list)\n",
    "    size: int = field(init=False)\n",
    "\n",
    "    def __post_init__(self):\n",
    "        self.size = len(self.chunks)\n",
    "\n",
    "    def checksum(self):\n",
    "        ans = 0\n",
    "        position = 0\n",
    "        for chunk in self.chunks:\n",
    "            if chunk.file_id > -1:\n",
    "                for pos in range(position, position + chunk.size):\n",
    "                    ans += pos * chunk.file_id\n",
    "                    position += 1\n",
    "            else:\n",
    "                position += chunk.size\n",
    "        return ans\n",
    "\n",
    "    def swap_chunks(self, free_pos, file_pos, debug=False):\n",
    "        \"\"\"swaps chunks, splits free space if needed\"\"\"\n",
    "        b1, b2 = self.chunks[free_pos], self.chunks[file_pos]\n",
    "        if debug:\n",
    "            print(\"swapping :\", b1, b2)\n",
    "        if (b1.size >= b2.size) and b1.file_id == -1:\n",
    "            if b1.size > b2.size:  # split the free chunk\n",
    "                new_chunk = Chunk(b1.pos + b2.size, b1.size - b2.size, -1)\n",
    "                self.chunks[free_pos].size = b2.size\n",
    "\n",
    "                self.chunks.insert(free_pos + 1, new_chunk)\n",
    "                self.size += 1\n",
    "                file_pos += 1  # hmm... what about chunks to the right of insertion\n",
    "\n",
    "            self.chunks[free_pos], self.chunks[file_pos] = (\n",
    "                self.chunks[file_pos],\n",
    "                self.chunks[free_pos],\n",
    "            )\n",
    "\n",
    "    def defrag(self, debug=False):\n",
    "        file_ids = sorted(\n",
    "            {b.file_id for b in self.chunks if b.file_id != -1}, reverse=True\n",
    "        )\n",
    "\n",
    "        moved_files = set()  # Keep track of moved files\n",
    "\n",
    "        if debug:\n",
    "            print(self)\n",
    "\n",
    "        for file_id in file_ids:\n",
    "            if file_id in moved_files:\n",
    "                continue  # skip already moved files\n",
    "\n",
    "            # find index of file - this is slow, ideally maintain an index of chunk: position to make this a lookup\n",
    "            for i, chunk in enumerate(self.chunks):\n",
    "                if chunk.file_id == file_id:\n",
    "                    idx = i\n",
    "                    break\n",
    "            file = self.chunks[idx]\n",
    "            # find leftmost free chunk which can fit our file\n",
    "            for j in range(idx):  # only look uptil the files pos in chunks list\n",
    "                chunk = self.chunks[j]\n",
    "                if chunk.file_id == -1 and chunk.size >= file.size:\n",
    "                    self.swap_chunks(j, idx)\n",
    "                    moved_files.add(file_id)\n",
    "                    if debug:\n",
    "                        print(self)\n",
    "                    break\n",
    "\n",
    "    def __str__(self):\n",
    "        return \"\".join(\n",
    "            [\n",
    "                str(b.file_id) * b.size if b.file_id != -1 else \".\" * b.size\n",
    "                for b in self.chunks\n",
    "            ]\n",
    "        )\n",
    "\n",
    "\n",
    "def parse_input(input_str=sample_input, debug: bool = False):\n",
    "    chunks = []\n",
    "    nums = [int(n) for n in input_str.strip()]\n",
    "\n",
    "    position = 0\n",
    "\n",
    "    for id, length in enumerate(nums):\n",
    "        is_file = id % 2 == 0\n",
    "        file_id = id // 2 if is_file else -1\n",
    "        chunks.append(Chunk(position, size=length, file_id=file_id))\n",
    "        position += length\n",
    "\n",
    "    return Disk(chunks)\n",
    "\n",
    "\n",
    "disk = parse_input(sample_input, False)\n",
    "disk.defrag(True)\n",
    "assert \"00992111777.44.333....5555.6666.....8888..\" == disk.__str__()\n",
    "assert disk.checksum() == 2858"
   ]
  },
  {
   "cell_type": "code",
   "execution_count": 175,
   "metadata": {},
   "outputs": [
    {
     "name": "stdout",
     "output_type": "stream",
     "text": [
      "CPU times: user 3.97 s, sys: 37 ms, total: 4.01 s\n",
      "Wall time: 4 s\n"
     ]
    },
    {
     "data": {
      "text/plain": [
       "6511178035564"
      ]
     },
     "execution_count": 175,
     "metadata": {},
     "output_type": "execute_result"
    }
   ],
   "source": [
    "%%time\n",
    "disk = parse_input(puzzle_input, False)\n",
    "disk.defrag()\n",
    "disk.checksum()"
   ]
  },
  {
   "cell_type": "markdown",
   "metadata": {},
   "source": [
    "Part 2 runs much faster then before, but here as well an index of files would speed this up:"
   ]
  },
  {
   "cell_type": "code",
   "execution_count": 176,
   "metadata": {},
   "outputs": [
    {
     "name": "stdout",
     "output_type": "stream",
     "text": [
      "Timer unit: 1e-09 s\n",
      "\n",
      "Total time: 48.4577 s\n",
      "File: /var/folders/8k/lqs5dh5j5ln8f85vhjz20ctr0000gn/T/ipykernel_13454/302338560.py\n",
      "Function: defrag at line 52\n",
      "\n",
      "Line #      Hits         Time  Per Hit   % Time  Line Contents\n",
      "==============================================================\n",
      "    52                                               def defrag(self, debug=False):\n",
      "    53         2     123000.0  61500.0      0.0          file_ids = sorted(\n",
      "    54     20000    3697000.0    184.8      0.0              {b.file_id for b in self.chunks if b.file_id != -1}, reverse=True\n",
      "    55                                                   )\n",
      "    56                                           \n",
      "    57         1       1000.0   1000.0      0.0          moved_files = set()  # Keep track of moved files\n",
      "    58                                           \n",
      "    59         1          0.0      0.0      0.0          if debug:\n",
      "    60                                                       print(self)\n",
      "    61                                           \n",
      "    62     10001    6068000.0    606.7      0.0          for file_id in file_ids:\n",
      "    63     10000    3945000.0    394.5      0.0              if file_id in moved_files:\n",
      "    64                                                           continue  # skip already moved files\n",
      "    65                                           \n",
      "    66                                                       # find index of file - this is slow, ideally maintain an index of chunk: position to make this a lookup\n",
      "    67 102361094        1e+10    139.2     29.4              for i, chunk in enumerate(self.chunks):\n",
      "    68 102361094        1e+10    133.0     28.1                  if chunk.file_id == file_id:\n",
      "    69     10000    1297000.0    129.7      0.0                      idx = i\n",
      "    70     10000    4565000.0    456.5      0.0                      break\n",
      "    71     10000    2767000.0    276.7      0.0              file = self.chunks[idx]\n",
      "    72                                                       # find leftmost free chunk which can fit our file\n",
      "    73  53054720 7658557000.0    144.4     15.8              for j in range(idx):  # only look uptil the files pos in chunks list\n",
      "    74  53049592 5259046000.0     99.1     10.9                  chunk = self.chunks[j]\n",
      "    75  53049592 7632391000.0    143.9     15.8                  if chunk.file_id == -1 and chunk.size >= file.size:\n",
      "    76      4872   20543000.0   4216.5      0.0                      self.swap_chunks(j, idx)\n",
      "    77      4872    2320000.0    476.2      0.0                      moved_files.add(file_id)\n",
      "    78      4872     746000.0    153.1      0.0                      if debug:\n",
      "    79                                                                   print(self)\n",
      "    80      4872     735000.0    150.9      0.0                      break"
     ]
    }
   ],
   "source": [
    "disk = parse_input(puzzle_input, False)\n",
    "%lprun -f disk.defrag disk.defrag()"
   ]
  },
  {
   "cell_type": "markdown",
   "metadata": {},
   "source": [
    "About 60% time is spent just finding the actual chunk ID of a file!"
   ]
  }
 ],
 "metadata": {
  "kernelspec": {
   "display_name": "py312",
   "language": "python",
   "name": "python3"
  },
  "language_info": {
   "codemirror_mode": {
    "name": "ipython",
    "version": 3
   },
   "file_extension": ".py",
   "mimetype": "text/x-python",
   "name": "python",
   "nbconvert_exporter": "python",
   "pygments_lexer": "ipython3",
   "version": "3.12.7"
  }
 },
 "nbformat": 4,
 "nbformat_minor": 4
}
