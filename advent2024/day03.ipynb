{
 "cells": [
  {
   "cell_type": "code",
   "execution_count": 2,
   "metadata": {},
   "outputs": [],
   "source": [
    "import utils\n",
    "\n",
    "import re"
   ]
  },
  {
   "cell_type": "markdown",
   "metadata": {},
   "source": [
    "## Day 3: Mull It Over\n",
    "\n",
    "[#](https://adventofcode.com/2024/day/3) The computer memory is corrupt, and is adding corrupt chars to a program which consists of `mul(X,Y)` instructions.\n",
    "\n",
    "Ignore the corrupt chars and find all the valid `mul(X,Y)` commands, run them and add up the sum.\n",
    "\n",
    "A `mul(X,Y)` command is valid if it has no spaces or chars in the middle. "
   ]
  },
  {
   "cell_type": "code",
   "execution_count": 4,
   "metadata": {},
   "outputs": [
    {
     "data": {
      "text/plain": [
       "'xmul(2,4)%&mul[3,7]!@^do_not_mul(5,5)+mul(32,64]then(mul(11,8)mul(8,5))'"
      ]
     },
     "execution_count": 4,
     "metadata": {},
     "output_type": "execute_result"
    }
   ],
   "source": [
    "sample_input: str = (\n",
    "    \"\"\"xmul(2,4)%&mul[3,7]!@^do_not_mul(5,5)+mul(32,64]then(mul(11,8)mul(8,5))\"\"\"\n",
    ")\n",
    "\n",
    "puzzle_input = utils.get_input(3, splitlines=False)\n",
    "sample_input"
   ]
  },
  {
   "cell_type": "markdown",
   "metadata": {},
   "source": [
    "This is a interesting problem - very easy for a human to understand, but a bit tricky to implement. Since the pattern is very precise, `re` will work well here, but thinking of how this could be done without `re`."
   ]
  },
  {
   "cell_type": "code",
   "execution_count": 99,
   "metadata": {},
   "outputs": [
    {
     "data": {
      "text/plain": [
       "[('mul', '2', '4'), ('mul', '5', '5'), ('mul', '11', '8'), ('mul', '8', '5')]"
      ]
     },
     "execution_count": 99,
     "metadata": {},
     "output_type": "execute_result"
    }
   ],
   "source": [
    "pattern = r\"(mul)\\((\\d+),(\\d+)\\)\"\n",
    "cmd = re.findall(pattern, sample_input)\n",
    "cmd"
   ]
  },
  {
   "cell_type": "code",
   "execution_count": 34,
   "metadata": {},
   "outputs": [
    {
     "name": "stdout",
     "output_type": "stream",
     "text": [
      "('mul', '2', '4') ins=('mul', 2, 4)\n",
      "('mul', '5', '5') ins=('mul', 5, 5)\n",
      "('mul', '11', '8') ins=('mul', 11, 8)\n",
      "('mul', '8', '5') ins=('mul', 8, 5)\n"
     ]
    },
    {
     "data": {
      "text/plain": [
       "[('mul', 2, 4), ('mul', 5, 5), ('mul', 11, 8), ('mul', 8, 5)]"
      ]
     },
     "execution_count": 34,
     "metadata": {},
     "output_type": "execute_result"
    }
   ],
   "source": [
    "def parse_input(input_str=sample_input, debug: bool = False):\n",
    "    data = []\n",
    "    for cmd in re.findall(pattern, input_str):\n",
    "        ins = (cmd[0], int(cmd[1]), int(cmd[2]))\n",
    "\n",
    "        if debug:\n",
    "            print(f\"{cmd} {ins=}\")\n",
    "        data.append(ins)\n",
    "    return data\n",
    "\n",
    "\n",
    "data = parse_input(sample_input, True)\n",
    "data"
   ]
  },
  {
   "cell_type": "markdown",
   "metadata": {},
   "source": [
    "I'm sure part two will add instructions, so using match "
   ]
  },
  {
   "cell_type": "code",
   "execution_count": 100,
   "metadata": {},
   "outputs": [
    {
     "name": "stdout",
     "output_type": "stream",
     "text": [
      "data=[('mul', 2, 4), ('mul', 5, 5), ('mul', 11, 8), ('mul', 8, 5)] \n",
      "ans_list=[8, 25, 88, 40]\n",
      "\n",
      "Part 1: 188116424\n"
     ]
    }
   ],
   "source": [
    "def solve(inp: str = sample_input, debug: bool = False):\n",
    "    data = parse_input(inp)\n",
    "\n",
    "    ans_list = [x * y for _, x, y in data]\n",
    "    ans = sum(ans_list)\n",
    "\n",
    "    if debug:\n",
    "        print(f\"{data=} \\n{ans_list=}\\n\")\n",
    "\n",
    "    return {\"result\": ans}\n",
    "\n",
    "\n",
    "assert solve(sample_input, True)[\"result\"] == 161  # sample ans check\n",
    "\n",
    "results = solve(puzzle_input, debug=False)\n",
    "print(f\"Part 1: {results[\"result\"]}\")"
   ]
  },
  {
   "cell_type": "markdown",
   "metadata": {},
   "source": [
    "## Part 2\n",
    "\n",
    "> The do() instruction enables future mul instructions.\n",
    "> The don't() instruction disables future mul instructions.\n",
    "\n",
    "We have a `do()` and `don't()` commmand now, so first up updating the regex:\n"
   ]
  },
  {
   "cell_type": "code",
   "execution_count": 102,
   "metadata": {},
   "outputs": [
    {
     "data": {
      "text/plain": [
       "[('mul', '2', '4', '', ''),\n",
       " ('', '', '', '', \"don't\"),\n",
       " ('mul', '5', '5', '', ''),\n",
       " ('mul', '11', '8', '', ''),\n",
       " ('', '', '', 'do', ''),\n",
       " ('mul', '8', '5', '', '')]"
      ]
     },
     "execution_count": 102,
     "metadata": {},
     "output_type": "execute_result"
    }
   ],
   "source": [
    "sample_input_2 = (\n",
    "    \"xmul(2,4)&mul[3,7]!^don't()_mul(5,5)+mul(32,64](mul(11,8)undo()?mul(8,5))\"\n",
    ")\n",
    "\n",
    "\n",
    "def parse_input_2(input_str=sample_input_2, debug: bool = False):\n",
    "\n",
    "    data = []\n",
    "\n",
    "    pattern = r\"(mul)\\((\\d+),(\\d+)\\)|(do)\\(\\)|(don't)\\(\\)\"\n",
    "\n",
    "    for cmd in re.findall(pattern, input_str):\n",
    "        # cmd = tuple(x for x in cmd if x != \"\")\n",
    "        data.append(cmd)\n",
    "\n",
    "    return data\n",
    "\n",
    "\n",
    "data = parse_input_2(sample_input_2, True)\n",
    "data"
   ]
  },
  {
   "cell_type": "code",
   "execution_count": 97,
   "metadata": {},
   "outputs": [
    {
     "name": "stdout",
     "output_type": "stream",
     "text": [
      "cmd=('mul', '2', '4'), x=2 y=4\n",
      "cmd=('mul', '8', '5'), x=8 y=5\n",
      "ans=48\n",
      "\n",
      "Part 2: 104245808\n"
     ]
    }
   ],
   "source": [
    "def solve_2(inp: str = sample_input_2, debug: bool = False):\n",
    "    data = parse_input_2(inp)\n",
    "\n",
    "    do = True\n",
    "    ans_list = []\n",
    "\n",
    "    for cmd in data:\n",
    "        match cmd[0]:\n",
    "            case \"mul\":\n",
    "                if do:\n",
    "                    x, y = (int(i) for i in cmd[1:])\n",
    "                    if debug:\n",
    "                        print(f\"{cmd=}, {x=} {y=}\")\n",
    "                    ans_list.append(x * y)\n",
    "            case \"don't\":\n",
    "                do = False\n",
    "            case \"do\":\n",
    "                do = True\n",
    "    ans = sum(ans_list)\n",
    "    if debug:\n",
    "        print(f\"{ans=}\")\n",
    "\n",
    "    return {\"result\": ans, \"ans\": ans_list}\n",
    "\n",
    "\n",
    "solve_2(debug=True)\n",
    "assert solve_2(sample_input_2)[\"result\"] == 48  # p2 sample input answer\n",
    "\n",
    "results = solve_2(puzzle_input, debug=False)\n",
    "print(f\"\\nPart 2: {results[\"result\"]}\")"
   ]
  }
 ],
 "metadata": {
  "kernelspec": {
   "display_name": "py312",
   "language": "python",
   "name": "python3"
  },
  "language_info": {
   "codemirror_mode": {
    "name": "ipython",
    "version": 3
   },
   "file_extension": ".py",
   "mimetype": "text/x-python",
   "name": "python",
   "nbconvert_exporter": "python",
   "pygments_lexer": "ipython3",
   "version": "3.12.7"
  }
 },
 "nbformat": 4,
 "nbformat_minor": 4
}
