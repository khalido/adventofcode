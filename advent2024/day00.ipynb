{
 "cells": [
  {
   "cell_type": "code",
   "execution_count": 72,
   "metadata": {},
   "outputs": [],
   "source": [
    "import utils\n",
    "\n",
    "import re\n",
    "from collections import Counter"
   ]
  },
  {
   "cell_type": "markdown",
   "metadata": {},
   "source": [
    "## Day \n",
    "\n",
    "[#](https://adventofcode.com/2024/day/) "
   ]
  },
  {
   "cell_type": "code",
   "execution_count": null,
   "metadata": {},
   "outputs": [],
   "source": [
    "sample_input: str = \"\"\"\n",
    "\"\"\"\n",
    "\n",
    "puzzle_input = utils.get_input(1, splitlines=False)"
   ]
  },
  {
   "cell_type": "code",
   "execution_count": 83,
   "metadata": {},
   "outputs": [
    {
     "name": "stdout",
     "output_type": "stream",
     "text": [
      "Line 0: '3   4' | Extracted: [3, 4]\n",
      "Line 1: '4   3' | Extracted: [4, 3]\n",
      "Line 2: '2   5' | Extracted: [2, 5]\n",
      "Line 3: '1   3' | Extracted: [1, 3]\n",
      "Line 4: '3   9' | Extracted: [3, 9]\n",
      "Line 5: '3   3' | Extracted: [3, 3]\n"
     ]
    },
    {
     "data": {
      "text/plain": [
       "[[3, 4], [4, 3], [2, 5], [1, 3], [3, 9], [3, 3]]"
      ]
     },
     "execution_count": 83,
     "metadata": {},
     "output_type": "execute_result"
    }
   ],
   "source": [
    "def parse_input(input_str=sample_input, debug: bool = False):\n",
    "    data = []\n",
    "    for i, line in enumerate(input_str.splitlines()):\n",
    "        numbers = [int(x) for x in re.findall(r\"\\d+\", line)]\n",
    "        if debug:\n",
    "            print(f\"Line {i}: '{line}' | Extracted: {numbers}\")\n",
    "        data.append(numbers)\n",
    "    return data\n",
    "\n",
    "\n",
    "data = parse_input(sample_input, True)\n",
    "data"
   ]
  },
  {
   "cell_type": "markdown",
   "metadata": {},
   "source": []
  },
  {
   "cell_type": "code",
   "execution_count": 1,
   "metadata": {},
   "outputs": [
    {
     "ename": "SyntaxError",
     "evalue": "f-string: valid expression required before '}' (2428064445.py, line 6)",
     "output_type": "error",
     "traceback": [
      "\u001b[0;36m  Cell \u001b[0;32mIn[1], line 6\u001b[0;36m\u001b[0m\n\u001b[0;31m    print(f\"{}\")\u001b[0m\n\u001b[0m             ^\u001b[0m\n\u001b[0;31mSyntaxError\u001b[0m\u001b[0;31m:\u001b[0m f-string: valid expression required before '}'\n"
     ]
    }
   ],
   "source": [
    "def solve(inp: str = sample_input, debug: bool = False):\n",
    "    data = parse_input(inp)\n",
    "\n",
    "    \n",
    "    if debug:\n",
    "        print(f\"{}\")\n",
    "\n",
    "    if debug:\n",
    "        print(f\"{}\")\n",
    "\n",
    "    return {\"result\": ans}\n",
    "\n",
    "\n",
    "assert solve(sample_input)[\"result\"] ==  # sample ans check\n",
    "\n",
    "results = solve(puzzle_input, debug=False)\n",
    "print(f\"Part 1: {results[\"result\"]}\")"
   ]
  },
  {
   "cell_type": "markdown",
   "metadata": {},
   "source": [
    "## Part 2\n",
    "\n"
   ]
  },
  {
   "cell_type": "code",
   "execution_count": 2,
   "metadata": {},
   "outputs": [
    {
     "ename": "SyntaxError",
     "evalue": "invalid syntax (646800481.py, line 14)",
     "output_type": "error",
     "traceback": [
      "\u001b[0;36m  Cell \u001b[0;32mIn[2], line 14\u001b[0;36m\u001b[0m\n\u001b[0;31m    assert solve_2(sample_input)[\"result\"] ==   # p2 sample input answer\u001b[0m\n\u001b[0m                                                ^\u001b[0m\n\u001b[0;31mSyntaxError\u001b[0m\u001b[0;31m:\u001b[0m invalid syntax\n"
     ]
    }
   ],
   "source": [
    "def solve_2(inp: str = sample_input, debug: bool = False):\n",
    "    data = parse_input(inp)\n",
    "\n",
    "    if debug:\n",
    "        print(f\"\")\n",
    "\n",
    "    if debug:\n",
    "        print(f\"{ans=}\")\n",
    "\n",
    "    return {\"result\": ans}\n",
    "\n",
    "\n",
    "solve_2(sample_input, debug=True)\n",
    "assert solve_2(sample_input)[\"result\"] ==   # p2 sample input answer\n",
    "\n",
    "results = solve_2(puzzle_input, debug=False)\n",
    "print(f\"\\nPart 2: {results[\"result\"]}\")"
   ]
  }
 ],
 "metadata": {
  "kernelspec": {
   "display_name": "py312",
   "language": "python",
   "name": "python3"
  },
  "language_info": {
   "codemirror_mode": {
    "name": "ipython",
    "version": 3
   },
   "file_extension": ".py",
   "mimetype": "text/x-python",
   "name": "python",
   "nbconvert_exporter": "python",
   "pygments_lexer": "ipython3",
   "version": "3.12.7"
  }
 },
 "nbformat": 4,
 "nbformat_minor": 4
}
