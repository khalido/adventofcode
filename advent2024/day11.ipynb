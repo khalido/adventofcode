{
 "cells": [
  {
   "cell_type": "code",
   "execution_count": 36,
   "metadata": {},
   "outputs": [],
   "source": [
    "import utils\n",
    "\n",
    "import re\n",
    "from collections import deque, defaultdict\n",
    "from dataclasses import dataclass, field\n",
    "from typing import Optional\n",
    "from functools import lru_cache\n",
    "import cProfile"
   ]
  },
  {
   "cell_type": "markdown",
   "metadata": {},
   "source": [
    "## Day 11: Plutonian Pebbles\n",
    "\n",
    "[#](https://adventofcode.com/2024/day/11) We have a line of stones, which change on each blink by:\n",
    "\n",
    "* `0` -> `1`\n",
    "* Even digits -> splits into two stones, don't keep extra leading 0's, e.g `1000 -> 10 and 0`\n",
    "* if above doesn't apply, multiple stones number by 2024 \n",
    "\n",
    "Linked lists! I thought I would need them for day 9, but got away with using a python list. This time around, as each blink will have a fair amount of insertions, I am going to attempt a proper linked list.\n"
   ]
  },
  {
   "cell_type": "code",
   "execution_count": 3,
   "metadata": {},
   "outputs": [],
   "source": [
    "sample_input: str = \"\"\"125 17\"\"\"\n",
    "\n",
    "puzzle_input = utils.get_input(11, splitlines=False)"
   ]
  },
  {
   "cell_type": "code",
   "execution_count": 4,
   "metadata": {},
   "outputs": [
    {
     "name": "stdout",
     "output_type": "stream",
     "text": [
      "125 17 -> [125, 17]\n"
     ]
    }
   ],
   "source": [
    "def parse_input(input_str=sample_input, debug: bool = False):\n",
    "    numbers = [int(x) for x in re.findall(r\"\\d+\", input_str)]\n",
    "    if debug:\n",
    "        print(f\"{input_str} -> {numbers}\")\n",
    "    return numbers\n",
    "\n",
    "\n",
    "data = parse_input(sample_input, True)"
   ]
  },
  {
   "cell_type": "code",
   "execution_count": 5,
   "metadata": {},
   "outputs": [
    {
     "data": {
      "text/plain": [
       "Stone(num=3, prev=Stone(num=1, prev=None, next=None), next=Stone(num=5, prev=None, next=None))"
      ]
     },
     "execution_count": 5,
     "metadata": {},
     "output_type": "execute_result"
    }
   ],
   "source": [
    "@dataclass\n",
    "class Stone:\n",
    "    num: int\n",
    "    prev: Optional[\"Stone\"] = None\n",
    "    next: Optional[\"Stone\"] = None\n",
    "\n",
    "\n",
    "s = Stone(3, prev=Stone(1), next=Stone(5))\n",
    "s"
   ]
  },
  {
   "cell_type": "code",
   "execution_count": 6,
   "metadata": {},
   "outputs": [
    {
     "name": "stdout",
     "output_type": "stream",
     "text": [
      "Stone(num=125, prev=None, next=Stone(num=17, prev=..., next=None))\n",
      "125, 17\n"
     ]
    }
   ],
   "source": [
    "def make_linked_list(data=data, debug=False):\n",
    "\n",
    "    first = Stone(data[0])\n",
    "    current = first\n",
    "\n",
    "    for i, num in enumerate(data[1:]):\n",
    "        new_stone = Stone(num, prev=current)\n",
    "        current.next = new_stone\n",
    "        current = new_stone\n",
    "\n",
    "    return first\n",
    "\n",
    "\n",
    "def print_stone(stone):\n",
    "    nums = []\n",
    "    while stone:\n",
    "        nums.append(stone.num)\n",
    "        stone = stone.next\n",
    "    print(\", \".join([str(n) for n in nums]))\n",
    "\n",
    "\n",
    "first_stone = make_linked_list()\n",
    "print(first_stone)\n",
    "print_stone(first_stone)"
   ]
  },
  {
   "cell_type": "code",
   "execution_count": 7,
   "metadata": {},
   "outputs": [
    {
     "data": {
      "text/plain": [
       "2"
      ]
     },
     "execution_count": 7,
     "metadata": {},
     "output_type": "execute_result"
    }
   ],
   "source": [
    "def count_stones(first_stone):\n",
    "    count = 1\n",
    "    stone = first_stone\n",
    "    while stone.next:\n",
    "        count += 1\n",
    "        stone = stone.next\n",
    "    return count\n",
    "\n",
    "\n",
    "count_stones(first_stone)"
   ]
  },
  {
   "cell_type": "code",
   "execution_count": 8,
   "metadata": {},
   "outputs": [],
   "source": [
    "def evolve_stone(stone, multiple=2024, debug=False):\n",
    "    \"\"\"evolves stones, returns True if a stone was split\"\"\"\n",
    "    if stone.num == 0:\n",
    "        stone.num += 1\n",
    "    elif (num_len := len(num_str := str(stone.num))) > 1 and num_len % 2 == 0:\n",
    "        num_left = int(num_str[: num_len // 2])\n",
    "        num_right = int(num_str[num_len // 2 :])\n",
    "        if debug:\n",
    "            print(f\"Splitting {stone=} into {num_left=} {num_right=}\")\n",
    "\n",
    "        stone.num = num_left\n",
    "        # insert new stone and fix prev and next links\n",
    "        new_stone = Stone(num_right, prev=stone, next=stone.next)\n",
    "        if stone.next:\n",
    "            stone.next.prev = new_stone\n",
    "        stone.next = new_stone\n",
    "        return True\n",
    "    else:\n",
    "        stone.num *= multiple\n",
    "\n",
    "    return False\n",
    "\n",
    "\n",
    "stone = first_stone\n",
    "while stone.next:\n",
    "    # print(stone.num, evolve_stone(stone), stone.num)\n",
    "    stone = stone.next"
   ]
  },
  {
   "cell_type": "code",
   "execution_count": 10,
   "metadata": {},
   "outputs": [
    {
     "name": "stdout",
     "output_type": "stream",
     "text": [
      "125, 17\n",
      "253000, 1, 7\n",
      "253, 0, 2024, 14168\n",
      "512072, 1, 20, 24, 28676032\n",
      "512, 72, 2024, 2, 0, 2, 4, 2867, 6032\n",
      "1036288, 7, 2, 20, 24, 4048, 1, 4048, 8096, 28, 67, 60, 32\n",
      "2097446912, 14168, 4048, 2, 0, 2, 4, 40, 48, 2024, 40, 48, 80, 96, 2, 8, 6, 7, 6, 0, 3, 2\n"
     ]
    }
   ],
   "source": [
    "def solve(inp: str = sample_input, blinks=25, debug: bool = False):\n",
    "    data = parse_input(inp)\n",
    "    first_stone = make_linked_list(data)\n",
    "\n",
    "    stone = first_stone\n",
    "    if debug:\n",
    "        print_stone(stone)\n",
    "\n",
    "    for i in range(blinks):\n",
    "        while stone:\n",
    "            split = evolve_stone(stone, debug=False)\n",
    "            if split:  # don't process the new stone in this blink\n",
    "                stone = stone.next.next\n",
    "            else:\n",
    "                stone = stone.next\n",
    "        stone = first_stone\n",
    "        if debug:\n",
    "            print_stone(stone)\n",
    "\n",
    "    ans = count_stones(first_stone)\n",
    "\n",
    "    return {\"result\": ans}\n",
    "\n",
    "\n",
    "# checking sample ans\n",
    "assert solve(\"0 1 10 99 999\", blinks=1)[\"result\"] == 7\n",
    "\n",
    "solve(sample_input, blinks=6, debug=True)\n",
    "assert solve(sample_input, blinks=6)[\"result\"] == 22  # sample ans check\n",
    "assert solve(sample_input, blinks=25)[\"result\"] == 55312  # sample ans check"
   ]
  },
  {
   "cell_type": "code",
   "execution_count": 11,
   "metadata": {},
   "outputs": [
    {
     "name": "stdout",
     "output_type": "stream",
     "text": [
      "Part 1: 194482\n",
      "CPU times: user 253 ms, sys: 4.45 ms, total: 258 ms\n",
      "Wall time: 257 ms\n"
     ]
    }
   ],
   "source": [
    "%%time\n",
    "results = solve(puzzle_input, debug=False)\n",
    "print(f\"Part 1: {results[\"result\"]}\") "
   ]
  },
  {
   "cell_type": "markdown",
   "metadata": {},
   "source": [
    "## Part 2 - 75 blinks\n",
    "\n",
    "Its the same, but exponentially bigger, so need to optmize. My solution above uses both a lot of memory and computation. We can improve both... thinking first to solve the memory part. Since each stone is fully independent of each other, lets try doing this one stone at a time.\n",
    "\n",
    "Key changes:\n",
    "1. `evolve_stone` uses ints\n",
    "2. Using a dict to store each stone and the number of times it occurs. This is the key speedup - so we only need to evolve each kind of stone once and increment counts. This saves both space and computation."
   ]
  },
  {
   "cell_type": "code",
   "execution_count": 58,
   "metadata": {},
   "outputs": [
    {
     "data": {
      "text/plain": [
       "([253000], [253, 0], [512072], [512, 72])"
      ]
     },
     "execution_count": 58,
     "metadata": {},
     "output_type": "execute_result"
    }
   ],
   "source": [
    "@lru_cache(maxsize=None)\n",
    "def evolve_stone(stone: int, multiple=2024):\n",
    "    \"\"\"takes a stone as int, evolves it and returns [stone] or [stone, new_stone]\n",
    "    returns a list as sometimes 2 stones are returned\"\"\"\n",
    "    if stone == 0:\n",
    "        return [1]\n",
    "    elif (num_len := len(num_str := str(stone))) > 1 and num_len % 2 == 0:\n",
    "        num_left = int(num_str[: num_len // 2])\n",
    "        num_right = int(num_str[num_len // 2 :])\n",
    "        return [num_left, num_right]\n",
    "    else:\n",
    "        return [stone * multiple]\n",
    "\n",
    "\n",
    "evolve_stone(125), evolve_stone(253000), evolve_stone(253), evolve_stone(512072)"
   ]
  },
  {
   "cell_type": "code",
   "execution_count": 60,
   "metadata": {},
   "outputs": [
    {
     "name": "stdout",
     "output_type": "stream",
     "text": [
      "1: defaultdict(<class 'int'>, {253000: 1, 1: 1, 7: 1}) 3\n",
      "2: defaultdict(<class 'int'>, {253: 1, 0: 1, 2024: 1, 14168: 1}) 4\n",
      "3: defaultdict(<class 'int'>, {512072: 1, 1: 1, 20: 1, 24: 1, 28676032: 1}) 5\n",
      "4: defaultdict(<class 'int'>, {512: 1, 72: 1, 2024: 1, 2: 2, 0: 1, 4: 1, 2867: 1, 6032: 1}) 9\n",
      "5: defaultdict(<class 'int'>, {1036288: 1, 7: 1, 2: 1, 20: 1, 24: 1, 4048: 2, 1: 1, 8096: 1, 28: 1, 67: 1, 60: 1, 32: 1}) 13\n",
      "6: defaultdict(<class 'int'>, {2097446912: 1, 14168: 1, 4048: 1, 2: 4, 0: 2, 4: 1, 40: 2, 48: 2, 2024: 1, 80: 1, 96: 1, 8: 1, 6: 2, 7: 1, 3: 1}) 22\n"
     ]
    }
   ],
   "source": [
    "def solve_2(inp=sample_input, blinks=6, debug=False):\n",
    "    data = parse_input(\n",
    "        inp,\n",
    "    )\n",
    "    # store initial stone count in dict\n",
    "    stone_counts = defaultdict(int)\n",
    "    for stone in data:\n",
    "        stone_counts[stone] += 1\n",
    "\n",
    "    for blink in range(1, blinks + 1):\n",
    "        new_counts = defaultdict(int)\n",
    "        for stone, count in stone_counts.items():\n",
    "            for blink_stone in evolve_stone(stone):\n",
    "                new_counts[blink_stone] += count\n",
    "        stone_counts = new_counts\n",
    "        if debug:\n",
    "            print(f\"{blink}: {stone_counts} {sum(stone_counts.values())}\")\n",
    "\n",
    "    return sum(stone_counts.values())\n",
    "\n",
    "\n",
    "assert solve_2(sample_input, 6, True) == 22"
   ]
  },
  {
   "cell_type": "code",
   "execution_count": 61,
   "metadata": {},
   "outputs": [
    {
     "name": "stdout",
     "output_type": "stream",
     "text": [
      "CPU times: user 38.6 ms, sys: 1.25 ms, total: 39.8 ms\n",
      "Wall time: 39.3 ms\n"
     ]
    },
    {
     "data": {
      "text/plain": [
       "232454623677743"
      ]
     },
     "execution_count": 61,
     "metadata": {},
     "output_type": "execute_result"
    }
   ],
   "source": [
    "%%time\n",
    "solve_2(puzzle_input, 75)"
   ]
  },
  {
   "cell_type": "markdown",
   "metadata": {},
   "source": [
    "Using dicts sped this up so fast, that lru_cache on `evolve_stone` isn't really necessary."
   ]
  }
 ],
 "metadata": {
  "kernelspec": {
   "display_name": "py312",
   "language": "python",
   "name": "python3"
  },
  "language_info": {
   "codemirror_mode": {
    "name": "ipython",
    "version": 3
   },
   "file_extension": ".py",
   "mimetype": "text/x-python",
   "name": "python",
   "nbconvert_exporter": "python",
   "pygments_lexer": "ipython3",
   "version": "3.12.7"
  }
 },
 "nbformat": 4,
 "nbformat_minor": 4
}
