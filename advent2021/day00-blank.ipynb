{
 "cells": [
  {
   "cell_type": "code",
   "execution_count": null,
   "metadata": {},
   "outputs": [],
   "source": [
    "from typing import NamedTuple\n",
    "\n",
    "import matplotlib.pyplot as plt\n",
    "import utils"
   ]
  },
  {
   "cell_type": "markdown",
   "metadata": {},
   "source": [
    "## Day X:\n",
    "\n",
    "[#](https://adventofcode.com/2021/day/X) "
   ]
  },
  {
   "cell_type": "code",
   "execution_count": null,
   "metadata": {},
   "outputs": [],
   "source": [
    "test: str = \"\"\"\n",
    "\"\"\"\n",
    "\n",
    "raw_inp = utils.get_input(X, splitlines=False)"
   ]
  },
  {
   "cell_type": "code",
   "execution_count": null,
   "metadata": {},
   "outputs": [],
   "source": [
    "def parse(inp=test, verbose=False):\n",
    "    return None\n",
    "\n",
    "data = parse()\n",
    "data"
   ]
  },
  {
   "cell_type": "code",
   "execution_count": null,
   "metadata": {},
   "outputs": [],
   "source": [
    "def solve(inp=test, verbose: bool = False):\n",
    "    data = parse(inp)\n",
    "\n",
    "    return None\n",
    "\n",
    "\n",
    "# assert solve(test) ==  # example answer\n",
    "solve(raw_inp)"
   ]
  },
  {
   "cell_type": "markdown",
   "metadata": {},
   "source": [
    "## Part 2\n",
    "\n"
   ]
  },
  {
   "cell_type": "code",
   "execution_count": null,
   "metadata": {},
   "outputs": [],
   "source": [
    "def solve_2(inp=test, verbose: bool = False):\n",
    "    data = parse(inp)\n",
    "\n",
    "    return None\n",
    "\n",
    "\n",
    "# assert solve_2(test) ==  # example answer\n",
    "solve_2(raw_inp)"
   ]
  },
  {
   "cell_type": "code",
   "execution_count": null,
   "metadata": {},
   "outputs": [],
   "source": []
  }
 ],
 "metadata": {
  "interpreter": {
   "hash": "05e80629c114734f38bbf4f0933b3cb086fb88e7a033ea564122036abe5c8e40"
  },
  "kernelspec": {
   "display_name": "Python 3 (ipykernel)",
   "language": "python",
   "name": "python3"
  },
  "language_info": {
   "codemirror_mode": {
    "name": "ipython",
    "version": 3
   },
   "file_extension": ".py",
   "mimetype": "text/x-python",
   "name": "python",
   "nbconvert_exporter": "python",
   "pygments_lexer": "ipython3",
   "version": "3.10.0"
  }
 },
 "nbformat": 4,
 "nbformat_minor": 4
}
