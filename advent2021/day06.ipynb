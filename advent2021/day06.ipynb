{
 "cells": [
  {
   "cell_type": "code",
   "execution_count": 40,
   "metadata": {},
   "outputs": [],
   "source": [
    "from collections import Counter\n",
    "from functools import cache, lru_cache\n",
    "from typing import NamedTuple\n",
    "\n",
    "import matplotlib.pyplot as plt\n",
    "import numpy as np\n",
    "import utils"
   ]
  },
  {
   "cell_type": "markdown",
   "metadata": {},
   "source": [
    "## Day 6: LanternFish\n",
    "\n",
    "[#](https://adventofcode.com/2021/day/6) We have a school of lanternfish, each one represented by a number which tells us in how many days that fish reproduces. \n",
    "\n",
    "* Each fish reproduces in 7 days - so they reset to zero\n",
    "* newborn fishes need two days to enter the reproduction cycle\n",
    "* when a fish hits 0, on the next day it resets to 8 and you add a new fish set to 8 days"
   ]
  },
  {
   "cell_type": "code",
   "execution_count": 2,
   "metadata": {},
   "outputs": [],
   "source": [
    "test: str = \"\"\"3,4,3,1,2\n",
    "\"\"\"\n",
    "\n",
    "raw_inp = utils.get_input(6, splitlines=False)"
   ]
  },
  {
   "cell_type": "markdown",
   "metadata": {},
   "source": [
    "Decided to use numpy as it makes dealing with arrays both easier and a lot faster."
   ]
  },
  {
   "cell_type": "code",
   "execution_count": 6,
   "metadata": {},
   "outputs": [
    {
     "data": {
      "text/plain": [
       "array([3, 4, 3, 1, 2])"
      ]
     },
     "execution_count": 6,
     "metadata": {},
     "output_type": "execute_result"
    }
   ],
   "source": [
    "def parse(inp=test, verbose=False):\n",
    "    return np.array([int(i) for i in inp.split(\",\")])\n",
    "\n",
    "\n",
    "data = parse(test)\n",
    "data"
   ]
  },
  {
   "cell_type": "markdown",
   "metadata": {},
   "source": [
    "Simple array solution to solve part 1... though I can see how it will fail on larger inputs. Still this is nice and simple to understand so worth doing."
   ]
  },
  {
   "cell_type": "code",
   "execution_count": 99,
   "metadata": {},
   "outputs": [
    {
     "data": {
      "text/plain": [
       "365862"
      ]
     },
     "execution_count": 99,
     "metadata": {},
     "output_type": "execute_result"
    }
   ],
   "source": [
    "def solve(inp=test, days: int = 80, verbose: bool = False):\n",
    "    fishes = parse(inp)\n",
    "\n",
    "    for _ in range(days):\n",
    "        fishes -= 1  # a new day has come\n",
    "\n",
    "        # reset mothers to 6\n",
    "        mothers = fishes == -1\n",
    "        fishes[mothers] = 6\n",
    "\n",
    "        # add the newnborns\n",
    "        fishes = np.append(fishes, np.full(mothers.sum(), 8))\n",
    "\n",
    "    return fishes.size\n",
    "\n",
    "\n",
    "assert solve(test) == 5934  # example answer\n",
    "solve(raw_inp)"
   ]
  },
  {
   "cell_type": "markdown",
   "metadata": {},
   "source": [
    "## Part 2\n",
    "\n",
    "Same as above, just taking it to 256 days. So the simple loop solution as above fails to work. So instead of modelling each fish as I did earlier, a simple way of thinking about this is to just model the number of fish in each days. \n",
    "\n",
    "We know that the age of a fish can only by from 0-8 days inclusive, so I'll just store the number of fish in each day. That should be a lot less memory and cpu intensive problem.\n",
    "\n",
    "Using counter to store each day as a key:"
   ]
  },
  {
   "cell_type": "code",
   "execution_count": 98,
   "metadata": {},
   "outputs": [
    {
     "data": {
      "image/png": "[encoded data removed]",
      "text/plain": [
       "<Figure size 432x288 with 1 Axes>"
      ]
     },
     "metadata": {
      "needs_background": "light"
     },
     "output_type": "display_data"
    },
    {
     "data": {
      "text/plain": [
       "1653250886439"
      ]
     },
     "execution_count": 98,
     "metadata": {},
     "output_type": "execute_result"
    }
   ],
   "source": [
    "def plot_fish(ocean):\n",
    "    \"\"\"makes a simple bar plot of fish in the ocean\"\"\"\n",
    "    fig, ax = plt.subplots()\n",
    "\n",
    "    ax.set_xlabel(\"Days\")\n",
    "    ax.set_yscale(\"log\")\n",
    "    ax.set_ylabel(\"fishes (log scale)\")\n",
    "\n",
    "    ax.bar(days.keys(), days.values())\n",
    "    ax.set_title(f\"{ocean.total():,} fishes in the sea\")\n",
    "\n",
    "    plt.show()\n",
    "\n",
    "\n",
    "def solve_2(inp=test, days: int = 80, show=False):\n",
    "    seed_fish = parse(inp)\n",
    "\n",
    "    ocean = Counter({day: 0 for day in range(9)})\n",
    "    ocean.update(Counter(seed_fish))\n",
    "\n",
    "    for _ in range(days):\n",
    "        new_ocean = Counter({day: 0 for day in range(9)})\n",
    "        for day, fish in ocean.items():\n",
    "            if day == 0:\n",
    "                new_ocean[6] += fish\n",
    "                new_ocean[8] += fish\n",
    "            else:\n",
    "                new_ocean[day - 1] += fish\n",
    "\n",
    "        ocean = new_ocean\n",
    "\n",
    "    if show:\n",
    "        plot_fish(ocean)\n",
    "    return ocean.total()\n",
    "\n",
    "\n",
    "assert solve_2() == 5934\n",
    "assert solve_2(raw_inp) == 365862\n",
    "assert solve_2(days=256) == 26984457539\n",
    "solve_2(raw_inp, days=256, show=True)"
   ]
  },
  {
   "cell_type": "markdown",
   "metadata": {},
   "source": [
    "Wow that was a much faster solution! Fast enough to not bother timing. Goes to show that thinking about storage is important - i.e one mega huge array listing every fish become just a dict of 8 days. A very impressive speedup."
   ]
  }
 ],
 "metadata": {
  "interpreter": {
   "hash": "05e80629c114734f38bbf4f0933b3cb086fb88e7a033ea564122036abe5c8e40"
  },
  "kernelspec": {
   "display_name": "Python 3 (ipykernel)",
   "language": "python",
   "name": "python3"
  },
  "language_info": {
   "codemirror_mode": {
    "name": "ipython",
    "version": 3
   },
   "file_extension": ".py",
   "mimetype": "text/x-python",
   "name": "python",
   "nbconvert_exporter": "python",
   "pygments_lexer": "ipython3",
   "version": "3.10.0"
  }
 },
 "nbformat": 4,
 "nbformat_minor": 4
}
