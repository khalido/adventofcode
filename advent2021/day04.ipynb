{
 "cells": [
  {
   "cell_type": "code",
   "execution_count": 56,
   "metadata": {},
   "outputs": [],
   "source": [
    "import re\n",
    "from typing import NamedTuple\n",
    "\n",
    "import matplotlib.pyplot as plt\n",
    "import numpy as np\n",
    "import utils"
   ]
  },
  {
   "cell_type": "markdown",
   "metadata": {},
   "source": [
    "## Day 4: Giant Squid\n",
    "\n",
    "[#](https://adventofcode.com/2021/day/4) We're playing bingo on a `5x5` board with a giant squad.\n",
    "\n",
    "So we have:\n",
    "\n",
    "* a list of boards with random numbers in a `5x5` grid\n",
    "* random numbers drawn one a time, after which on each board the numbers are marked off.\n",
    "* the winner is the first board with a complete row or column of marked numbers.\n",
    "* the score is the sum of all unmarked numbers times the last number called."
   ]
  },
  {
   "cell_type": "code",
   "execution_count": 144,
   "metadata": {},
   "outputs": [],
   "source": [
    "test: str = \"\"\"7,4,9,5,11,17,23,2,0,14,21,24,10,16,13,6,15,25,12,22,18,20,8,19,3,26,1\n",
    "\n",
    "22 13 17 11  0\n",
    " 8  2 23  4 24\n",
    "21  9 14 16  7\n",
    " 6 10  3 18  5\n",
    " 1 12 20 15 19\n",
    "\n",
    " 3 15  0  2 22\n",
    " 9 18 13 17  5\n",
    "19  8  7 25 23\n",
    "20 11 10 24  4\n",
    "14 21 16 12  6\n",
    "\n",
    "14 21 17 24  4\n",
    "10 16 15  9 19\n",
    "18  8 23 26 20\n",
    "22 11 13  6  5\n",
    " 2  0 12  3  7\n",
    "\"\"\"\n",
    "\n",
    "inp = utils.get_input(4)"
   ]
  },
  {
   "cell_type": "code",
   "execution_count": 150,
   "metadata": {},
   "outputs": [],
   "source": [
    "def parse(inp=test, verbose=False):\n",
    "    data = inp.splitlines()\n",
    "    draw = [int(n) for n in data[0].split(\",\")]\n",
    "\n",
    "    boards = []\n",
    "    board = []\n",
    "    for i, row in enumerate(data[2:]):\n",
    "        if len(row) > 2:\n",
    "            board.append([int(i) for i in row.split(\" \") if i.isdigit()])\n",
    "\n",
    "        if len(board) == 5:\n",
    "            boards.append(board.copy())\n",
    "            board = []\n",
    "\n",
    "    return draw, np.array(boards)\n",
    "\n",
    "\n",
    "draw, boards = parse(inp)"
   ]
  },
  {
   "cell_type": "code",
   "execution_count": 165,
   "metadata": {},
   "outputs": [
    {
     "name": "stdout",
     "output_type": "stream",
     "text": [
      "board 2 \n",
      "[[14 21 17 24 4]\n",
      " [-- -- -- 9 --]\n",
      " [-- -- 23 -- --]\n",
      " [-- 11 -- -- 5]\n",
      " [2 0 -- -- 7]]\n",
      " is the winner\n",
      "unmasked_sum=188 num=24\n",
      "board 69 \n",
      "[[69 29 -- -- 76]\n",
      " [4 83 64 33 2]\n",
      " [-- 81 -- -- --]\n",
      " [-- -- -- 15 8]\n",
      " [-- -- -- 12 --]]\n",
      " is the winner\n",
      "unmasked_sum=624 num=4\n"
     ]
    },
    {
     "data": {
      "text/plain": [
       "2496"
      ]
     },
     "execution_count": 165,
     "metadata": {},
     "output_type": "execute_result"
    }
   ],
   "source": [
    "def solve(inp=test, verbose: bool = False):\n",
    "    draw, boards = parse(inp)\n",
    "    bingo = np.zeros_like(boards, dtype=bool)\n",
    "\n",
    "    for num in draw:\n",
    "        # print(num)\n",
    "        ma = np.ma.masked_where(boards == num, boards).mask\n",
    "        bingo += ma\n",
    "\n",
    "        for i, b in enumerate(bingo):\n",
    "            # check for bingo in rows and cols\n",
    "            if any(np.all(b == True, axis=0)) or any(np.all(b == True, axis=1)):\n",
    "                print(\n",
    "                    f\"board {i} \\n{np.ma.masked_array(boards[i], ~b)}\\n is the winner\"\n",
    "                )\n",
    "\n",
    "                unmasked_sum = np.ma.masked_array(boards[i], b).sum()\n",
    "                print(f\"{unmasked_sum=} {num=}\")\n",
    "                return unmasked_sum * num\n",
    "\n",
    "    print(\"Something went wrong if you're here...\")\n",
    "    return None\n",
    "\n",
    "\n",
    "assert solve(test) == 4512  # example answer\n",
    "solve(inp)"
   ]
  },
  {
   "cell_type": "markdown",
   "metadata": {},
   "source": [
    "## Part 2\n",
    "\n",
    "We're scared enough of the giant squid that we want to loose by picking the board which will win last.\n",
    "\n",
    "Figure out the final board and its score."
   ]
  },
  {
   "cell_type": "code",
   "execution_count": 169,
   "metadata": {},
   "outputs": [
    {
     "name": "stdout",
     "output_type": "stream",
     "text": [
      "board 1 at num=13\n",
      "[[-- -- 0 2 --]\n",
      " [9 -- 13 17 5]\n",
      " [-- -- 7 -- 23]\n",
      " [-- 11 10 24 4]\n",
      " [14 21 16 -- --]]\n",
      " is the winner\n",
      "unmasked_sum=148 num=13\n",
      "board 19 at num=61\n",
      "[[69 51 -- -- --]\n",
      " [90 61 91 6 21]\n",
      " [-- -- 81 -- 49]\n",
      " [67 -- -- 96 17]\n",
      " [78 11 -- 64 77]]\n",
      " is the winner\n",
      "unmasked_sum=425 num=61\n"
     ]
    },
    {
     "data": {
      "text/plain": [
       "25925"
      ]
     },
     "execution_count": 169,
     "metadata": {},
     "output_type": "execute_result"
    }
   ],
   "source": [
    "def solve_2(inp=test, verbose: bool = False):\n",
    "    draw, boards = parse(inp)\n",
    "    bingo = np.zeros_like(boards, dtype=bool)\n",
    "\n",
    "    winning_boards = []\n",
    "\n",
    "    for num in draw:\n",
    "        # print(num)\n",
    "        ma = np.ma.masked_where(boards == num, boards).mask\n",
    "        bingo += ma\n",
    "\n",
    "        for i, b in enumerate(bingo):\n",
    "            # check for bingo in rows and cols\n",
    "            if any(np.all(b == True, axis=0)) or any(np.all(b == True, axis=1)):\n",
    "                if i not in winning_boards:\n",
    "                    winning_boards.append(i)\n",
    "\n",
    "                if len(winning_boards) == len(boards):\n",
    "                    unmasked_sum = np.ma.masked_array(boards[i], b).sum()\n",
    "\n",
    "                    print(\n",
    "                        f\"board {i} at {num=}\\n{np.ma.masked_array(boards[i], ~b)}\\n is the winner\"\n",
    "                    )\n",
    "                    print(f\"{unmasked_sum=} {num=}\")\n",
    "                    return unmasked_sum * num\n",
    "\n",
    "    print(\"Something went wrong if you're here...\")\n",
    "    return None\n",
    "\n",
    "\n",
    "assert solve_2(test) == 1924  # example answer\n",
    "solve_2(inp)"
   ]
  }
 ],
 "metadata": {
  "interpreter": {
   "hash": "05e80629c114734f38bbf4f0933b3cb086fb88e7a033ea564122036abe5c8e40"
  },
  "kernelspec": {
   "display_name": "Python 3 (ipykernel)",
   "language": "python",
   "name": "python3"
  },
  "language_info": {
   "codemirror_mode": {
    "name": "ipython",
    "version": 3
   },
   "file_extension": ".py",
   "mimetype": "text/x-python",
   "name": "python",
   "nbconvert_exporter": "python",
   "pygments_lexer": "ipython3",
   "version": "3.10.0"
  }
 },
 "nbformat": 4,
 "nbformat_minor": 4
}
