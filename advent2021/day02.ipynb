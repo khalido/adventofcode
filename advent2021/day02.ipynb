{
 "cells": [
  {
   "cell_type": "code",
   "execution_count": 11,
   "metadata": {},
   "outputs": [],
   "source": [
    "from typing import NamedTuple\n",
    "\n",
    "import matplotlib.pyplot as plt\n",
    "import numpy as np\n",
    "import utils"
   ]
  },
  {
   "cell_type": "markdown",
   "metadata": {},
   "source": [
    "## Day 2: Dive\n",
    "\n",
    "[#](https://adventofcode.com/2021/day/2) Now have strings of instructions telling the submarine to move up, down or forward. So lets figure out where the sub is after moving."
   ]
  },
  {
   "cell_type": "code",
   "execution_count": 2,
   "metadata": {},
   "outputs": [],
   "source": [
    "test: str = \"\"\"forward 5\n",
    "down 5\n",
    "forward 8\n",
    "up 3\n",
    "down 8\n",
    "forward 2\"\"\"\n",
    "\n",
    "inp = utils.get_input(2, splitlines=False)"
   ]
  },
  {
   "cell_type": "code",
   "execution_count": 3,
   "metadata": {},
   "outputs": [
    {
     "data": {
      "text/plain": [
       "[Pilot(direction='forward', move=5),\n",
       " Pilot(direction='down', move=5),\n",
       " Pilot(direction='forward', move=8),\n",
       " Pilot(direction='up', move=3),\n",
       " Pilot(direction='down', move=8),\n",
       " Pilot(direction='forward', move=2)]"
      ]
     },
     "execution_count": 3,
     "metadata": {},
     "output_type": "execute_result"
    }
   ],
   "source": [
    "class Pilot(NamedTuple):\n",
    "    direction: str\n",
    "    move: int\n",
    "\n",
    "\n",
    "def parse(inp=test, verbose=False):\n",
    "    steps = []\n",
    "    for line in inp.splitlines():\n",
    "        x, y = line.split(\" \")\n",
    "        pilot = Pilot(x, int(y))\n",
    "\n",
    "        steps.append(pilot)\n",
    "\n",
    "    return steps\n",
    "\n",
    "\n",
    "data = parse()\n",
    "data"
   ]
  },
  {
   "cell_type": "markdown",
   "metadata": {},
   "source": [
    "Back in the good old days, I would have witten this using if else statements or a dictionay, but with 3.10 we have [case pattern matching](https://www.python.org/dev/peps/pep-0636/)."
   ]
  },
  {
   "cell_type": "code",
   "execution_count": 8,
   "metadata": {},
   "outputs": [
    {
     "name": "stdout",
     "output_type": "stream",
     "text": [
      "forward=15 depth=10\n",
      "forward=2105 depth=807\n"
     ]
    },
    {
     "data": {
      "text/plain": [
       "1698735"
      ]
     },
     "execution_count": 8,
     "metadata": {},
     "output_type": "execute_result"
    }
   ],
   "source": [
    "def solve(inp=test, verbose:bool=False):\n",
    "    data = parse(inp)\n",
    "    \n",
    "    depth = forward = 0\n",
    "    \n",
    "    for pilot in data:\n",
    "        \n",
    "        match pilot.direction:\n",
    "            case \"forward\":\n",
    "                forward += pilot.move\n",
    "            case \"down\":\n",
    "                depth += pilot.move\n",
    "            case \"up\":\n",
    "                depth -= pilot.move\n",
    "            case _:\n",
    "                raise ValueError(f\"{pilot.direction=} unknown\")\n",
    "    \n",
    "    print(f\"{forward=} {depth=}\")\n",
    "    return depth * forward\n",
    "    \n",
    "assert solve(test) == 150 # example answer\n",
    "solve(inp)"
   ]
  },
  {
   "cell_type": "markdown",
   "metadata": {},
   "source": [
    "## Part 2\n",
    "\n",
    "Now we have a third variable called aim to track - up and down changes the aim and the sub now moves forward as before plus it moves in dept by aim * forward.\n",
    "\n",
    "The input parsing remains the same so its just a slight modification."
   ]
  },
  {
   "cell_type": "code",
   "execution_count": 12,
   "metadata": {},
   "outputs": [
    {
     "name": "stdout",
     "output_type": "stream",
     "text": [
      "forward=15 depth=60 ans=900\n",
      "forward=2105 depth=757618 ans=1,594,785,890\n"
     ]
    }
   ],
   "source": [
    "class Submarine(NamedTuple):\n",
    "    aim: int = 0\n",
    "    x: int = 0\n",
    "    y: int = 0\n",
    "\n",
    "\n",
    "def solve_2(inp=test, verbose: bool = False):\n",
    "    data = parse(inp)\n",
    "\n",
    "    aim = depth = forward = 0  # the three vars to track\n",
    "    positions = []\n",
    "\n",
    "    for pilot in data:\n",
    "        if pilot.direction == \"forward\":\n",
    "            forward += pilot.move\n",
    "            depth += pilot.move * aim\n",
    "        elif pilot.direction == \"down\":\n",
    "            aim += pilot.move\n",
    "        elif pilot.direction == \"up\":\n",
    "            aim -= pilot.move\n",
    "        else:\n",
    "            print(f\"{pilot.direction=} unkonwn\")\n",
    "\n",
    "        positions.append((aim, forward, depth))\n",
    "\n",
    "    ans = depth * forward\n",
    "    print(f\"{forward=} {depth=} {ans=:,}\")\n",
    "    return positions\n",
    "\n",
    "\n",
    "_ = solve_2(test) == 900  # example answer\n",
    "positions = solve_2(inp)"
   ]
  },
  {
   "cell_type": "markdown",
   "metadata": {},
   "source": [
    "A simple plot:"
   ]
  },
  {
   "cell_type": "code",
   "execution_count": 14,
   "metadata": {},
   "outputs": [
    {
     "data": {
      "image/png": "[encoded data removed]",
      "text/plain": [
       "<Figure size 576x432 with 1 Axes>"
      ]
     },
     "metadata": {
      "needs_background": "light"
     },
     "output_type": "display_data"
    }
   ],
   "source": [
    "aim, x, y = zip(*positions)\n",
    "\n",
    "plt.style.use(\"advent.mplstyle\")\n",
    "\n",
    "plt.plot(x, y)\n",
    "plt.gca().invert_yaxis();"
   ]
  },
  {
   "cell_type": "code",
   "execution_count": 79,
   "metadata": {},
   "outputs": [],
   "source": []
  },
  {
   "cell_type": "code",
   "execution_count": null,
   "metadata": {},
   "outputs": [],
   "source": []
  }
 ],
 "metadata": {
  "interpreter": {
   "hash": "05e80629c114734f38bbf4f0933b3cb086fb88e7a033ea564122036abe5c8e40"
  },
  "kernelspec": {
   "display_name": "Python 3 (ipykernel)",
   "language": "python",
   "name": "python3"
  },
  "language_info": {
   "codemirror_mode": {
    "name": "ipython",
    "version": 3
   },
   "file_extension": ".py",
   "mimetype": "text/x-python",
   "name": "python",
   "nbconvert_exporter": "python",
   "pygments_lexer": "ipython3",
   "version": "3.10.0"
  }
 },
 "nbformat": 4,
 "nbformat_minor": 4
}
