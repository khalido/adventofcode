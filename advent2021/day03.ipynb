{
 "cells": [
  {
   "cell_type": "code",
   "execution_count": 14,
   "metadata": {},
   "outputs": [],
   "source": [
    "from collections import Counter\n",
    "from typing import List, NamedTuple\n",
    "\n",
    "import matplotlib.pyplot as plt\n",
    "import utils\n",
    "\n",
    "plt.style.use(\"advent.mplstyle\")"
   ]
  },
  {
   "cell_type": "markdown",
   "metadata": {},
   "source": [
    "## Day 3: Binary Diagnostic\n",
    "\n",
    "[#](https://adventofcode.com/2021/day/3) We have a list of binary numbers, from which we can figure out two other numbers:\n",
    "\n",
    "* **gamma**: is the most frequent number in each col\n",
    "* **epsilon**: is the least frequent number in each col (or flip the bits of gamma)\n",
    "\n",
    "Multiply `gamma` * `epsilon` gives the power consumption, which is the ans to part 1."
   ]
  },
  {
   "cell_type": "code",
   "execution_count": 33,
   "metadata": {},
   "outputs": [],
   "source": [
    "test: str = \"\"\"00100\n",
    "11110\n",
    "10110\n",
    "10111\n",
    "10101\n",
    "01111\n",
    "00111\n",
    "11100\n",
    "10000\n",
    "11001\n",
    "00010\n",
    "01010\n",
    "\"\"\"\n",
    "\n",
    "inp = utils.get_input(3, splitlines=False)"
   ]
  },
  {
   "cell_type": "code",
   "execution_count": 4,
   "metadata": {},
   "outputs": [
    {
     "data": {
      "text/plain": [
       "['00100',\n",
       " '11110',\n",
       " '10110',\n",
       " '10111',\n",
       " '10101',\n",
       " '01111',\n",
       " '00111',\n",
       " '11100',\n",
       " '10000',\n",
       " '11001',\n",
       " '00010',\n",
       " '01010']"
      ]
     },
     "execution_count": 4,
     "metadata": {},
     "output_type": "execute_result"
    }
   ],
   "source": [
    "def parse(inp=test, verbose=False):\n",
    "    steps = []\n",
    "    for line in inp.splitlines():\n",
    "\n",
    "        steps.append(line)\n",
    "\n",
    "    return steps\n",
    "\n",
    "\n",
    "data = parse()\n",
    "data"
   ]
  },
  {
   "cell_type": "markdown",
   "metadata": {},
   "source": [
    "Using counters to find the most common val. Can also use numpy which makes this all even easier, but trying to stick with base python for the easier problems:"
   ]
  },
  {
   "cell_type": "code",
   "execution_count": 8,
   "metadata": {},
   "outputs": [
    {
     "name": "stdout",
     "output_type": "stream",
     "text": [
      "gamma='10110' epsilon='01001'\n",
      "gamma='011100011000' epsilon='100011100111'\n"
     ]
    },
    {
     "data": {
      "text/plain": [
       "4138664"
      ]
     },
     "execution_count": 8,
     "metadata": {},
     "output_type": "execute_result"
    }
   ],
   "source": [
    "def solve(inp=test, verbose: bool = False):\n",
    "    data = parse(inp)\n",
    "\n",
    "    gamma = \"\".join([Counter(col).most_common(1)[0][0] for col in zip(*data)])\n",
    "    epsilon = \"\".join([\"0\" if b == \"1\" else \"1\" for b in gamma])\n",
    "\n",
    "    print(f\"{gamma=} {epsilon=}\")\n",
    "    return int(gamma, 2) * int(epsilon, 2)\n",
    "\n",
    "\n",
    "assert solve(test) == 198  # example answer\n",
    "solve(inp)"
   ]
  },
  {
   "cell_type": "markdown",
   "metadata": {},
   "source": [
    "## Part 2\n",
    "\n",
    "We filter out values until there is only one left.\n",
    "\n",
    "**Oxygen generator rating**: Find the most common val for each col and only keep those numbers having the most col val for each col. For ties, keep vals with 1.\n",
    "\n",
    "**CO2 scrubber rating**: Find the least common val in each pos and keep only those numbers. For ties, keep vals with 0.\n",
    "\n",
    "Multiplying the two gives the life support rating.\n",
    "\n",
    "To simplify this, I'm breaking it up into functions so its easier to follow the logic. First up, a filter function to return the most common or least common digit per col, with the tie breaker as per above:"
   ]
  },
  {
   "cell_type": "code",
   "execution_count": 61,
   "metadata": {},
   "outputs": [
    {
     "data": {
      "text/plain": [
       "('1', '0')"
      ]
     },
     "execution_count": 61,
     "metadata": {},
     "output_type": "execute_result"
    }
   ],
   "source": [
    "def most_common(col=col):\n",
    "    first, second = Counter(col).most_common(2)\n",
    "\n",
    "    if first[1] > second[1]:\n",
    "        return first[0]\n",
    "    else:\n",
    "        return \"1\"\n",
    "\n",
    "\n",
    "def least_common(col=col):\n",
    "    first, second = Counter(col).most_common(2)\n",
    "\n",
    "    if first[1] > second[1]:\n",
    "        return second[0]\n",
    "    else:\n",
    "        return \"0\"\n",
    "\n",
    "\n",
    "most_common(col), least_common(col)"
   ]
  },
  {
   "cell_type": "code",
   "execution_count": 77,
   "metadata": {},
   "outputs": [
    {
     "data": {
      "text/plain": [
       "'01010'"
      ]
     },
     "execution_count": 77,
     "metadata": {},
     "output_type": "execute_result"
    }
   ],
   "source": [
    "def get_val(data=data, filter_func=most_common):\n",
    "    \"\"\"gets the binary value left after filtering\"\"\"\n",
    "    \n",
    "    for i, _ in enumerate(data[0]):\n",
    "        col = list(zip(*data))[i]\n",
    "\n",
    "        bit = filter_func(col)\n",
    "        filtered_data = [b for b in data if b[i] == bit]\n",
    "\n",
    "        data = filtered_data.copy()\n",
    "\n",
    "        if len(data) == 1:\n",
    "            return data[0]\n",
    "\n",
    "\n",
    "get_val(filter_func=least_common)"
   ]
  },
  {
   "cell_type": "code",
   "execution_count": 76,
   "metadata": {},
   "outputs": [
    {
     "name": "stdout",
     "output_type": "stream",
     "text": [
      "oxygen='10111' co2='01010' ans=230\n",
      "oxygen='011111101111' co2='100000111000' ans=4273224\n"
     ]
    },
    {
     "data": {
      "text/plain": [
       "4273224"
      ]
     },
     "execution_count": 76,
     "metadata": {},
     "output_type": "execute_result"
    }
   ],
   "source": [
    "def solve_2(inp=test, verbose: bool = False):\n",
    "    data = parse(inp)\n",
    "\n",
    "    oxygen = get_val(data, filter_func=most_common)\n",
    "    co2 = get_val(data, filter_func=least_common)\n",
    "\n",
    "    ans = int(oxygen, 2) * int(co2, 2)\n",
    "\n",
    "    print(f\"{oxygen=} {co2=} {ans=}\")\n",
    "\n",
    "    return ans\n",
    "\n",
    "\n",
    "assert solve_2(test) == 230  # example answer\n",
    "solve_2(inp)"
   ]
  }
 ],
 "metadata": {
  "interpreter": {
   "hash": "05e80629c114734f38bbf4f0933b3cb086fb88e7a033ea564122036abe5c8e40"
  },
  "kernelspec": {
   "display_name": "Python 3 (ipykernel)",
   "language": "python",
   "name": "python3"
  },
  "language_info": {
   "codemirror_mode": {
    "name": "ipython",
    "version": 3
   },
   "file_extension": ".py",
   "mimetype": "text/x-python",
   "name": "python",
   "nbconvert_exporter": "python",
   "pygments_lexer": "ipython3",
   "version": "3.10.0"
  }
 },
 "nbformat": 4,
 "nbformat_minor": 4
}
