{
 "cells": [
  {
   "cell_type": "code",
   "execution_count": 14,
   "metadata": {},
   "outputs": [],
   "source": [
    "import utils\n",
    "import matplotlib.pyplot as plt"
   ]
  },
  {
   "cell_type": "markdown",
   "metadata": {},
   "source": [
    "## Day 1: Sonar Sweep\n",
    "\n",
    "[#](https://adventofcode.com/2021/day/1) "
   ]
  },
  {
   "cell_type": "code",
   "execution_count": 2,
   "metadata": {},
   "outputs": [],
   "source": [
    "test1 = \"\"\"199\n",
    "200\n",
    "208\n",
    "210\n",
    "200\n",
    "207\n",
    "240\n",
    "269\n",
    "260\n",
    "263\n",
    "\"\"\"\n",
    "\n",
    "inp = utils.get_input(1, splitlines=False)"
   ]
  },
  {
   "cell_type": "code",
   "execution_count": 4,
   "metadata": {},
   "outputs": [
    {
     "data": {
      "text/plain": [
       "[199, 200, 208, 210, 200, 207, 240, 269, 260, 263]"
      ]
     },
     "execution_count": 4,
     "metadata": {},
     "output_type": "execute_result"
    }
   ],
   "source": [
    "def parse_1(inp=test1, verbose=False):\n",
    "    return [int(n) for n in inp.splitlines()]\n",
    "\n",
    "data = parse_1()\n",
    "data"
   ]
  },
  {
   "cell_type": "code",
   "execution_count": 6,
   "metadata": {},
   "outputs": [
    {
     "data": {
      "text/plain": [
       "1752"
      ]
     },
     "execution_count": 6,
     "metadata": {},
     "output_type": "execute_result"
    }
   ],
   "source": [
    "def solve_1(inp=test1, verbose=False):\n",
    "    data = parse_1(inp)\n",
    "    count = 0\n",
    "\n",
    "    for i, x in enumerate(data[:-1]):\n",
    "        y = data[i+1]\n",
    "        \n",
    "        if y > x:\n",
    "            count += 1\n",
    "            if verbose: print(x,y, \"+\")\n",
    "        else:\n",
    "            if verbose: print(x,y, \"-\")\n",
    "            \n",
    "    return count\n",
    "    \n",
    "assert solve_1(test1) == 7 # example answer\n",
    "solve_1(inp)"
   ]
  },
  {
   "cell_type": "markdown",
   "metadata": {},
   "source": [
    "## Part 2\n",
    "\n",
    "Instead of looking at two numbers and comparing on to the other, we use a three number sliding window and compare the current sum to the previous one.\n"
   ]
  },
  {
   "cell_type": "markdown",
   "metadata": {},
   "source": [
    "So that should be straightforward:"
   ]
  },
  {
   "cell_type": "code",
   "execution_count": 13,
   "metadata": {},
   "outputs": [
    {
     "data": {
      "text/plain": [
       "1781"
      ]
     },
     "execution_count": 13,
     "metadata": {},
     "output_type": "execute_result"
    }
   ],
   "source": [
    "def solve_1b(inp=test1):\n",
    "    data = parse_1(inp)\n",
    "    count = 0\n",
    "\n",
    "    for i, x in enumerate(data[:-2]):\n",
    "        A = sum(data[i:i+3])\n",
    "        B = sum(data[i+1:i+4])\n",
    "        #print(A, B)\n",
    "        if B > A:\n",
    "            count +=1\n",
    "    return count\n",
    "        \n",
    "    \n",
    "assert solve_1b() == 5\n",
    "solve_1b(inp)"
   ]
  },
  {
   "cell_type": "code",
   "execution_count": null,
   "metadata": {},
   "outputs": [],
   "source": []
  }
 ],
 "metadata": {
  "interpreter": {
   "hash": "05e80629c114734f38bbf4f0933b3cb086fb88e7a033ea564122036abe5c8e40"
  },
  "kernelspec": {
   "display_name": "Python 3 (ipykernel)",
   "language": "python",
   "name": "python3"
  },
  "language_info": {
   "codemirror_mode": {
    "name": "ipython",
    "version": 3
   },
   "file_extension": ".py",
   "mimetype": "text/x-python",
   "name": "python",
   "nbconvert_exporter": "python",
   "pygments_lexer": "ipython3",
   "version": "3.9.7"
  }
 },
 "nbformat": 4,
 "nbformat_minor": 4
}
