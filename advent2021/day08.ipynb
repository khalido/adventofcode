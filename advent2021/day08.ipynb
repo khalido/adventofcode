{
 "cells": [
  {
   "cell_type": "code",
   "execution_count": 117,
   "metadata": {},
   "outputs": [],
   "source": [
    "from typing import NamedTuple\n",
    "\n",
    "import matplotlib.pyplot as plt\n",
    "import numpy as np\n",
    "import utils"
   ]
  },
  {
   "cell_type": "markdown",
   "metadata": {},
   "source": [
    "## Day 8: Seven Segment Search\n",
    "\n",
    "[#](https://adventofcode.com/2021/day/8) "
   ]
  },
  {
   "cell_type": "code",
   "execution_count": 20,
   "metadata": {},
   "outputs": [],
   "source": [
    "test: str = \"\"\"acedgfb cdfbe gcdfa fbcad dab cefabd cdfgeb eafb cagedb ab | cdfeb fcadb cdfeb cdbaf\n",
    "\"\"\"\n",
    "\n",
    "raw_inp = utils.get_input(8, splitlines=False)"
   ]
  },
  {
   "cell_type": "code",
   "execution_count": 148,
   "metadata": {},
   "outputs": [
    {
     "data": {
      "text/plain": [
       "'.'"
      ]
     },
     "execution_count": 148,
     "metadata": {},
     "output_type": "execute_result"
    }
   ],
   "source": [
    "grid = \".\"\n",
    "grid"
   ]
  },
  {
   "cell_type": "code",
   "execution_count": 172,
   "metadata": {},
   "outputs": [
    {
     "data": {
      "text/plain": [
       "array([[1, 1, 1, 1, 1, 1],\n",
       "       [1, 1, 1, 1, 1, 1],\n",
       "       [1, 1, 1, 1, 1, 1],\n",
       "       [1, 1, 1, 1, 1, 1],\n",
       "       [1, 1, 1, 1, 1, 1],\n",
       "       [1, 1, 1, 1, 1, 1],\n",
       "       [1, 1, 1, 1, 1, 1]])"
      ]
     },
     "execution_count": 172,
     "metadata": {},
     "output_type": "execute_result"
    }
   ],
   "source": [
    "grid = np.zeros((y, x), dtype=int)\n",
    "\n",
    "grid.fill(1)\n",
    "grid"
   ]
  },
  {
   "cell_type": "code",
   "execution_count": 218,
   "metadata": {},
   "outputs": [
    {
     "data": {
      "text/plain": [
       "<AxesSubplot:title={'center':'abc'}>"
      ]
     },
     "execution_count": 218,
     "metadata": {},
     "output_type": "execute_result"
    },
    {
     "data": {
      "image/png": "[encoded data removed]",
      "text/plain": [
       "<Figure size 288x360 with 1 Axes>"
      ]
     },
     "metadata": {
      "needs_background": "light"
     },
     "output_type": "display_data"
    }
   ],
   "source": [
    "class Grid:\n",
    "    inp: str = \"\"\n",
    "    x, y = 6, 7\n",
    "    grid = np.zeros((y, x), dtype=int)\n",
    "    \n",
    "    def reset(self):\n",
    "        self.grid.fill(0)\n",
    "        \n",
    "    def turn_on(self, segment):\n",
    "        match segment:\n",
    "            case \"a\":\n",
    "                self.grid[0, 1:5] = 1\n",
    "            case \"b\":\n",
    "                self.grid[1:3, 0] = 1\n",
    "            case \"c\":\n",
    "                self.grid[1:3, 5] = 1\n",
    "            case \"d\":\n",
    "                self.grid[3, 1:5] = 1\n",
    "            case \"e\":\n",
    "                self.grid[4:6, 0] = 1\n",
    "            case \"f\":\n",
    "                self.grid[4:6, 5] = 1\n",
    "            case \"g\":\n",
    "                self.grid[6, 1:5] = 1\n",
    "                \n",
    "    \n",
    "    def show(self, inp: str):\n",
    "        self.reset()\n",
    "        self.inp = inp\n",
    "        for segment in inp:\n",
    "            self.turn_on(segment)\n",
    "            \n",
    "    def display(self, ax=None):\n",
    "        \"\"\"shows as an image or returns it as an ax obj\"\"\"\n",
    "        if ax:\n",
    "            pass\n",
    "        else:\n",
    "            fig, ax = plt.subplots(figsize=(4, 5))\n",
    "        \n",
    "        ax.imshow(self.grid)\n",
    "        ax.set_axis_off()\n",
    "        ax.set_title(f\"{self.inp}\")\n",
    "        return ax\n",
    "                    \n",
    "                \n",
    "    \n",
    "g = Grid()\n",
    "\n",
    "g.show(\"abc\")\n",
    "g.display()"
   ]
  },
  {
   "cell_type": "code",
   "execution_count": 219,
   "metadata": {},
   "outputs": [
    {
     "data": {
      "image/png": "[encoded data removed]",
      "text/plain": [
       "<Figure size 864x1728 with 4 Axes>"
      ]
     },
     "metadata": {
      "needs_background": "light"
     },
     "output_type": "display_data"
    }
   ],
   "source": [
    "class Display:\n",
    "    displays = [Grid() for _ in range(4)]\n",
    "\n",
    "    # for d in displays:\n",
    "    #   d.show(\"abc\")\n",
    "\n",
    "    def show(self):\n",
    "        fig, axes = plt.subplots(1, 4, figsize=(12, 24))\n",
    "        for i, ax in enumerate(axes.flatten()):\n",
    "            ax = self.displays[i].display(ax)\n",
    "\n",
    "        plt.show()\n",
    "\n",
    "\n",
    "d = Display()\n",
    "d.show()"
   ]
  },
  {
   "cell_type": "code",
   "execution_count": 221,
   "metadata": {},
   "outputs": [],
   "source": [
    "d.displays[0].show(\"g\")"
   ]
  },
  {
   "cell_type": "code",
   "execution_count": 222,
   "metadata": {},
   "outputs": [
    {
     "data": {
      "image/png": "[encoded data removed]",
      "text/plain": [
       "<Figure size 864x1728 with 4 Axes>"
      ]
     },
     "metadata": {
      "needs_background": "light"
     },
     "output_type": "display_data"
    }
   ],
   "source": [
    "d.show()"
   ]
  },
  {
   "cell_type": "code",
   "execution_count": 198,
   "metadata": {},
   "outputs": [
    {
     "data": {
      "image/png": "[encoded data removed]",
      "text/plain": [
       "<Figure size 864x1728 with 4 Axes>"
      ]
     },
     "metadata": {
      "needs_background": "light"
     },
     "output_type": "display_data"
    }
   ],
   "source": [
    "fig, axes = plt.subplots(1, 4, figsize=(12, 24))\n",
    "for ax in axes.flatten():\n",
    "    ax = g.display(ax)\n",
    "\n",
    "plt.show()"
   ]
  },
  {
   "cell_type": "code",
   "execution_count": 143,
   "metadata": {},
   "outputs": [
    {
     "data": {
      "text/plain": [
       "array([['.', 'a', 'a', 'a', 'a', '.'],\n",
       "       ['b', '.', '.', '.', '.', 'c'],\n",
       "       ['b', '.', '.', '.', '.', 'c'],\n",
       "       ['.', 'd', 'd', 'd', 'd', '.'],\n",
       "       ['e', '.', '.', '.', '.', 'f'],\n",
       "       ['e', '.', '.', '.', '.', 'f'],\n",
       "       ['.', 'g', 'g', 'g', 'g', '.']], dtype='<U1')"
      ]
     },
     "execution_count": 143,
     "metadata": {},
     "output_type": "execute_result"
    }
   ],
   "source": [
    "x, y = 6, 7\n",
    "grid = np.full((y, x), fill_value=\".\")\n",
    "grid[0, 1:5] = \"a\"\n",
    "grid[1:3, 0] = \"b\"\n",
    "grid[1:3, 5] = \"c\"\n",
    "grid[3, 1:5] = \"d\"\n",
    "grid[4:6, 0] = \"e\"\n",
    "grid[4:6, 5] = \"f\"\n",
    "grid[6, 1:5] = \"g\"\n",
    "\n",
    "\n",
    "grid"
   ]
  },
  {
   "cell_type": "code",
   "execution_count": 118,
   "metadata": {},
   "outputs": [
    {
     "data": {
      "text/plain": [
       "(['acedgfb',\n",
       "  'cdfbe',\n",
       "  'gcdfa',\n",
       "  'fbcad',\n",
       "  'dab',\n",
       "  'cefabd',\n",
       "  'cdfgeb',\n",
       "  'eafb',\n",
       "  'cagedb',\n",
       "  'ab'],\n",
       " ['cdfeb', 'fcadb', 'cdfeb', 'cdbaf'])"
      ]
     },
     "execution_count": 118,
     "metadata": {},
     "output_type": "execute_result"
    }
   ],
   "source": [
    "def parse(inp=test, verbose=False):\n",
    "    data = []\n",
    "    for line in inp.splitlines():\n",
    "        digits, output = line.split(\" | \")\n",
    "\n",
    "        data.append((digits.split(\" \"), output.split(\" \")))\n",
    "    return data\n",
    "\n",
    "\n",
    "data = parse()\n",
    "data[0]"
   ]
  },
  {
   "cell_type": "code",
   "execution_count": 31,
   "metadata": {},
   "outputs": [
    {
     "data": {
      "text/plain": [
       "(['acedgfb',\n",
       "  'cdfbe',\n",
       "  'gcdfa',\n",
       "  'fbcad',\n",
       "  'dab',\n",
       "  'cefabd',\n",
       "  'cdfgeb',\n",
       "  'eafb',\n",
       "  'cagedb',\n",
       "  'ab'],\n",
       " ['cdfeb', 'fcadb', 'cdfeb', 'cdbaf'])"
      ]
     },
     "execution_count": 31,
     "metadata": {},
     "output_type": "execute_result"
    }
   ],
   "source": [
    "digits, output = data[0]\n",
    "digits, output`"
   ]
  },
  {
   "cell_type": "code",
   "execution_count": null,
   "metadata": {},
   "outputs": [],
   "source": [
    "def solve(inp=test, verbose: bool = False):\n",
    "    data = parse(inp)\n",
    "\n",
    "    return None\n",
    "\n",
    "\n",
    "# assert solve(test) ==  # example answer\n",
    "solve(raw_inp)"
   ]
  },
  {
   "cell_type": "markdown",
   "metadata": {},
   "source": [
    "## Part 2\n",
    "\n"
   ]
  },
  {
   "cell_type": "code",
   "execution_count": null,
   "metadata": {},
   "outputs": [],
   "source": [
    "def solve_2(inp=test, verbose: bool = False):\n",
    "    data = parse(inp)\n",
    "\n",
    "    return None\n",
    "\n",
    "\n",
    "# assert solve_2(test) ==  # example answer\n",
    "solve_2(raw_inp)"
   ]
  },
  {
   "cell_type": "markdown",
   "metadata": {},
   "source": [
    "open 7 days a week:https://goo.gl/maps/idcdLcAVTh5bT5Ln7"
   ]
  },
  {
   "cell_type": "code",
   "execution_count": 64,
   "metadata": {},
   "outputs": [],
   "source": []
  },
  {
   "cell_type": "code",
   "execution_count": 69,
   "metadata": {},
   "outputs": [],
   "source": [
    "# assumptions\n",
    "\n",
    "margins = np.arange(0.1, 0.4, 0.05)\n",
    "tax_rate = 0.29  # FBR\n",
    "income_tax = 6943344  # Actual tax paid"
   ]
  },
  {
   "cell_type": "code",
   "execution_count": 77,
   "metadata": {},
   "outputs": [
    {
     "name": "stdout",
     "output_type": "stream",
     "text": [
      "profit=23,942,566\n",
      "profit=23,942,566 revenue=239,425,655\n",
      "daily=655,961\n",
      "profit=23,942,566 revenue=159,617,103\n",
      "daily=437,307\n",
      "profit=23,942,566 revenue=119,712,828\n",
      "daily=327,980\n",
      "profit=23,942,566 revenue=95,770,262\n",
      "daily=262,384\n",
      "profit=23,942,566 revenue=79,808,552\n",
      "daily=218,654\n",
      "profit=23,942,566 revenue=68,407,330\n",
      "daily=187,417\n",
      "profit=23,942,566 revenue=59,856,414\n",
      "daily=163,990\n"
     ]
    }
   ],
   "source": [
    "daily_revenue = []\n",
    "profit = income_tax / tax_rate\n",
    "print(f\"{profit=:,.0f}\")\n",
    "\n",
    "for margin in margins:\n",
    "\n",
    "    revenue = profit / margin\n",
    "    print(f\"{profit=:,.0f} {revenue=:,.0f}\")\n",
    "\n",
    "    daily = revenue / 365  # open 7 days a week\n",
    "    print(f\"{daily=:,.0f}\")\n",
    "    daily_revenue.append(daily)"
   ]
  },
  {
   "cell_type": "code",
   "execution_count": 99,
   "metadata": {},
   "outputs": [
    {
     "data": {
      "text/plain": [
       "['0.1', '0.2', '0.2', '0.3', '0.3', '0.4', '0.4']"
      ]
     },
     "execution_count": 99,
     "metadata": {},
     "output_type": "execute_result"
    }
   ],
   "source": [
    "[f\"{margin:,.1f}\" for margin in margins]"
   ]
  },
  {
   "cell_type": "code",
   "execution_count": 116,
   "metadata": {},
   "outputs": [
    {
     "data": {
      "image/png": "[encoded data removed]",
      "text/plain": [
       "<Figure size 576x432 with 1 Axes>"
      ]
     },
     "metadata": {
      "needs_background": "light"
     },
     "output_type": "display_data"
    }
   ],
   "source": [
    "fig, ax = plt.subplots(figsize=(8, 6))\n",
    "bar = ax.bar(margins, daily_revenue, label=\"Revenue as per income tax\", width=0.04)\n",
    "\n",
    "ax.bar_label(bar, labels=[f\"{round(rev):,.0f}\" for rev in daily_revenue])\n",
    "\n",
    "ax.set_title(\"Daily Revenue against margins\")\n",
    "ax.set_ylabel(\"Daily Revenue\")\n",
    "ax.set_xlabel(\"Margins\")\n",
    "# ax.set_ylabel([f\"{rev:,.0f}\" for rev in daily_revenue])\n",
    "\n",
    "ax.legend()\n",
    "plt.show()"
   ]
  },
  {
   "cell_type": "code",
   "execution_count": null,
   "metadata": {},
   "outputs": [],
   "source": []
  }
 ],
 "metadata": {
  "interpreter": {
   "hash": "05e80629c114734f38bbf4f0933b3cb086fb88e7a033ea564122036abe5c8e40"
  },
  "kernelspec": {
   "display_name": "Python 3 (ipykernel)",
   "language": "python",
   "name": "python3"
  },
  "language_info": {
   "codemirror_mode": {
    "name": "ipython",
    "version": 3
   },
   "file_extension": ".py",
   "mimetype": "text/x-python",
   "name": "python",
   "nbconvert_exporter": "python",
   "pygments_lexer": "ipython3",
   "version": "3.10.0"
  }
 },
 "nbformat": 4,
 "nbformat_minor": 4
}
