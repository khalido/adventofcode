{
 "cells": [
  {
   "cell_type": "code",
   "execution_count": 1,
   "metadata": {},
   "outputs": [],
   "source": [
    "from typing import NamedTuple\n",
    "from collections import defaultdict\n",
    "from dataclasses import dataclass\n",
    "\n",
    "import matplotlib.pyplot as plt\n",
    "import numpy as np\n",
    "import utils"
   ]
  },
  {
   "cell_type": "markdown",
   "metadata": {},
   "source": [
    "## Day 8: Seven Segment Search\n",
    "\n",
    "[#](https://adventofcode.com/2021/day/8) We have 7 segment (a-g) displays showing us a digit, figure out which pattern is what digit (0-9).\n",
    "\n",
    "* 1 uses 2 segements\n",
    "* 4 is the only digit using 4 segments\n",
    "* 7 is the only digit using 3 segments\n",
    "* 8 uses all 7 segments\n",
    "* the digits besides 1,4,7 don't use unique num of segments\n",
    "\n",
    "the non unique segments are:\n",
    "\n",
    "* 2,3,5: 5 segments\n",
    "* 0,6,9: 6 segments\n",
    "\n",
    "the digits look like:\n",
    "\n",
    "```\n",
    "  0:      1:      2:      3:      4:\n",
    " aaaa    ....    aaaa    aaaa    ....\n",
    "b    c  .    c  .    c  .    c  b    c\n",
    "b    c  .    c  .    c  .    c  b    c\n",
    " ....    ....    dddd    dddd    dddd\n",
    "e    f  .    f  e    .  .    f  .    f\n",
    "e    f  .    f  e    .  .    f  .    f\n",
    " gggg    ....    gggg    gggg    ....\n",
    "\n",
    "  5:      6:      7:      8:      9:\n",
    " aaaa    aaaa    aaaa    aaaa    aaaa\n",
    "b    .  b    .  .    c  b    c  b    c\n",
    "b    .  b    .  .    c  b    c  b    c\n",
    " dddd    dddd    ....    dddd    dddd\n",
    ".    f  e    f  .    f  e    f  .    f\n",
    ".    f  e    f  .    f  e    f  .    f\n",
    " gggg    gggg    ....    gggg    gggg\n",
    "```"
   ]
  },
  {
   "cell_type": "markdown",
   "metadata": {},
   "source": [
    "The inputs are 10 strings giving us the segements for each unique digit, than after the ` | ` sepertor 4 strings giving us the output."
   ]
  },
  {
   "cell_type": "code",
   "execution_count": 2,
   "metadata": {},
   "outputs": [
    {
     "name": "stdout",
     "output_type": "stream",
     "text": [
      "[(['abcdefg', 'bcdef', 'acdfg', 'abcdf', 'abd', 'abcdef', 'bcdefg', 'abef', 'abcdeg', 'ab'], ['bcdef', 'abcdf', 'bcdef', 'abcdf'])]\n"
     ]
    }
   ],
   "source": [
    "test: str = \"\"\"acedgfb cdfbe gcdfa fbcad dab cefabd cdfgeb eafb cagedb ab | cdfeb fcadb cdfeb cdbaf\n",
    "\"\"\"\n",
    "\n",
    "test2: str = \"\"\"be cfbegad cbdgef fgaecd cgeb fdcge agebfd fecdb fabcd edb | fdgacbe cefdb cefbgd gcbe\n",
    "edbfga begcd cbg gc gcadebf fbgde acbgfd abcde gfcbed gfec | fcgedb cgb dgebacf gc\n",
    "fgaebd cg bdaec gdafb agbcfd gdcbef bgcad gfac gcb cdgabef | cg cg fdcagb cbg\n",
    "fbegcd cbd adcefb dageb afcb bc aefdc ecdab fgdeca fcdbega | efabcd cedba gadfec cb\n",
    "aecbfdg fbg gf bafeg dbefa fcge gcbea fcaegb dgceab fcbdga | gecf egdcabf bgf bfgea\n",
    "fgeab ca afcebg bdacfeg cfaedg gcfdb baec bfadeg bafgc acf | gebdcfa ecba ca fadegcb\n",
    "dbcfg fgd bdegcaf fgec aegbdf ecdfab fbedc dacgb gdcebf gf | cefg dcbef fcge gbcadfe\n",
    "bdfegc cbegaf gecbf dfcage bdacg ed bedf ced adcbefg gebcd | ed bcgafe cdgba cbgef\n",
    "egadfb cdbfeg cegd fecab cgb gbdefca cg fgcdab egfdb bfceg | gbdfcae bgc cg cgb\n",
    "gcafb gcf dcaebfg ecagb gf abcdeg gaef cafbge fdbac fegbdc | fgae cfgab fg bagce\"\"\"\n",
    "\n",
    "raw_inp = utils.get_input(8, splitlines=False)\n",
    "\n",
    "def parse(inp=test, verbose=False):\n",
    "    \"\"\"takes in the raw input and returns a list of tuples\n",
    "        ([segments x 10], [output x 4])\"\"\"\n",
    "    data = []\n",
    "    for line in inp.splitlines():\n",
    "        digits, output = line.split(\" | \")\n",
    "        # sorting them since of course they will come in jumbled\n",
    "        digits = [\"\".join(sorted(d)) for d in digits.split(\" \")]\n",
    "        output = [\"\".join(sorted(d)) for d in output.split(\" \")]\n",
    "\n",
    "        data.append((digits, output))\n",
    "    return data\n",
    "\n",
    "print(parse())"
   ]
  },
  {
   "cell_type": "markdown",
   "metadata": {},
   "source": [
    "Part 1 is easy - just loop through all the outputs annd count the ones we're looking for. So I'm not going to bother figuring out anything for part 1 as we can just count the outputs instead for all the unique digits:"
   ]
  },
  {
   "cell_type": "code",
   "execution_count": 3,
   "metadata": {},
   "outputs": [
    {
     "data": {
      "text/plain": [
       "534"
      ]
     },
     "execution_count": 3,
     "metadata": {},
     "output_type": "execute_result"
    }
   ],
   "source": [
    "def solve(inp=test, verbose: bool = False):\n",
    "    \"\"\"counts num of unique segments in output\"\"\"\n",
    "    data = parse(inp)\n",
    "\n",
    "    segs_seen = defaultdict(int) # holding segments seen\n",
    "\n",
    "    for digits, output in data:\n",
    "        for n in output:\n",
    "            segs_seen[len(n)] += 1\n",
    "\n",
    "    if verbose: print(segs_seen)\n",
    "\n",
    "    return sum([segs_seen[num] for num in (2,4,3,7)])\n",
    "\n",
    "\n",
    "assert solve(test2) == 26\n",
    "solve(raw_inp)"
   ]
  },
  {
   "cell_type": "markdown",
   "metadata": {},
   "source": [
    "## Part 2\n",
    "\n",
    "So before we didn't have to figure out how exactly the wires are crossed. So now we need to to that to figure out all the digits, not just the ones with using unique num of segments.\n",
    "\n",
    "There would be a mathematical way to do this, but since we're only dealing with 10 digits I'm going with the stare at the problem till it makes sense approach.\n",
    "\n",
    "Listing the num of segments:\n",
    "\n",
    "* 2 segments: 1\n",
    "* 3 segments: 7\n",
    "* 4 segments: 4\n",
    "* 5 segments: 2,3,5\n",
    "* 6 segments: 0,6,9\n",
    "* 7 segments: 8\n",
    "\n",
    "For the 5 segment digits, lets see how they overlap with the 4 segment unique number 4.\n",
    "\n",
    "* the number 2 has 3 segments in commonn with 4, 3 and 5 have 3. "
   ]
  },
  {
   "cell_type": "code",
   "execution_count": 13,
   "metadata": {},
   "outputs": [
    {
     "name": "stdout",
     "output_type": "stream",
     "text": [
      "10 keys figured out\n",
      " 0: abcdeg \n",
      " 1: ab     \n",
      " 2: acdfg  \n",
      " 3: abcdf  \n",
      " 4: abef   \n",
      " 5: bcdef  \n",
      " 6: bcdefg \n",
      " 7: abd    \n",
      " 8: abcdefg\n",
      " 9: abcdef \n",
      "{'abcdefg': 8, 'abd': 7, 'abef': 4, 'ab': 1, 'abcdeg': 0, 'acdfg': 2, 'abcdf': 3, 'bcdef': 5, 'bcdefg': 6, 'abcdef': 9}\n"
     ]
    }
   ],
   "source": [
    "def codebreak(segments, verbose=False):\n",
    "    \"\"\"takes in string of ten digits and returns a dict of string to num\"\"\"\n",
    "    str_to_num = {} # translates string to digit\n",
    "\n",
    "    #first handle 1,4,7,8 nums which have unique number of segments\n",
    "    for digit in segments:\n",
    "        match (n := len(digit)):\n",
    "            case 2:\n",
    "                str_to_num[digit] = 1\n",
    "            case 3:\n",
    "                str_to_num[digit] = 7\n",
    "            case 4:\n",
    "                str_to_num[digit] = 4\n",
    "            case 7:\n",
    "                str_to_num[digit] = 8\n",
    "\n",
    "    num_to_str = {v: k for k, v in str_to_num.items()}\n",
    "\n",
    "    # deal with five segment numbers\n",
    "    five_segments = [digit for digit in segments if len(digit)==5]\n",
    "\n",
    "    # num 2 has two segments in common with with 4\n",
    "    two = [d for d in five_segments if len(set(num_to_str[4]) & set(d))==2][0]\n",
    "\n",
    "    # num 3 has 4 segments in common with 2\n",
    "    three = [d for d in five_segments if len(set(two) & set(d))==4][0]\n",
    "\n",
    "    # num 5 has 3 segments in common with 2\n",
    "    five = [d for d in five_segments if len(set(two) & set(d))==3][0]\n",
    "\n",
    "    # six segment numbers 0,6,9\n",
    "    six_segments = [digit for digit in segments if len(digit)==6]\n",
    "\n",
    "    # num 6 out of 0,6,9 has only 1 digit in common with 1\n",
    "    six = [d for d in six_segments if len(set(num_to_str[1]) & set(d))==1][0]\n",
    "\n",
    "    # we have now only 0 and 9 left\n",
    "    # the number 0 overlaps 4 times with 9 and 3 times with zero\n",
    "    nine = [d for d in six_segments if len(set(num_to_str[4]) & set(d))==4][0]\n",
    "    #zero = [d for d in six_segments if len(set(num_to_str[4]) & set(d))==3][0]\n",
    "    # now zero is just the last remaining six segment\n",
    "    zero = (set((six,nine)) ^ set(six_segments)).pop()\n",
    "\n",
    "    # add these new vals to our dicts\n",
    "    for k, v in zip((zero, two, three, five, six, nine), (0, 2, 3, 5, 6, 9)):\n",
    "        str_to_num[k] = v\n",
    "        num_to_str[v] = k\n",
    "\n",
    "    assert len(str_to_num) == 10, \"Don't have ten keys in str_to_num\" \n",
    "\n",
    "    # print the status\n",
    "    if verbose:\n",
    "        print(f\"{len(num_to_str)} keys figured out\")\n",
    "        for n in range(10):\n",
    "            try:\n",
    "                print(f\"{n:2}: {num_to_str[n]:7}\")\n",
    "            except:\n",
    "                pass\n",
    "\n",
    "    return str_to_num\n",
    "\n",
    "data = parse(test)\n",
    "segments, out = data[0]\n",
    "str_to_num = codebreak(segments, True)\n",
    "print(str_to_num)\n"
   ]
  },
  {
   "cell_type": "code",
   "execution_count": 12,
   "metadata": {},
   "outputs": [
    {
     "data": {
      "text/plain": [
       "1070188"
      ]
     },
     "execution_count": 12,
     "metadata": {},
     "output_type": "execute_result"
    }
   ],
   "source": [
    "def solve_2(inp=test, total:int=0, verbose: bool = False):\n",
    "    data = parse(inp)\n",
    "    for row in data:\n",
    "        segments, out = row\n",
    "        str_to_num = codebreak(segments)\n",
    "        num = int(\"\".join([str(str_to_num[n]) for n in out]))\n",
    "        total += num\n",
    "\n",
    "    return total\n",
    "\n",
    "\n",
    "assert solve_2(test2) == 61229 # example answer\n",
    "solve_2(raw_inp)"
   ]
  },
  {
   "cell_type": "markdown",
   "metadata": {},
   "source": [
    "This was an interesting one - initially I looked at and thought I would have to eyeball the patterns to figure out what they meant, but simple logic by looking at the difference in segments was enough.\n",
    "\n",
    "This solution only works for a 7 segment display, a more clever one should be able to scale up or down, but that requires some maths."
   ]
  },
  {
   "cell_type": "markdown",
   "metadata": {},
   "source": [
    "## Display\n",
    "\n",
    "for future visualization"
   ]
  },
  {
   "cell_type": "code",
   "execution_count": 133,
   "metadata": {},
   "outputs": [
    {
     "ename": "NameError",
     "evalue": "name 'self' is not defined",
     "output_type": "error",
     "traceback": [
      "\u001b[0;31m---------------------------------------------------------------------------\u001b[0m",
      "\u001b[0;31mNameError\u001b[0m                                 Traceback (most recent call last)",
      "\u001b[1;32m/workspaces/adventofcode/advent2021/day08.ipynb Cell 10'\u001b[0m in \u001b[0;36m<cell line: 1>\u001b[0;34m()\u001b[0m\n\u001b[1;32m      <a href='vscode-notebook-cell://codespaces%2Bkhalido-adventofcode-xgjx49fqpr/workspaces/adventofcode/advent2021/day08.ipynb#ch0000032vscode-remote?line=0'>1</a>\u001b[0m \u001b[39m@dataclass\u001b[39m\n\u001b[0;32m----> <a href='vscode-notebook-cell://codespaces%2Bkhalido-adventofcode-xgjx49fqpr/workspaces/adventofcode/advent2021/day08.ipynb#ch0000032vscode-remote?line=1'>2</a>\u001b[0m \u001b[39mclass\u001b[39;00m \u001b[39mDisplay\u001b[39;00m:\n\u001b[1;32m      <a href='vscode-notebook-cell://codespaces%2Bkhalido-adventofcode-xgjx49fqpr/workspaces/adventofcode/advent2021/day08.ipynb#ch0000032vscode-remote?line=2'>3</a>\u001b[0m     inp: \u001b[39mstr\u001b[39m \u001b[39m=\u001b[39m \u001b[39m\"\u001b[39m\u001b[39m\"\u001b[39m\n\u001b[1;32m      <a href='vscode-notebook-cell://codespaces%2Bkhalido-adventofcode-xgjx49fqpr/workspaces/adventofcode/advent2021/day08.ipynb#ch0000032vscode-remote?line=3'>4</a>\u001b[0m     x, y \u001b[39m=\u001b[39m \u001b[39m6\u001b[39m, \u001b[39m7\u001b[39m\n",
      "\u001b[1;32m/workspaces/adventofcode/advent2021/day08.ipynb Cell 10'\u001b[0m in \u001b[0;36mDisplay\u001b[0;34m()\u001b[0m\n\u001b[1;32m      <a href='vscode-notebook-cell://codespaces%2Bkhalido-adventofcode-xgjx49fqpr/workspaces/adventofcode/advent2021/day08.ipynb#ch0000032vscode-remote?line=5'>6</a>\u001b[0m \u001b[39mdef\u001b[39;00m \u001b[39mmake_display\u001b[39m(\u001b[39mself\u001b[39m):\n\u001b[1;32m      <a href='vscode-notebook-cell://codespaces%2Bkhalido-adventofcode-xgjx49fqpr/workspaces/adventofcode/advent2021/day08.ipynb#ch0000032vscode-remote?line=6'>7</a>\u001b[0m     \u001b[39mself\u001b[39m\u001b[39m.\u001b[39mdigits \u001b[39m=\u001b[39m [\u001b[39mself\u001b[39m\u001b[39m.\u001b[39mmake_digit() \u001b[39mfor\u001b[39;00m _ \u001b[39min\u001b[39;00m \u001b[39mrange\u001b[39m(\u001b[39m4\u001b[39m)]\n\u001b[0;32m----> <a href='vscode-notebook-cell://codespaces%2Bkhalido-adventofcode-xgjx49fqpr/workspaces/adventofcode/advent2021/day08.ipynb#ch0000032vscode-remote?line=8'>9</a>\u001b[0m \u001b[39mself\u001b[39;49m\u001b[39m.\u001b[39mmake_display(\u001b[39mself\u001b[39m)\n\u001b[1;32m     <a href='vscode-notebook-cell://codespaces%2Bkhalido-adventofcode-xgjx49fqpr/workspaces/adventofcode/advent2021/day08.ipynb#ch0000032vscode-remote?line=10'>11</a>\u001b[0m \u001b[39mdef\u001b[39;00m \u001b[39mmake_digit\u001b[39m(\u001b[39mself\u001b[39m):\n\u001b[1;32m     <a href='vscode-notebook-cell://codespaces%2Bkhalido-adventofcode-xgjx49fqpr/workspaces/adventofcode/advent2021/day08.ipynb#ch0000032vscode-remote?line=11'>12</a>\u001b[0m     \u001b[39m\"\"\"makes a blank grid to hold a digit\"\"\"\u001b[39;00m\n",
      "\u001b[0;31mNameError\u001b[0m: name 'self' is not defined"
     ]
    }
   ],
   "source": [
    "@dataclass\n",
    "class Display:\n",
    "    inp: str = \"\"\n",
    "    x, y = 6, 7\n",
    "    \n",
    "    def make_display(self):\n",
    "        self.digits = [self.make_digit() for _ in range(4)]\n",
    "\n",
    "    self.make_display(self)\n",
    "\n",
    "    def make_digit(self):\n",
    "        \"\"\"makes a blank grid to hold a digit\"\"\"\n",
    "        digit = np.full((y,x), \".\")\n",
    "        # blank the mid bits\n",
    "        digit[1:3,1:5] = \" \"\n",
    "        digit[4:6,1:5] = \" \"\n",
    "        return digit\n",
    "        \n",
    "    \n",
    "    def turn_on(self, segment:str, digit:int=0):\n",
    "        match segment:\n",
    "            case \"a\":\n",
    "                self.digits[digit][0, 1:5] = \"a\"\n",
    "            case \"b\":\n",
    "                self.digits[digit][1:3, 0] = \"b\"\n",
    "            case \"c\":\n",
    "                self.digits[digit][1:3, 5] = \"c\"\n",
    "            case \"d\":\n",
    "                self.digits[digit][3, 1:5] = \"d\"\n",
    "            case \"e\":\n",
    "                self.digits[digit][4:6, 0] = \"e\"\n",
    "            case \"f\":\n",
    "                self.digits[digit][4:6, 5] = \"f\"\n",
    "            case \"g\":\n",
    "                self.digits[digit][6, 1:5] = \"g\"\n",
    "                \n",
    "    \n",
    "    def show(self, inp: str, digit=0):\n",
    "        #self.reset()\n",
    "        self.inp = inp\n",
    "        for segment in inp:\n",
    "            self.turn_on(segment, digit)\n",
    "            \n",
    "    def see(self, ax=None):\n",
    "        \"\"\"shows as an image or returns it as an ax obj\"\"\"\n",
    "        [print(\"\\n\".join(\n",
    "            [\"\".join(row) for row in digit] for digit in self.digits))]\n",
    "                    \n",
    "                \n",
    "    \n",
    "d = Display()\n",
    "\n",
    "d.show(\"abcdefg\", 0)\n",
    "d.see()"
   ]
  }
 ],
 "metadata": {
  "interpreter": {
   "hash": "4f946df053fbf2b937619d3c5458e7af74262f9a954d8797ba0b27400bcafe06"
  },
  "kernelspec": {
   "display_name": "Python 3.10.4 64-bit",
   "language": "python",
   "name": "python3"
  },
  "language_info": {
   "codemirror_mode": {
    "name": "ipython",
    "version": 3
   },
   "file_extension": ".py",
   "mimetype": "text/x-python",
   "name": "python",
   "nbconvert_exporter": "python",
   "pygments_lexer": "ipython3",
   "version": "3.10.4"
  }
 },
 "nbformat": 4,
 "nbformat_minor": 4
}
