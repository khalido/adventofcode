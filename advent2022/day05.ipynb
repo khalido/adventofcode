{
 "cells": [
  {
   "cell_type": "code",
   "execution_count": 1,
   "metadata": {},
   "outputs": [],
   "source": [
    "import utils\n",
    "import re\n",
    "from typing import NamedTuple\n",
    "import numpy as np"
   ]
  },
  {
   "attachments": {},
   "cell_type": "markdown",
   "metadata": {},
   "source": [
    "## Day 5: Supply Stacks\n",
    "\n",
    "[#](https://adventofcode.com/2022/day/5) We have stacks of crates, and a giant crane which can move crates from one stack to the other one at a time. So we have the starting stack of crates, and list of instructions.\n"
   ]
  },
  {
   "cell_type": "code",
   "execution_count": 2,
   "metadata": {},
   "outputs": [],
   "source": [
    "test: str = \"\"\"    [D]    \n",
    "[N] [C]    \n",
    "[Z] [M] [P]\n",
    " 1   2   3 \n",
    "\n",
    "move 1 from 2 to 1\n",
    "move 3 from 1 to 3\n",
    "move 2 from 2 to 1\n",
    "move 1 from 1 to 2\"\"\"\n",
    "\n",
    "inp = utils.get_input(5)"
   ]
  },
  {
   "attachments": {},
   "cell_type": "markdown",
   "metadata": {},
   "source": [
    "Since the input has a state and then the moves to do, seperating the two so its easier to parse:"
   ]
  },
  {
   "cell_type": "code",
   "execution_count": 5,
   "metadata": {},
   "outputs": [
    {
     "name": "stdout",
     "output_type": "stream",
     "text": [
      "    [D]    \n",
      "[N] [C]    \n",
      "[Z] [M] [P]\n",
      " 1   2   3 \n",
      "move 1 from 2 to 1\n",
      "move 3 from 1 to 3\n",
      "move 2 from 2 to 1\n",
      "move 1 from 1 to 2\n"
     ]
    }
   ],
   "source": [
    "state_str, moves_str = test.split(\"\\n\\n\")\n",
    "print(state_str)\n",
    "print(moves_str)"
   ]
  },
  {
   "attachments": {},
   "cell_type": "markdown",
   "metadata": {},
   "source": [
    "I could just use a simple list to represent the move instructions, but this is a good place to use a named tuple so its clearer:"
   ]
  },
  {
   "cell_type": "code",
   "execution_count": 6,
   "metadata": {},
   "outputs": [
    {
     "data": {
      "text/plain": [
       "[Move(crates=1, From=2, To=1),\n",
       " Move(crates=3, From=1, To=3),\n",
       " Move(crates=2, From=2, To=1),\n",
       " Move(crates=1, From=1, To=2)]"
      ]
     },
     "execution_count": 6,
     "metadata": {},
     "output_type": "execute_result"
    }
   ],
   "source": [
    "class Move(NamedTuple):\n",
    "    crates: int\n",
    "    From: int\n",
    "    To: int\n",
    "\n",
    "\n",
    "def parse_moves(moves: str = moves_str, debug=False):\n",
    "    \"\"\"takes a str of moves and returns a list of move tuples\"\"\"\n",
    "    all_moves = []\n",
    "    for move in moves.splitlines():\n",
    "        nums = (int(n) for n in re.findall(\"[0-9]+\", move))\n",
    "        if debug:\n",
    "            print(move)\n",
    "            print(Move(*nums))\n",
    "        all_moves.append(Move(*nums))\n",
    "    return all_moves\n",
    "\n",
    "\n",
    "parse_moves()"
   ]
  },
  {
   "attachments": {},
   "cell_type": "markdown",
   "metadata": {},
   "source": [
    "The moves was easy, the tricky is how to represent the state. I'm going to use numpy here as that makes it easy to grab a column. Its def possible using just python, but would need to write a function to grab a col."
   ]
  },
  {
   "attachments": {},
   "cell_type": "markdown",
   "metadata": {},
   "source": [
    "Numpy makes it easy to grab a column from a list of lists by using `[:, col_num]` on an array."
   ]
  },
  {
   "cell_type": "code",
   "execution_count": 7,
   "metadata": {},
   "outputs": [
    {
     "data": {
      "text/plain": [
       "[[' ', ' ', ' ', ' ', '[', 'D', ']', ' ', ' ', ' ', ' '],\n",
       " ['[', 'N', ']', ' ', '[', 'C', ']', ' ', ' ', ' ', ' '],\n",
       " ['[', 'Z', ']', ' ', '[', 'M', ']', ' ', '[', 'P', ']'],\n",
       " [' ', '1', ' ', ' ', ' ', '2', ' ', ' ', ' ', '3', ' ']]"
      ]
     },
     "execution_count": 7,
     "metadata": {},
     "output_type": "execute_result"
    }
   ],
   "source": [
    "[[char for char in row] for row in state_str.splitlines()]"
   ]
  },
  {
   "cell_type": "code",
   "execution_count": 8,
   "metadata": {},
   "outputs": [
    {
     "name": "stdout",
     "output_type": "stream",
     "text": [
      "1 ['1' 'Z' 'N' ' ']\n",
      "5 ['2' 'M' 'C' 'D']\n",
      "9 ['3' 'P' ' ' ' ']\n"
     ]
    },
    {
     "data": {
      "text/plain": [
       "{1: array(['Z', 'N'], dtype='<U1'),\n",
       " 2: array(['M', 'C', 'D'], dtype='<U1'),\n",
       " 3: array(['P'], dtype='<U1')}"
      ]
     },
     "execution_count": 8,
     "metadata": {},
     "output_type": "execute_result"
    }
   ],
   "source": [
    "def parse_state(state: str = state_str, debug=False):\n",
    "    stacks = {} \n",
    "    state = np.array([[char for char in row] for row in state.splitlines()])\n",
    "\n",
    "    for i in range(1, len(state[0]), 4):\n",
    "        tower = np.flip(np.array(state)[:, i])\n",
    "        if debug:\n",
    "            print(i, tower)\n",
    "\n",
    "        # this is a bit hacky but hey it works\n",
    "        stacks[int(tower[0])] = tower[np.where(tower != \" \")][1:]\n",
    "\n",
    "    return stacks\n",
    "\n",
    "\n",
    "stacks = parse_state(debug=True)\n",
    "stacks"
   ]
  },
  {
   "attachments": {},
   "cell_type": "markdown",
   "metadata": {},
   "source": [
    "All right! so now I can just pop a crate of the end of one stack and append to the other.\n",
    "\n",
    "Putting the above together:"
   ]
  },
  {
   "cell_type": "code",
   "execution_count": 11,
   "metadata": {},
   "outputs": [
    {
     "data": {
      "text/plain": [
       "({1: array(['Z', 'N'], dtype='<U1'),\n",
       "  2: array(['M', 'C', 'D'], dtype='<U1'),\n",
       "  3: array(['P'], dtype='<U1')},\n",
       " [Move(crates=1, From=2, To=1),\n",
       "  Move(crates=3, From=1, To=3),\n",
       "  Move(crates=2, From=2, To=1),\n",
       "  Move(crates=1, From=1, To=2)])"
      ]
     },
     "execution_count": 11,
     "metadata": {},
     "output_type": "execute_result"
    }
   ],
   "source": [
    "def parse(inp=test, verbose=False):\n",
    "    \"\"\"parses input\"\"\" \n",
    "    start_state, moves = inp.split(\"\\n\\n\")\n",
    "    return parse_state(start_state), parse_moves(moves)\n",
    "\n",
    "parse()"
   ]
  },
  {
   "cell_type": "code",
   "execution_count": 16,
   "metadata": {},
   "outputs": [
    {
     "data": {
      "text/plain": [
       "'HBTMTBSDC'"
      ]
     },
     "execution_count": 16,
     "metadata": {},
     "output_type": "execute_result"
    }
   ],
   "source": [
    "def solve_1(inp=test, move_whole_stack=False):\n",
    "    state, moves = parse(inp)\n",
    "\n",
    "    for m in moves:\n",
    "        if move_whole_stack:\n",
    "            state[m.To] = np.append(state[m.To], state[m.From][-m.crates:])\n",
    "        else:\n",
    "            state[m.To] = np.append(state[m.To], state[m.From][-m.crates:][::-1])\n",
    "        state[m.From] = state[m.From][:-m.crates]\n",
    "\n",
    "    return \"\".join([state[key][-1] for key in sorted(state.keys())])\n",
    "\n",
    "assert solve_1() == \"CMZ\"\n",
    "solve_1(inp)"
   ]
  },
  {
   "attachments": {},
   "cell_type": "markdown",
   "metadata": {},
   "source": [
    "## Part 2\n",
    "\n",
    "This is super simple - not instead of a move of multiple crates moving 1 crate at a time, the crane picks up the whole stack of crates and moves it.\n",
    "So this is the same as above except for not reversing the pile of crates moved:\n",
    "\n"
   ]
  },
  {
   "cell_type": "code",
   "execution_count": 19,
   "metadata": {},
   "outputs": [
    {
     "data": {
      "text/plain": [
       "'PQTJRSHWS'"
      ]
     },
     "execution_count": 19,
     "metadata": {},
     "output_type": "execute_result"
    }
   ],
   "source": [
    "assert solve_1(move_whole_stack=True) == \"MCD\"\n",
    "solve_1(inp, move_whole_stack=True)"
   ]
  }
 ],
 "metadata": {
  "kernelspec": {
   "display_name": "Python 3.11.0 ('py311')",
   "language": "python",
   "name": "python3"
  },
  "language_info": {
   "codemirror_mode": {
    "name": "ipython",
    "version": 3
   },
   "file_extension": ".py",
   "mimetype": "text/x-python",
   "name": "python",
   "nbconvert_exporter": "python",
   "pygments_lexer": "ipython3",
   "version": "3.11.0"
  },
  "vscode": {
   "interpreter": {
    "hash": "e02ad82cbb0c499a6a6b0623287fd448fc47250c30ba427c02d2932eb77e7b7d"
   }
  }
 },
 "nbformat": 4,
 "nbformat_minor": 4
}
