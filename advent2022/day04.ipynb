{
 "cells": [
  {
   "cell_type": "code",
   "execution_count": 55,
   "metadata": {},
   "outputs": [],
   "source": [
    "import utils"
   ]
  },
  {
   "attachments": {},
   "cell_type": "markdown",
   "metadata": {},
   "source": [
    "## Day 4: Camp Cleanup\n",
    "\n",
    "[#](https://adventofcode.com/2022/day/4) Each section of the camp has a unique ID, and each elf is assinged a range of IDs to clean up. \n",
    "\n",
    "However, some of the elf ID's overlap. so the elfve pair up and produce a list of section ID pairs.\n",
    "\n"
   ]
  },
  {
   "cell_type": "code",
   "execution_count": 3,
   "metadata": {},
   "outputs": [],
   "source": [
    "test: str = \"\"\"2-4,6-8\n",
    "2-3,4-5\n",
    "5-7,7-9\n",
    "2-8,3-7\n",
    "6-6,4-6\n",
    "2-6,4-8\"\"\"\n",
    "\n",
    "inp = utils.get_input(4)"
   ]
  },
  {
   "attachments": {},
   "cell_type": "markdown",
   "metadata": {},
   "source": [
    "Splitting the input into two lists:"
   ]
  },
  {
   "cell_type": "code",
   "execution_count": 41,
   "metadata": {},
   "outputs": [
    {
     "data": {
      "text/plain": [
       "[['2-4', '6-8'],\n",
       " ['2-3', '4-5'],\n",
       " ['5-7', '7-9'],\n",
       " ['2-8', '3-7'],\n",
       " ['6-6', '4-6'],\n",
       " ['2-6', '4-8']]"
      ]
     },
     "execution_count": 41,
     "metadata": {},
     "output_type": "execute_result"
    }
   ],
   "source": [
    "def parse(inp=test, verbose=False):\n",
    "    \"\"\"parses input\"\"\" \n",
    "    return [row.split(\",\") for row in inp.splitlines()]\n",
    "        \n",
    "data = parse()\n",
    "data"
   ]
  },
  {
   "cell_type": "code",
   "execution_count": 42,
   "metadata": {},
   "outputs": [
    {
     "data": {
      "text/plain": [
       "([2, 3, 4], [6, 7, 8])"
      ]
     },
     "execution_count": 42,
     "metadata": {},
     "output_type": "execute_result"
    }
   ],
   "source": [
    "left, right = data[0]\n",
    "\n",
    "def get_range(assignment: str):\n",
    "    start, stop = [int(i) for i in assignment.split(\"-\")]\n",
    "    return list(range(start, stop+1))\n",
    "\n",
    "get_range(left), get_range(right)"
   ]
  },
  {
   "attachments": {},
   "cell_type": "markdown",
   "metadata": {},
   "source": [
    "Now to figure out if a given pair of ranges fully overlaps:"
   ]
  },
  {
   "cell_type": "code",
   "execution_count": 45,
   "metadata": {},
   "outputs": [
    {
     "data": {
      "text/plain": [
       "444"
      ]
     },
     "execution_count": 45,
     "metadata": {},
     "output_type": "execute_result"
    }
   ],
   "source": [
    "def solve_1(inp=test) -> int:\n",
    "    count: int = 0\n",
    "    data = parse(inp)\n",
    "    \n",
    "    for row in data:\n",
    "        left, right = row\n",
    "        a = get_range(left)\n",
    "        b = get_range(right)\n",
    "\n",
    "        if set(a).issubset(b):\n",
    "            count += 1\n",
    "        elif set(b).issubset(a):\n",
    "            count += 1\n",
    "        else:\n",
    "            pass\n",
    "\n",
    "    return count\n",
    "\n",
    "\n",
    "assert solve_1() == 2\n",
    "solve_1(inp)"
   ]
  },
  {
   "attachments": {},
   "cell_type": "markdown",
   "metadata": {},
   "source": [
    "Putting the above together:"
   ]
  },
  {
   "attachments": {},
   "cell_type": "markdown",
   "metadata": {},
   "source": [
    "## Part 2\n",
    "\n",
    "Now we're testing for any overlap - this is even easier than the above as we can just modify the code to use set intersection:"
   ]
  },
  {
   "cell_type": "code",
   "execution_count": 54,
   "metadata": {},
   "outputs": [
    {
     "data": {
      "text/plain": [
       "801"
      ]
     },
     "execution_count": 54,
     "metadata": {},
     "output_type": "execute_result"
    }
   ],
   "source": [
    "def solve_2(inp=test) -> int:\n",
    "    count: int = 0\n",
    "    data = parse(inp)\n",
    "    \n",
    "    for row in data:\n",
    "        left, right = row\n",
    "        a = get_range(left)\n",
    "        b = get_range(right)\n",
    "\n",
    "        if len(set(a).intersection(b)) > 0:\n",
    "            count += 1\n",
    "\n",
    "    return count\n",
    "\n",
    "\n",
    "assert solve_2() == 4\n",
    "solve_2(inp)"
   ]
  }
 ],
 "metadata": {
  "kernelspec": {
   "display_name": "Python 3.11.0 ('py311')",
   "language": "python",
   "name": "python3"
  },
  "language_info": {
   "codemirror_mode": {
    "name": "ipython",
    "version": 3
   },
   "file_extension": ".py",
   "mimetype": "text/x-python",
   "name": "python",
   "nbconvert_exporter": "python",
   "pygments_lexer": "ipython3",
   "version": "3.11.0"
  },
  "vscode": {
   "interpreter": {
    "hash": "e02ad82cbb0c499a6a6b0623287fd448fc47250c30ba427c02d2932eb77e7b7d"
   }
  }
 },
 "nbformat": 4,
 "nbformat_minor": 4
}
