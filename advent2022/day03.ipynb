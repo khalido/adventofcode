{
 "cells": [
  {
   "cell_type": "code",
   "execution_count": 44,
   "metadata": {},
   "outputs": [],
   "source": [
    "from typing import NamedTuple\n",
    "from enum import Enum\n",
    "import string\n",
    "from dataclasses import dataclass\n",
    "\n",
    "import matplotlib.pyplot as plt\n",
    "import utils"
   ]
  },
  {
   "attachments": {},
   "cell_type": "markdown",
   "metadata": {},
   "source": [
    "## Day 3: Rucksack Reorganization\n",
    "\n",
    "[#](https://adventofcode.com/2022/day/3) Each elf has a rucksack with two compartments, which can store an equal amount of stuff. Each item must go into exactly one compartment, however the packing contains one wrong item per ruckack.\n",
    "\n"
   ]
  },
  {
   "cell_type": "code",
   "execution_count": 3,
   "metadata": {},
   "outputs": [],
   "source": [
    "test: str = \"\"\"vJrwpWtwJgWrhcsFMMfFFhFp\n",
    "jqHRNqRjqzjGDLGLrsFMfFZSrLrFZsSL\n",
    "PmmdzqPrVvPwwTWBwg\n",
    "wMqvLMZHhHMvwLHjbvcjnnSBnvTQFn\n",
    "ttgJtRGJQctTZtZT\n",
    "CrZsJsPPZsGzwwsLwLmpwMDw\"\"\"\n",
    "\n",
    "inp = utils.get_input(3)"
   ]
  },
  {
   "attachments": {},
   "cell_type": "markdown",
   "metadata": {},
   "source": [
    "Splitting the input into two lists:"
   ]
  },
  {
   "attachments": {},
   "cell_type": "markdown",
   "metadata": {},
   "source": [
    "That works well, so putting it in a function:"
   ]
  },
  {
   "cell_type": "code",
   "execution_count": 35,
   "metadata": {},
   "outputs": [
    {
     "data": {
      "text/plain": [
       "[('vJrwpWtwJgWr', 'hcsFMMfFFhFp'),\n",
       " ('jqHRNqRjqzjGDLGL', 'rsFMfFZSrLrFZsSL'),\n",
       " ('PmmdzqPrV', 'vPwwTWBwg'),\n",
       " ('wMqvLMZHhHMvwLH', 'jbvcjnnSBnvTQFn'),\n",
       " ('ttgJtRGJ', 'QctTZtZT'),\n",
       " ('CrZsJsPPZsGz', 'wwsLwLmpwMDw')]"
      ]
     },
     "execution_count": 35,
     "metadata": {},
     "output_type": "execute_result"
    }
   ],
   "source": [
    "def parse(inp=test, verbose=False):\n",
    "    \"\"\"parses input\"\"\"\n",
    "    data = []\n",
    "    for row in inp.splitlines():\n",
    "        mid = len(row) // 2\n",
    "        data.append((row[:mid], row[mid:]))\n",
    "\n",
    "    return data\n",
    "        \n",
    "data = parse()\n",
    "data"
   ]
  },
  {
   "attachments": {},
   "cell_type": "markdown",
   "metadata": {},
   "source": [
    "So since we are finding the one item which occurs in both compartments, sets is the way to go:"
   ]
  },
  {
   "cell_type": "code",
   "execution_count": 48,
   "metadata": {},
   "outputs": [
    {
     "data": {
      "text/plain": [
       "'abcdefghijklmnopqrstuvwxyzABCDEFGHIJKLMNOPQRSTUVWXYZ'"
      ]
     },
     "execution_count": 48,
     "metadata": {},
     "output_type": "execute_result"
    }
   ],
   "source": [
    "letters = string.ascii_letters\n",
    "letters"
   ]
  },
  {
   "attachments": {},
   "cell_type": "markdown",
   "metadata": {},
   "source": [
    "Getting the item score:"
   ]
  },
  {
   "cell_type": "code",
   "execution_count": 59,
   "metadata": {},
   "outputs": [
    {
     "name": "stdout",
     "output_type": "stream",
     "text": [
      "p 16\n",
      "L 38\n",
      "P 42\n",
      "v 22\n",
      "t 20\n",
      "s 19\n"
     ]
    }
   ],
   "source": [
    "for left, right in data:\n",
    "    # there is only one item so we can just pop it:\n",
    "    item = set.intersection(set(left), set(right)).pop()\n",
    "    print(item, letters.index(item)+1)"
   ]
  },
  {
   "attachments": {},
   "cell_type": "markdown",
   "metadata": {},
   "source": [
    "Putting the above together:"
   ]
  },
  {
   "cell_type": "code",
   "execution_count": 63,
   "metadata": {},
   "outputs": [
    {
     "data": {
      "text/plain": [
       "16"
      ]
     },
     "execution_count": 63,
     "metadata": {},
     "output_type": "execute_result"
    }
   ],
   "source": [
    "def get_bag_score(bag) -> int:\n",
    "    \"\"\"get the offending item in both bags\"\"\"\n",
    "    left, right = bag\n",
    "    item = set.intersection(set(left), set(right)).pop()\n",
    "    return letters.index(item) + 1\n",
    "\n",
    "get_bag_score(data[0])"
   ]
  },
  {
   "cell_type": "code",
   "execution_count": 66,
   "metadata": {},
   "outputs": [
    {
     "data": {
      "text/plain": [
       "8515"
      ]
     },
     "execution_count": 66,
     "metadata": {},
     "output_type": "execute_result"
    }
   ],
   "source": [
    "def solve_1(inp=test):\n",
    "    bags = parse(inp)\n",
    "    \n",
    "    scores = [get_bag_score(bag) for bag in bags]\n",
    "    return sum(scores)\n",
    "    \n",
    "assert solve_1() == 157\n",
    "solve_1(inp)"
   ]
  },
  {
   "attachments": {},
   "cell_type": "markdown",
   "metadata": {},
   "source": [
    "## Part 2\n",
    "\n",
    "The elves are divided into groups of 3, and each elf in a group carries a badge identifying their group. e.g if the group badge is item B, then all three elves have item B.\n",
    "\n",
    "So our elves are listed by groups - we need to find each groups badge.\n",
    "\n",
    "This is just using python sets, a lot of sets."
   ]
  },
  {
   "cell_type": "code",
   "execution_count": 98,
   "metadata": {},
   "outputs": [
    {
     "data": {
      "text/plain": [
       "2434"
      ]
     },
     "execution_count": 98,
     "metadata": {},
     "output_type": "execute_result"
    }
   ],
   "source": [
    "def solve_2(inp=test):\n",
    "\n",
    "    bags = parse(inp)\n",
    "    badge_scores = []\n",
    "\n",
    "    for i in range(0, len(bags), 3):\n",
    "        # a list of the set of items in each bag\n",
    "        items = [set(left).union(right) for left, right in bags[i : i + 3]]\n",
    "        \n",
    "        # this only works since we assume only 1 commopn item\n",
    "        badge = set.intersection(*items).pop()\n",
    "        \n",
    "        badge_scores.append(letters.index(badge) + 1)\n",
    "\n",
    "    return sum(badge_scores)\n",
    "\n",
    "\n",
    "assert solve_2() == 70\n",
    "solve_2(inp)"
   ]
  }
 ],
 "metadata": {
  "kernelspec": {
   "display_name": "Python 3.11.0 ('py311')",
   "language": "python",
   "name": "python3"
  },
  "language_info": {
   "codemirror_mode": {
    "name": "ipython",
    "version": 3
   },
   "file_extension": ".py",
   "mimetype": "text/x-python",
   "name": "python",
   "nbconvert_exporter": "python",
   "pygments_lexer": "ipython3",
   "version": "3.11.0"
  },
  "vscode": {
   "interpreter": {
    "hash": "e02ad82cbb0c499a6a6b0623287fd448fc47250c30ba427c02d2932eb77e7b7d"
   }
  }
 },
 "nbformat": 4,
 "nbformat_minor": 4
}
