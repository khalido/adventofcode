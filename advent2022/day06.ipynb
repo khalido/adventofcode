{
 "cells": [
  {
   "cell_type": "code",
   "execution_count": 2,
   "metadata": {},
   "outputs": [],
   "source": [
    "import utils\n",
    "import re\n",
    "from typing import NamedTuple\n",
    "import numpy as np"
   ]
  },
  {
   "attachments": {},
   "cell_type": "markdown",
   "metadata": {},
   "source": [
    "## Day 6: Tuning Trouble\n",
    "\n",
    "[#](https://adventofcode.com/2022/day/6) We have a busted radio and need to lock in to the other elves signal. The signal is a series of random looking chars recevied one at a time. We need to:\n",
    "\n",
    "* detect start of packet marker in the signal stream\n",
    "* the marker is a stream of 4 chars which are all different.\n",
    "\n",
    "We need to report the number of chars from the start of the stream to the end of the 4 char marker."
   ]
  },
  {
   "cell_type": "code",
   "execution_count": 3,
   "metadata": {},
   "outputs": [],
   "source": [
    "test   = \"\"\"mjqjpqmgbljsphdztnvjfqwrcgsmlb\"\"\" # 7\n",
    "test_2 = \"bvwbjplbgvbhsrlpgdmjqwftvncz\" # 5\n",
    "test_3 = \"nppdvjthqldpwncqszvftbrmjlhg\" #6\n",
    "\n",
    "inp = utils.get_input(6)"
   ]
  },
  {
   "attachments": {},
   "cell_type": "markdown",
   "metadata": {},
   "source": [
    "This one seems super simple, as we can just inch only the string testing 4 characters at a time:"
   ]
  },
  {
   "cell_type": "code",
   "execution_count": 23,
   "metadata": {},
   "outputs": [
    {
     "name": "stdout",
     "output_type": "stream",
     "text": [
      "packet marker: jpqm\n",
      "packet marker: vwbj\n",
      "packet marker: pdvj\n",
      "packet marker: gpfj\n"
     ]
    },
    {
     "data": {
      "text/plain": [
       "1896"
      ]
     },
     "execution_count": 23,
     "metadata": {},
     "output_type": "execute_result"
    }
   ],
   "source": [
    "def solve_1(inp=test, marker_length=4):\n",
    "    for i in range(0, len(inp)):\n",
    "        packet_marker = inp[i : i + marker_length]\n",
    "        if len(set(packet_marker)) == marker_length:\n",
    "            print(f\"packet marker: {packet_marker}\")\n",
    "            return i + marker_length\n",
    "\n",
    "\n",
    "assert solve_1(test) == 7\n",
    "assert solve_1(test_2) == 5\n",
    "assert solve_1(test_3) == 6\n",
    "solve_1(inp)"
   ]
  },
  {
   "attachments": {},
   "cell_type": "markdown",
   "metadata": {},
   "source": [
    "Now the above isn't the most efficent, lot of sets. "
   ]
  },
  {
   "attachments": {},
   "cell_type": "markdown",
   "metadata": {},
   "source": [
    "## Part 2\n",
    "\n",
    "The beauty of using functions and putting obvious things as variables is that it makes it easy to solve part 2:\n"
   ]
  },
  {
   "cell_type": "code",
   "execution_count": 29,
   "metadata": {},
   "outputs": [
    {
     "name": "stdout",
     "output_type": "stream",
     "text": [
      "packet marker: qmgbljsphdztnv\n",
      "packet marker: ptdslnzwcjgmvb\n"
     ]
    },
    {
     "data": {
      "text/plain": [
       "3452"
      ]
     },
     "execution_count": 29,
     "metadata": {},
     "output_type": "execute_result"
    }
   ],
   "source": [
    "assert solve_1(test, marker_length=14) == 19\n",
    "solve_1(inp, marker_length=14)"
   ]
  }
 ],
 "metadata": {
  "kernelspec": {
   "display_name": "Python 3.11.0 ('py311')",
   "language": "python",
   "name": "python3"
  },
  "language_info": {
   "codemirror_mode": {
    "name": "ipython",
    "version": 3
   },
   "file_extension": ".py",
   "mimetype": "text/x-python",
   "name": "python",
   "nbconvert_exporter": "python",
   "pygments_lexer": "ipython3",
   "version": "3.11.0"
  },
  "vscode": {
   "interpreter": {
    "hash": "e02ad82cbb0c499a6a6b0623287fd448fc47250c30ba427c02d2932eb77e7b7d"
   }
  }
 },
 "nbformat": 4,
 "nbformat_minor": 4
}
