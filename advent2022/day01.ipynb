{
 "cells": [
  {
   "cell_type": "code",
   "execution_count": 1,
   "metadata": {},
   "outputs": [],
   "source": [
    "from typing import NamedTuple\n",
    "\n",
    "import matplotlib.pyplot as plt\n",
    "import utils"
   ]
  },
  {
   "cell_type": "markdown",
   "metadata": {},
   "source": [
    "## Day 1: Calorie Counting\n",
    "\n",
    "[#](https://adventofcode.com/2022/day/1) We have a group of elves each, and one carrying a bunch of food. We know the calories for each food item (magic? AI?) so now of course we want to figure out how much total calories each elf is carrying."
   ]
  },
  {
   "cell_type": "code",
   "execution_count": 2,
   "metadata": {},
   "outputs": [],
   "source": [
    "test: str = \"\"\"1000\n",
    "2000\n",
    "3000\n",
    "\n",
    "4000\n",
    "\n",
    "5000\n",
    "6000\n",
    "\n",
    "7000\n",
    "8000\n",
    "9000\n",
    "\n",
    "10000\n",
    "\"\"\"\n",
    "\n",
    "inp_1 = utils.get_input(1)"
   ]
  },
  {
   "cell_type": "markdown",
   "metadata": {},
   "source": [
    "So we want a list of elves, where each elf is represented by a list of Calories they are carrying. Now its been a while since I used python lists so had to think about this...\n",
    "\n",
    "* The `strip()` strips any leading text at the start and end of the string\n",
    "* python supports infinitely nesting lists - but it gets really messy, even with the simple example below its a bit hard to read.\n",
    "    * The right side splits the string into a list of lists on the `\\n\\n` character\n",
    "    * the left side takes each string in that list we just created and converts it into a list of ints. So hence get a list of lists.\n",
    "\n",
    "Python can also party it up with a list of lists of lists but thats the point where you want to back off and do something else."
   ]
  },
  {
   "cell_type": "code",
   "execution_count": 3,
   "metadata": {},
   "outputs": [
    {
     "data": {
      "text/plain": [
       "[[1000, 2000, 3000], [4000], [5000, 6000], [7000, 8000, 9000], [10000]]"
      ]
     },
     "execution_count": 3,
     "metadata": {},
     "output_type": "execute_result"
    }
   ],
   "source": [
    "[[int(n) for n in y.splitlines()] for y in test.strip().split(\"\\n\\n\")]"
   ]
  },
  {
   "cell_type": "markdown",
   "metadata": {},
   "source": [
    "Now I could add a `sum()` around the inner list above, but what makes it even more unreadable, plus I want to use a function to solve each AOC problem so I can easily rerun it, and add print statements etc b/w steps."
   ]
  },
  {
   "cell_type": "code",
   "execution_count": 4,
   "metadata": {},
   "outputs": [
    {
     "data": {
      "text/plain": [
       "[6000, 4000, 11000, 24000, 10000]"
      ]
     },
     "execution_count": 4,
     "metadata": {},
     "output_type": "execute_result"
    }
   ],
   "source": [
    "def parse(inp=test, verbose=False):\n",
    "    elven_food = [[int(n) for n in y.splitlines()] for y in inp.strip().split(\"\\n\\n\")]\n",
    "    return [sum(n) for n in elven_food]\n",
    "\n",
    "data = parse()\n",
    "data"
   ]
  },
  {
   "cell_type": "code",
   "execution_count": 5,
   "metadata": {},
   "outputs": [
    {
     "data": {
      "text/plain": [
       "70698"
      ]
     },
     "execution_count": 5,
     "metadata": {},
     "output_type": "execute_result"
    }
   ],
   "source": [
    "def solve(inp=test, verbose: bool = False):\n",
    "    data = parse(inp)\n",
    "    return max(data)\n",
    "\n",
    "\n",
    "assert solve(test) == 24000 # example answer\n",
    "solve(inp_1)"
   ]
  },
  {
   "cell_type": "markdown",
   "metadata": {},
   "source": [
    "## Part 2\n",
    "\n",
    "Find the total calories carried by the top 3 elves.\n",
    "\n",
    "Now this is super simple in python becuase it has `sort` and a easy way to grab the first or last few items from a list.\n"
   ]
  },
  {
   "cell_type": "code",
   "execution_count": 6,
   "metadata": {},
   "outputs": [
    {
     "name": "stdout",
     "output_type": "stream",
     "text": [
      "unsorted: [6000, 4000, 11000, 24000, 10000]\n",
      "sorted:   [4000, 6000, 10000, 11000, 24000]\n"
     ]
    }
   ],
   "source": [
    "data = parse()\n",
    "\n",
    "print(f\"unsorted: {data}\")\n",
    "print(f\"sorted:   {sorted(data)}\")"
   ]
  },
  {
   "cell_type": "markdown",
   "metadata": {},
   "source": [
    "So grabbing the top 3 values is just grabbing the 3 items at the end of the list:"
   ]
  },
  {
   "cell_type": "code",
   "execution_count": 7,
   "metadata": {},
   "outputs": [
    {
     "data": {
      "text/plain": [
       "[10000, 11000, 24000]"
      ]
     },
     "execution_count": 7,
     "metadata": {},
     "output_type": "execute_result"
    }
   ],
   "source": [
    "sorted(data)[-3:]"
   ]
  },
  {
   "cell_type": "markdown",
   "metadata": {},
   "source": [
    "Putting it together:"
   ]
  },
  {
   "cell_type": "code",
   "execution_count": 8,
   "metadata": {},
   "outputs": [
    {
     "data": {
      "text/plain": [
       "206643"
      ]
     },
     "execution_count": 8,
     "metadata": {},
     "output_type": "execute_result"
    }
   ],
   "source": [
    "def solve_2(inp=test, verbose: bool = False):\n",
    "    data = parse(inp)\n",
    "\n",
    "    return sum(sorted(data)[-3:])\n",
    "\n",
    "\n",
    "assert solve_2(test) ==  45000 # example answer\n",
    "solve_2(inp_1)"
   ]
  }
 ],
 "metadata": {
  "kernelspec": {
   "display_name": "Python 3.11.0 ('py311')",
   "language": "python",
   "name": "python3"
  },
  "language_info": {
   "codemirror_mode": {
    "name": "ipython",
    "version": 3
   },
   "file_extension": ".py",
   "mimetype": "text/x-python",
   "name": "python",
   "nbconvert_exporter": "python",
   "pygments_lexer": "ipython3",
   "version": "3.11.0"
  },
  "vscode": {
   "interpreter": {
    "hash": "e02ad82cbb0c499a6a6b0623287fd448fc47250c30ba427c02d2932eb77e7b7d"
   }
  }
 },
 "nbformat": 4,
 "nbformat_minor": 4
}
