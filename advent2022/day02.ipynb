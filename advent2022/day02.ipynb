{
 "cells": [
  {
   "cell_type": "code",
   "execution_count": 11,
   "metadata": {},
   "outputs": [],
   "source": [
    "from typing import NamedTuple\n",
    "from enum import Enum\n",
    "from dataclasses import dataclass\n",
    "\n",
    "import matplotlib.pyplot as plt\n",
    "import utils"
   ]
  },
  {
   "cell_type": "markdown",
   "metadata": {},
   "source": [
    "## Day 2: Rock Paper Scissors\n",
    "\n",
    "[#](https://adventofcode.com/2022/day/2) \n",
    "\n",
    "* Rock defeats Scissors, Scissors defeats Paper, and Paper defeats Rock. Same is a draw.\n",
    "\n",
    "Strategy guide:\n",
    "* 1st col: A for Rock, B for Paper, and C for Scissors\n",
    "* 2nd col: X for Rock, Y for Paper, and Z for Scissors\n",
    "\n",
    "Score for 1 round by adding the score for shape and outcome:\n",
    "* Shape you selected: 1 for Rock, 2 for Paper, 3 for Scissors\n",
    "* Outcome: 0 if you lost, 3 if the round was a draw, and 6 if you won)"
   ]
  },
  {
   "cell_type": "code",
   "execution_count": 12,
   "metadata": {},
   "outputs": [],
   "source": [
    "test: str = \"\"\"A Y\n",
    "B X\n",
    "C Z\"\"\"\n",
    "\n",
    "inp_1 = utils.get_input(2)"
   ]
  },
  {
   "attachments": {},
   "cell_type": "markdown",
   "metadata": {},
   "source": [
    "First up, to parse the input I'm making a list of lists, using the same list comprehension as day 1:"
   ]
  },
  {
   "cell_type": "code",
   "execution_count": 13,
   "metadata": {},
   "outputs": [
    {
     "data": {
      "text/plain": [
       "[['A', 'Y'], ['B', 'X'], ['C', 'Z']]"
      ]
     },
     "execution_count": 13,
     "metadata": {},
     "output_type": "execute_result"
    }
   ],
   "source": [
    "[[n for n in y.split(\" \")] for y in test.strip().splitlines()]"
   ]
  },
  {
   "attachments": {},
   "cell_type": "markdown",
   "metadata": {},
   "source": [
    "That works well, so putting it in a function:"
   ]
  },
  {
   "cell_type": "code",
   "execution_count": 14,
   "metadata": {},
   "outputs": [
    {
     "data": {
      "text/plain": [
       "[['A', 'Y'], ['B', 'X'], ['C', 'Z']]"
      ]
     },
     "execution_count": 14,
     "metadata": {},
     "output_type": "execute_result"
    }
   ],
   "source": [
    "def parse(inp=test, verbose=False):\n",
    "    \"\"\"parses input and returns a list of actions\"\"\"\n",
    "    return [[n for n in y.split(\" \")] for y in inp.strip().splitlines()]\n",
    "\n",
    "data = parse()\n",
    "data"
   ]
  },
  {
   "cell_type": "markdown",
   "metadata": {},
   "source": [
    "Now we need a way to translate the code letters into rocks, papers and scissors, and get a score for the objects. \n",
    "So this is just a simple lookup table, so I've gone with dicts. If there was some logic needed here dataclasses would be more appropriate.\n",
    "\n",
    "To relearn some python tricks, here goes a dict comprehension. With three objects its less readable than just writing out the dict properly, but this was useful as I could make one list, and resuse it in three dicts, ensuring that the spellings were consistent, and I saved a few chars of typing. "
   ]
  },
  {
   "cell_type": "code",
   "execution_count": 21,
   "metadata": {},
   "outputs": [
    {
     "name": "stdout",
     "output_type": "stream",
     "text": [
      "shapes with scores: {'Rock': 1, 'Paper': 2, 'Scissors': 3}\n",
      "cypher for col1: {'A': 'Rock', 'B': 'Paper', 'C': 'Scissors'}\n",
      "cypher for col1: {'X': 'Rock', 'Y': 'Paper', 'Z': 'Scissors'}\n"
     ]
    }
   ],
   "source": [
    "shapes = [\"Rock\", \"Paper\", \"Scissors\"]\n",
    "\n",
    "shape_score = dict(zip(shapes, [1,2,3]))\n",
    "print(f\"shapes with scores: {shape_score}\")\n",
    "\n",
    "cypher_1 = dict(zip([\"A\", \"B\", \"C\"], shapes))\n",
    "print(f\"cypher for col1: {cypher_1}\")\n",
    "\n",
    "cypher_2 = dict(zip([\"X\", \"Y\", \"Z\"], shapes))\n",
    "print(f\"cypher for col1: {cypher_2}\")"
   ]
  },
  {
   "cell_type": "code",
   "execution_count": 38,
   "metadata": {},
   "outputs": [
    {
     "name": "stdout",
     "output_type": "stream",
     "text": [
      "['A', 'Y'] 8\n",
      "['B', 'X'] 1\n",
      "['C', 'Z'] 6\n"
     ]
    }
   ],
   "source": [
    "def game(moves):\n",
    "    \"\"\"plays paper rock scissors and returns a score for player 2\"\"\"\n",
    "    # the move each player makes\n",
    "    p1 = cypher_1[moves[0]]\n",
    "    p2 = cypher_2[moves[1]]\n",
    "\n",
    "    score: int = shape_score[p2]\n",
    "    # start with assuming a loss\n",
    "    win: bool = False\n",
    "\n",
    "    # check for draw\n",
    "    if p1 == p2:\n",
    "        return score + 3\n",
    "\n",
    "    # working through the game from the view of p2 (us)\n",
    "    match p2:\n",
    "        case \"Rock\":\n",
    "            if p1 == \"Scissors\":\n",
    "                win = True\n",
    "        case \"Paper\":\n",
    "            if p1 == \"Rock\":\n",
    "                win = True\n",
    "        case \"Scissors\":\n",
    "            if p1 == \"Paper\":\n",
    "                win = True\n",
    "\n",
    "    return score + (6 * win)\n",
    "\n",
    "\n",
    "for moves in data:\n",
    "    print(moves, game(moves))"
   ]
  },
  {
   "attachments": {},
   "cell_type": "markdown",
   "metadata": {},
   "source": [
    "Putting the above together:"
   ]
  },
  {
   "cell_type": "code",
   "execution_count": 39,
   "metadata": {},
   "outputs": [
    {
     "data": {
      "text/plain": [
       "9651"
      ]
     },
     "execution_count": 39,
     "metadata": {},
     "output_type": "execute_result"
    }
   ],
   "source": [
    "def play_games(inp=test):\n",
    "    total_score = 0\n",
    "    moves = parse(inp)\n",
    "    scores = [game(move) for move in moves]\n",
    "    \n",
    "    return sum(scores)\n",
    "\n",
    "assert play_games(test) == 15\n",
    "play_games(inp_1)"
   ]
  },
  {
   "cell_type": "markdown",
   "metadata": {},
   "source": [
    "## Part 2\n",
    "\n",
    "Now instead of the cypher just being a cypher, the second col is telling us the outcome, and we figure out what to play.\n",
    "\n",
    "> X means you need to lose, Y means you need to end the round in a draw, and Z means you need to win.\n",
    "\n",
    "So updating the cypher for col 2:"
   ]
  },
  {
   "cell_type": "code",
   "execution_count": 34,
   "metadata": {},
   "outputs": [],
   "source": [
    "cypher_3 = {\n",
    "    \"X\": \"Loose\",\n",
    "    \"Y\": \"Draw\",\n",
    "    \"Z\": \"Win\",\n",
    "}"
   ]
  },
  {
   "attachments": {},
   "cell_type": "markdown",
   "metadata": {},
   "source": [
    "An easier way to solve part 2 is to just play the game for each shape, and select the appropirate score - Loose is index 0, Draw is index 1 and Win is index 2. \n",
    "\n",
    "The below just essentially hard codes the answers:"
   ]
  },
  {
   "cell_type": "code",
   "execution_count": 58,
   "metadata": {},
   "outputs": [
    {
     "name": "stdout",
     "output_type": "stream",
     "text": [
      "['A', 'Y'] 4\n",
      "['B', 'X'] 1\n",
      "['C', 'Z'] 7\n"
     ]
    }
   ],
   "source": [
    "def game_2(moves):\n",
    "    \"\"\"plays paper rock scissors and returns a score for player 2\"\"\"\n",
    "    p1 = cypher_1[moves[0]]\n",
    "    p2 = cypher_3[moves[1]]\n",
    "\n",
    "    score: int = 0\n",
    "    # start with assuming a loss\n",
    "    win: bool = False\n",
    "\n",
    "    match p2:\n",
    "        case \"Draw\":\n",
    "            score += shape_score[p1] + 3\n",
    "\n",
    "        case \"Loose\":\n",
    "            match p1:\n",
    "                case \"Rock\":\n",
    "                    score += shape_score[\"Scissors\"]\n",
    "                case \"Paper\":\n",
    "                    score += shape_score[\"Rock\"]\n",
    "                case \"Scissors\":\n",
    "                    score += shape_score[\"Paper\"]\n",
    "\n",
    "        case \"Win\":\n",
    "            win = True\n",
    "            match p1:\n",
    "                case \"Rock\":\n",
    "                    score += shape_score[\"Paper\"]\n",
    "                case \"Paper\":\n",
    "                    score += shape_score[\"Scissors\"]\n",
    "                case \"Scissors\":\n",
    "                    score += shape_score[\"Rock\"]\n",
    "            \n",
    "    \n",
    "    #print(p1, p2, win + 6*win, score)\n",
    "    \n",
    "    return score + (6 * win)\n",
    "\n",
    "\n",
    "for moves in data:\n",
    "    print(moves, game_2(moves))"
   ]
  },
  {
   "cell_type": "markdown",
   "metadata": {},
   "source": [
    "Putting it together:"
   ]
  },
  {
   "cell_type": "code",
   "execution_count": 59,
   "metadata": {},
   "outputs": [
    {
     "data": {
      "text/plain": [
       "10560"
      ]
     },
     "execution_count": 59,
     "metadata": {},
     "output_type": "execute_result"
    }
   ],
   "source": [
    "def play_game_2(inp=test):\n",
    "    total_score = 0\n",
    "    moves = parse(inp)\n",
    "    scores = [game_2(move) for move in moves]\n",
    "    \n",
    "    return sum(scores)\n",
    "\n",
    "assert play_game_2(test) == 12\n",
    "play_game_2(inp_1)"
   ]
  }
 ],
 "metadata": {
  "kernelspec": {
   "display_name": "Python 3.11.0 ('py311')",
   "language": "python",
   "name": "python3"
  },
  "language_info": {
   "codemirror_mode": {
    "name": "ipython",
    "version": 3
   },
   "file_extension": ".py",
   "mimetype": "text/x-python",
   "name": "python",
   "nbconvert_exporter": "python",
   "pygments_lexer": "ipython3",
   "version": "3.11.0"
  },
  "vscode": {
   "interpreter": {
    "hash": "e02ad82cbb0c499a6a6b0623287fd448fc47250c30ba427c02d2932eb77e7b7d"
   }
  }
 },
 "nbformat": 4,
 "nbformat_minor": 4
}
